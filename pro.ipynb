{
 "metadata": {
  "kernelspec": {
   "language": "python",
   "display_name": "Python 3",
   "name": "python3"
  },
  "language_info": {
   "name": "python",
   "version": "3.11.11",
   "mimetype": "text/x-python",
   "codemirror_mode": {
    "name": "ipython",
    "version": 3
   },
   "pygments_lexer": "ipython3",
   "nbconvert_exporter": "python",
   "file_extension": ".py"
  },
  "kaggle": {
   "accelerator": "gpu",
   "dataSources": [
    {
     "sourceId": 11694338,
     "sourceType": "datasetVersion",
     "datasetId": 7339929
    }
   ],
   "dockerImageVersionId": 31011,
   "isInternetEnabled": true,
   "language": "python",
   "sourceType": "notebook",
   "isGpuEnabled": true
  }
 },
 "nbformat_minor": 4,
 "nbformat": 4,
 "cells": [
  {
   "cell_type": "code",
   "source": [
    "import warnings\n",
    "import pandas as pd\n",
    "import torch\n",
    "import lightning.pytorch as pl\n",
    "from lightning.pytorch.callbacks import EarlyStopping, LearningRateMonitor, ModelCheckpoint\n",
    "from pytorch_forecasting import TimeSeriesDataSet, GroupNormalizer\n",
    "from pytorch_forecasting.data import NaNLabelEncoder\n",
    "from pytorch_forecasting.models.deepar import DeepAR\n",
    "from pytorch_forecasting.metrics import NormalDistributionLoss\n",
    "\n",
    "warnings.simplefilter(\"ignore\", category=pd.errors.SettingWithCopyWarning)\n",
    "\n",
    "def main():\n",
    "    pl.seed_everything(42, workers=True)\n",
    "\n",
    "    # 1. 加载和预处理\n",
    "    data = pd.read_csv(\"/kaggle/input/aaplll/stock_data.csv\")\n",
    "    data[\"Date\"] = pd.to_datetime(data[\"Date\"], format=\"%Y/%m/%d\")\n",
    "    data = data.sort_values(\"Date\").reset_index(drop=True)\n",
    "    data[\"time_idx\"] = data.index + 1\n",
    "    data[\"static\"] = data[\"stock_id\"]\n",
    "    \n",
    "    # 提取更多时间特征\n",
    "    data[\"day_of_week\"] = data[\"Date\"].dt.dayofweek\n",
    "    data[\"day_of_week\"] = data[\"day_of_week\"].astype(str)  # 或者：.astype(\"category\")\n",
    "    data[\"day_of_month\"] = data[\"Date\"].dt.day\n",
    "    data[\"week_of_year\"] = data[\"Date\"].dt.isocalendar().week.astype(int)\n",
    "\n",
    "    max_encoder_length = 50\n",
    "    max_prediction_length = 10\n",
    "    training_cutoff = data[\"time_idx\"].max() - (max_encoder_length + max_prediction_length)\n",
    "    \n",
    "    # 2. 定义训练集\n",
    "    training = TimeSeriesDataSet(\n",
    "        data=data[data.time_idx <= training_cutoff],\n",
    "        time_idx=\"time_idx\",\n",
    "        target=\"Close\",\n",
    "        group_ids=[\"stock_id\"],\n",
    "        categorical_encoders={\n",
    "            \"stock_id\": NaNLabelEncoder().fit(data[\"stock_id\"])\n",
    "        },\n",
    "        static_categoricals=[\"static\"],\n",
    "        time_varying_known_categoricals=[\"day_of_week\"],  # 示例\n",
    "        time_varying_known_reals=[\"time_idx\", \"day_of_month\", \"week_of_year\"],  # 示例\n",
    "        time_varying_unknown_reals=[\"Close\"],\n",
    "        min_encoder_length=max_encoder_length,\n",
    "        max_encoder_length=max_encoder_length,\n",
    "        min_prediction_length=max_prediction_length,\n",
    "        max_prediction_length=max_prediction_length,\n",
    "        target_normalizer=GroupNormalizer(groups=[\"stock_id\"], transformation=\"log\"),\n",
    "        add_relative_time_idx=True,\n",
    "        add_target_scales=True,\n",
    "        randomize_length=True,  # 或者 False，看实际情况\n",
    "    )\n",
    "\n",
    "    # 3. 定义验证集\n",
    "    validation_data = data[data.time_idx > training_cutoff]\n",
    "    validation = TimeSeriesDataSet.from_dataset(\n",
    "        training,\n",
    "        validation_data,\n",
    "        stop_randomization=True,\n",
    "    )\n",
    "\n",
    "    train_dataloader = training.to_dataloader(\n",
    "        train=True, batch_size=128, num_workers=20, persistent_workers=True\n",
    "    )\n",
    "    val_dataloader = validation.to_dataloader(\n",
    "        train=False, batch_size=128, num_workers=20, persistent_workers=True\n",
    "    )\n",
    "\n",
    "    # 回调\n",
    "    early_stop_callback = EarlyStopping(\n",
    "        monitor=\"val_loss\", min_delta=1e-4, patience=100, verbose=False, mode=\"min\"\n",
    "    )\n",
    "    lr_logger = LearningRateMonitor()\n",
    "    checkpoint_callback = ModelCheckpoint(\n",
    "        monitor=\"val_loss\",\n",
    "        dirpath=\"checkpoints/\",\n",
    "        filename=\"deepar-{epoch:02d}-{val_loss:.2f}\",\n",
    "        save_top_k=3,\n",
    "        mode=\"min\",\n",
    "    )\n",
    "\n",
    "    # 4. Trainer\n",
    "    trainer = pl.Trainer(\n",
    "        max_epochs=100,\n",
    "        accelerator=\"gpu\", \n",
    "        devices=\"auto\",\n",
    "        precision=\"16-mixed\",  # 尝试混合精度\n",
    "        gradient_clip_val=0.1,\n",
    "        callbacks=[lr_logger, early_stop_callback, checkpoint_callback],\n",
    "    )\n",
    "\n",
    "    # 5. DeepAR 模型\n",
    "    deepar = DeepAR.from_dataset(\n",
    "        training,\n",
    "        learning_rate=0.01,   # 调低初始学习率\n",
    "        hidden_size=128,      # 增大网络容量\n",
    "        dropout=0.1,\n",
    "        loss=NormalDistributionLoss(),\n",
    "        log_interval=10,\n",
    "        log_val_interval=5,\n",
    "    )\n",
    "\n",
    "    print(f\"Number of parameters in network: {deepar.size() / 1e3:.1f}k\")\n",
    "\n",
    "    # 6. 开始训练\n",
    "    trainer.fit(\n",
    "        deepar,\n",
    "        train_dataloaders=train_dataloader,\n",
    "        val_dataloaders=val_dataloader,\n",
    "    )\n",
    "\n",
    "    # 7. 评估\n",
    "    actuals = torch.cat([y for x, (y, weight) in iter(val_dataloader)])\n",
    "    predictions = deepar.predict(val_dataloader)\n",
    "    device = predictions.device\n",
    "    actuals = actuals.to(device)\n",
    "    mae = (actuals - predictions).abs().mean()\n",
    "    print(f\"Mean absolute error of model: {mae.item():.4f}\")\n",
    "\n",
    "if __name__ == '__main__':\n",
    "    main()"
   ],
   "metadata": {
    "_uuid": "8f2839f25d086af736a60e9eeb907d3b93b6e0e5",
    "_cell_guid": "b1076dfc-b9ad-4769-8c92-a6c4dae69d19",
    "trusted": true,
    "execution": {
     "iopub.status.busy": "2025-04-27T14:01:20.940851Z",
     "iopub.execute_input": "2025-04-27T14:01:20.941148Z",
     "iopub.status.idle": "2025-04-27T14:04:06.113555Z",
     "shell.execute_reply.started": "2025-04-27T14:01:20.941125Z",
     "shell.execute_reply": "2025-04-27T14:04:06.112658Z"
    }
   },
   "outputs": [
    {
     "name": "stderr",
     "text": "INFO: Seed set to 42\n/usr/local/lib/python3.11/dist-packages/torch/utils/data/dataloader.py:617: UserWarning: This DataLoader will create 20 worker processes in total. Our suggested max number of worker in current system is 4, which is smaller than what this DataLoader is going to create. Please be aware that excessive worker creation might get DataLoader running slow or even freeze, lower the worker number to avoid potential slowness/freeze if necessary.\n  warnings.warn(\nINFO: Using 16bit Automatic Mixed Precision (AMP)\nINFO: GPU available: True (cuda), used: True\nINFO: TPU available: False, using: 0 TPU cores\nINFO: HPU available: False, using: 0 HPUs\n/usr/local/lib/python3.11/dist-packages/lightning/pytorch/utilities/parsing.py:209: Attribute 'loss' is an instance of `nn.Module` and is already saved during checkpointing. It is recommended to ignore them using `self.save_hyperparameters(ignore=['loss'])`.\n/usr/local/lib/python3.11/dist-packages/lightning/pytorch/utilities/parsing.py:209: Attribute 'logging_metrics' is an instance of `nn.Module` and is already saved during checkpointing. It is recommended to ignore them using `self.save_hyperparameters(ignore=['logging_metrics'])`.\n/usr/local/lib/python3.11/dist-packages/lightning/pytorch/callbacks/model_checkpoint.py:654: Checkpoint directory /kaggle/working/checkpoints exists and is not empty.\nINFO: LOCAL_RANK: 0 - CUDA_VISIBLE_DEVICES: [0]\nINFO: \n  | Name                   | Type                   | Params | Mode \n--------------------------------------------------------------------------\n0 | loss                   | NormalDistributionLoss | 0      | train\n1 | logging_metrics        | ModuleList             | 0      | train\n2 | embeddings             | MultiEmbedding         | 21     | train\n3 | rnn                    | LSTM                   | 204 K  | train\n4 | distribution_projector | Linear                 | 258    | train\n--------------------------------------------------------------------------\n205 K     Trainable params\n0         Non-trainable params\n205 K     Total params\n0.820     Total estimated model params size (MB)\n13        Modules in train mode\n0         Modules in eval mode\n",
     "output_type": "stream"
    },
    {
     "name": "stdout",
     "text": "Number of parameters in network: 205.1k\n",
     "output_type": "stream"
    },
    {
     "output_type": "display_data",
     "data": {
      "text/plain": "Sanity Checking: |          | 0/? [00:00<?, ?it/s]",
      "application/vnd.jupyter.widget-view+json": {
       "version_major": 2,
       "version_minor": 0,
       "model_id": ""
      }
     },
     "metadata": {}
    },
    {
     "name": "stderr",
     "text": "/usr/local/lib/python3.11/dist-packages/lightning/pytorch/loops/fit_loop.py:310: The number of training batches (19) is smaller than the logging interval Trainer(log_every_n_steps=50). Set a lower value for log_every_n_steps if you want to see logs for the training epoch.\n",
     "output_type": "stream"
    },
    {
     "output_type": "display_data",
     "data": {
      "text/plain": "Training: |          | 0/? [00:00<?, ?it/s]",
      "application/vnd.jupyter.widget-view+json": {
       "version_major": 2,
       "version_minor": 0,
       "model_id": "58d575a5c92b4761a989ae60c14a48ae"
      }
     },
     "metadata": {}
    },
    {
     "output_type": "display_data",
     "data": {
      "text/plain": "Validation: |          | 0/? [00:00<?, ?it/s]",
      "application/vnd.jupyter.widget-view+json": {
       "version_major": 2,
       "version_minor": 0,
       "model_id": ""
      }
     },
     "metadata": {}
    },
    {
     "output_type": "display_data",
     "data": {
      "text/plain": "Validation: |          | 0/? [00:00<?, ?it/s]",
      "application/vnd.jupyter.widget-view+json": {
       "version_major": 2,
       "version_minor": 0,
       "model_id": ""
      }
     },
     "metadata": {}
    },
    {
     "output_type": "display_data",
     "data": {
      "text/plain": "Validation: |          | 0/? [00:00<?, ?it/s]",
      "application/vnd.jupyter.widget-view+json": {
       "version_major": 2,
       "version_minor": 0,
       "model_id": ""
      }
     },
     "metadata": {}
    },
    {
     "output_type": "display_data",
     "data": {
      "text/plain": "Validation: |          | 0/? [00:00<?, ?it/s]",
      "application/vnd.jupyter.widget-view+json": {
       "version_major": 2,
       "version_minor": 0,
       "model_id": ""
      }
     },
     "metadata": {}
    },
    {
     "output_type": "display_data",
     "data": {
      "text/plain": "Validation: |          | 0/? [00:00<?, ?it/s]",
      "application/vnd.jupyter.widget-view+json": {
       "version_major": 2,
       "version_minor": 0,
       "model_id": ""
      }
     },
     "metadata": {}
    },
    {
     "output_type": "display_data",
     "data": {
      "text/plain": "Validation: |          | 0/? [00:00<?, ?it/s]",
      "application/vnd.jupyter.widget-view+json": {
       "version_major": 2,
       "version_minor": 0,
       "model_id": ""
      }
     },
     "metadata": {}
    },
    {
     "output_type": "display_data",
     "data": {
      "text/plain": "Validation: |          | 0/? [00:00<?, ?it/s]",
      "application/vnd.jupyter.widget-view+json": {
       "version_major": 2,
       "version_minor": 0,
       "model_id": ""
      }
     },
     "metadata": {}
    },
    {
     "output_type": "display_data",
     "data": {
      "text/plain": "Validation: |          | 0/? [00:00<?, ?it/s]",
      "application/vnd.jupyter.widget-view+json": {
       "version_major": 2,
       "version_minor": 0,
       "model_id": ""
      }
     },
     "metadata": {}
    },
    {
     "output_type": "display_data",
     "data": {
      "text/plain": "Validation: |          | 0/? [00:00<?, ?it/s]",
      "application/vnd.jupyter.widget-view+json": {
       "version_major": 2,
       "version_minor": 0,
       "model_id": ""
      }
     },
     "metadata": {}
    },
    {
     "output_type": "display_data",
     "data": {
      "text/plain": "Validation: |          | 0/? [00:00<?, ?it/s]",
      "application/vnd.jupyter.widget-view+json": {
       "version_major": 2,
       "version_minor": 0,
       "model_id": ""
      }
     },
     "metadata": {}
    },
    {
     "output_type": "display_data",
     "data": {
      "text/plain": "Validation: |          | 0/? [00:00<?, ?it/s]",
      "application/vnd.jupyter.widget-view+json": {
       "version_major": 2,
       "version_minor": 0,
       "model_id": ""
      }
     },
     "metadata": {}
    },
    {
     "output_type": "display_data",
     "data": {
      "text/plain": "Validation: |          | 0/? [00:00<?, ?it/s]",
      "application/vnd.jupyter.widget-view+json": {
       "version_major": 2,
       "version_minor": 0,
       "model_id": ""
      }
     },
     "metadata": {}
    },
    {
     "output_type": "display_data",
     "data": {
      "text/plain": "Validation: |          | 0/? [00:00<?, ?it/s]",
      "application/vnd.jupyter.widget-view+json": {
       "version_major": 2,
       "version_minor": 0,
       "model_id": ""
      }
     },
     "metadata": {}
    },
    {
     "output_type": "display_data",
     "data": {
      "text/plain": "Validation: |          | 0/? [00:00<?, ?it/s]",
      "application/vnd.jupyter.widget-view+json": {
       "version_major": 2,
       "version_minor": 0,
       "model_id": ""
      }
     },
     "metadata": {}
    },
    {
     "output_type": "display_data",
     "data": {
      "text/plain": "Validation: |          | 0/? [00:00<?, ?it/s]",
      "application/vnd.jupyter.widget-view+json": {
       "version_major": 2,
       "version_minor": 0,
       "model_id": ""
      }
     },
     "metadata": {}
    },
    {
     "output_type": "display_data",
     "data": {
      "text/plain": "Validation: |          | 0/? [00:00<?, ?it/s]",
      "application/vnd.jupyter.widget-view+json": {
       "version_major": 2,
       "version_minor": 0,
       "model_id": ""
      }
     },
     "metadata": {}
    },
    {
     "output_type": "display_data",
     "data": {
      "text/plain": "Validation: |          | 0/? [00:00<?, ?it/s]",
      "application/vnd.jupyter.widget-view+json": {
       "version_major": 2,
       "version_minor": 0,
       "model_id": ""
      }
     },
     "metadata": {}
    },
    {
     "output_type": "display_data",
     "data": {
      "text/plain": "Validation: |          | 0/? [00:00<?, ?it/s]",
      "application/vnd.jupyter.widget-view+json": {
       "version_major": 2,
       "version_minor": 0,
       "model_id": ""
      }
     },
     "metadata": {}
    },
    {
     "output_type": "display_data",
     "data": {
      "text/plain": "Validation: |          | 0/? [00:00<?, ?it/s]",
      "application/vnd.jupyter.widget-view+json": {
       "version_major": 2,
       "version_minor": 0,
       "model_id": ""
      }
     },
     "metadata": {}
    },
    {
     "output_type": "display_data",
     "data": {
      "text/plain": "Validation: |          | 0/? [00:00<?, ?it/s]",
      "application/vnd.jupyter.widget-view+json": {
       "version_major": 2,
       "version_minor": 0,
       "model_id": ""
      }
     },
     "metadata": {}
    },
    {
     "output_type": "display_data",
     "data": {
      "text/plain": "Validation: |          | 0/? [00:00<?, ?it/s]",
      "application/vnd.jupyter.widget-view+json": {
       "version_major": 2,
       "version_minor": 0,
       "model_id": ""
      }
     },
     "metadata": {}
    },
    {
     "output_type": "display_data",
     "data": {
      "text/plain": "Validation: |          | 0/? [00:00<?, ?it/s]",
      "application/vnd.jupyter.widget-view+json": {
       "version_major": 2,
       "version_minor": 0,
       "model_id": ""
      }
     },
     "metadata": {}
    },
    {
     "output_type": "display_data",
     "data": {
      "text/plain": "Validation: |          | 0/? [00:00<?, ?it/s]",
      "application/vnd.jupyter.widget-view+json": {
       "version_major": 2,
       "version_minor": 0,
       "model_id": ""
      }
     },
     "metadata": {}
    },
    {
     "output_type": "display_data",
     "data": {
      "text/plain": "Validation: |          | 0/? [00:00<?, ?it/s]",
      "application/vnd.jupyter.widget-view+json": {
       "version_major": 2,
       "version_minor": 0,
       "model_id": ""
      }
     },
     "metadata": {}
    },
    {
     "output_type": "display_data",
     "data": {
      "text/plain": "Validation: |          | 0/? [00:00<?, ?it/s]",
      "application/vnd.jupyter.widget-view+json": {
       "version_major": 2,
       "version_minor": 0,
       "model_id": ""
      }
     },
     "metadata": {}
    },
    {
     "output_type": "display_data",
     "data": {
      "text/plain": "Validation: |          | 0/? [00:00<?, ?it/s]",
      "application/vnd.jupyter.widget-view+json": {
       "version_major": 2,
       "version_minor": 0,
       "model_id": ""
      }
     },
     "metadata": {}
    },
    {
     "output_type": "display_data",
     "data": {
      "text/plain": "Validation: |          | 0/? [00:00<?, ?it/s]",
      "application/vnd.jupyter.widget-view+json": {
       "version_major": 2,
       "version_minor": 0,
       "model_id": ""
      }
     },
     "metadata": {}
    },
    {
     "output_type": "display_data",
     "data": {
      "text/plain": "Validation: |          | 0/? [00:00<?, ?it/s]",
      "application/vnd.jupyter.widget-view+json": {
       "version_major": 2,
       "version_minor": 0,
       "model_id": ""
      }
     },
     "metadata": {}
    },
    {
     "output_type": "display_data",
     "data": {
      "text/plain": "Validation: |          | 0/? [00:00<?, ?it/s]",
      "application/vnd.jupyter.widget-view+json": {
       "version_major": 2,
       "version_minor": 0,
       "model_id": ""
      }
     },
     "metadata": {}
    },
    {
     "output_type": "display_data",
     "data": {
      "text/plain": "Validation: |          | 0/? [00:00<?, ?it/s]",
      "application/vnd.jupyter.widget-view+json": {
       "version_major": 2,
       "version_minor": 0,
       "model_id": ""
      }
     },
     "metadata": {}
    },
    {
     "output_type": "display_data",
     "data": {
      "text/plain": "Validation: |          | 0/? [00:00<?, ?it/s]",
      "application/vnd.jupyter.widget-view+json": {
       "version_major": 2,
       "version_minor": 0,
       "model_id": ""
      }
     },
     "metadata": {}
    },
    {
     "output_type": "display_data",
     "data": {
      "text/plain": "Validation: |          | 0/? [00:00<?, ?it/s]",
      "application/vnd.jupyter.widget-view+json": {
       "version_major": 2,
       "version_minor": 0,
       "model_id": ""
      }
     },
     "metadata": {}
    },
    {
     "output_type": "display_data",
     "data": {
      "text/plain": "Validation: |          | 0/? [00:00<?, ?it/s]",
      "application/vnd.jupyter.widget-view+json": {
       "version_major": 2,
       "version_minor": 0,
       "model_id": ""
      }
     },
     "metadata": {}
    },
    {
     "output_type": "display_data",
     "data": {
      "text/plain": "Validation: |          | 0/? [00:00<?, ?it/s]",
      "application/vnd.jupyter.widget-view+json": {
       "version_major": 2,
       "version_minor": 0,
       "model_id": ""
      }
     },
     "metadata": {}
    },
    {
     "output_type": "display_data",
     "data": {
      "text/plain": "Validation: |          | 0/? [00:00<?, ?it/s]",
      "application/vnd.jupyter.widget-view+json": {
       "version_major": 2,
       "version_minor": 0,
       "model_id": ""
      }
     },
     "metadata": {}
    },
    {
     "output_type": "display_data",
     "data": {
      "text/plain": "Validation: |          | 0/? [00:00<?, ?it/s]",
      "application/vnd.jupyter.widget-view+json": {
       "version_major": 2,
       "version_minor": 0,
       "model_id": ""
      }
     },
     "metadata": {}
    },
    {
     "output_type": "display_data",
     "data": {
      "text/plain": "Validation: |          | 0/? [00:00<?, ?it/s]",
      "application/vnd.jupyter.widget-view+json": {
       "version_major": 2,
       "version_minor": 0,
       "model_id": ""
      }
     },
     "metadata": {}
    },
    {
     "output_type": "display_data",
     "data": {
      "text/plain": "Validation: |          | 0/? [00:00<?, ?it/s]",
      "application/vnd.jupyter.widget-view+json": {
       "version_major": 2,
       "version_minor": 0,
       "model_id": ""
      }
     },
     "metadata": {}
    },
    {
     "output_type": "display_data",
     "data": {
      "text/plain": "Validation: |          | 0/? [00:00<?, ?it/s]",
      "application/vnd.jupyter.widget-view+json": {
       "version_major": 2,
       "version_minor": 0,
       "model_id": ""
      }
     },
     "metadata": {}
    },
    {
     "output_type": "display_data",
     "data": {
      "text/plain": "Validation: |          | 0/? [00:00<?, ?it/s]",
      "application/vnd.jupyter.widget-view+json": {
       "version_major": 2,
       "version_minor": 0,
       "model_id": ""
      }
     },
     "metadata": {}
    },
    {
     "output_type": "display_data",
     "data": {
      "text/plain": "Validation: |          | 0/? [00:00<?, ?it/s]",
      "application/vnd.jupyter.widget-view+json": {
       "version_major": 2,
       "version_minor": 0,
       "model_id": ""
      }
     },
     "metadata": {}
    },
    {
     "output_type": "display_data",
     "data": {
      "text/plain": "Validation: |          | 0/? [00:00<?, ?it/s]",
      "application/vnd.jupyter.widget-view+json": {
       "version_major": 2,
       "version_minor": 0,
       "model_id": ""
      }
     },
     "metadata": {}
    },
    {
     "output_type": "display_data",
     "data": {
      "text/plain": "Validation: |          | 0/? [00:00<?, ?it/s]",
      "application/vnd.jupyter.widget-view+json": {
       "version_major": 2,
       "version_minor": 0,
       "model_id": ""
      }
     },
     "metadata": {}
    },
    {
     "output_type": "display_data",
     "data": {
      "text/plain": "Validation: |          | 0/? [00:00<?, ?it/s]",
      "application/vnd.jupyter.widget-view+json": {
       "version_major": 2,
       "version_minor": 0,
       "model_id": ""
      }
     },
     "metadata": {}
    },
    {
     "output_type": "display_data",
     "data": {
      "text/plain": "Validation: |          | 0/? [00:00<?, ?it/s]",
      "application/vnd.jupyter.widget-view+json": {
       "version_major": 2,
       "version_minor": 0,
       "model_id": ""
      }
     },
     "metadata": {}
    },
    {
     "output_type": "display_data",
     "data": {
      "text/plain": "Validation: |          | 0/? [00:00<?, ?it/s]",
      "application/vnd.jupyter.widget-view+json": {
       "version_major": 2,
       "version_minor": 0,
       "model_id": ""
      }
     },
     "metadata": {}
    },
    {
     "output_type": "display_data",
     "data": {
      "text/plain": "Validation: |          | 0/? [00:00<?, ?it/s]",
      "application/vnd.jupyter.widget-view+json": {
       "version_major": 2,
       "version_minor": 0,
       "model_id": ""
      }
     },
     "metadata": {}
    },
    {
     "output_type": "display_data",
     "data": {
      "text/plain": "Validation: |          | 0/? [00:00<?, ?it/s]",
      "application/vnd.jupyter.widget-view+json": {
       "version_major": 2,
       "version_minor": 0,
       "model_id": ""
      }
     },
     "metadata": {}
    },
    {
     "output_type": "display_data",
     "data": {
      "text/plain": "Validation: |          | 0/? [00:00<?, ?it/s]",
      "application/vnd.jupyter.widget-view+json": {
       "version_major": 2,
       "version_minor": 0,
       "model_id": ""
      }
     },
     "metadata": {}
    },
    {
     "output_type": "display_data",
     "data": {
      "text/plain": "Validation: |          | 0/? [00:00<?, ?it/s]",
      "application/vnd.jupyter.widget-view+json": {
       "version_major": 2,
       "version_minor": 0,
       "model_id": ""
      }
     },
     "metadata": {}
    },
    {
     "output_type": "display_data",
     "data": {
      "text/plain": "Validation: |          | 0/? [00:00<?, ?it/s]",
      "application/vnd.jupyter.widget-view+json": {
       "version_major": 2,
       "version_minor": 0,
       "model_id": ""
      }
     },
     "metadata": {}
    },
    {
     "name": "stderr",
     "text": "Exception in thread QueueFeederThread:\nTraceback (most recent call last):\n  File \"/usr/lib/python3.11/multiprocessing/queues.py\", line 239, in _feed\nException ignored in: <function _ConnectionBase.__del__ at 0x7d9bfa11da80>\nTraceback (most recent call last):\n  File \"/usr/lib/python3.11/multiprocessing/connection.py\", line 133, in __del__\nException in thread QueueFeederThread:\nTraceback (most recent call last):\n  File \"/usr/lib/python3.11/multiprocessing/queues.py\", line 239, in _feed\n    self._close()\n  File \"/usr/lib/python3.11/multiprocessing/connection.py\", line 377, in _close\n    _close(self._handle)\nOSError: [Errno 9] Bad file descriptor\n    reader_close()\n  File \"/usr/lib/python3.11/multiprocessing/connection.py\", line 178, in close\n    reader_close()\n  File \"/usr/lib/python3.11/multiprocessing/connection.py\", line 178, in close\n    self._close()\n  File \"/usr/lib/python3.11/multiprocessing/connection.py\", line 377, in _close\n    _close(self._handle)\nOSError: [Errno 9] Bad file descriptor\n\nDuring handling of the above exception, another exception occurred:\n\nTraceback (most recent call last):\n  File \"/usr/lib/python3.11/threading.py\", line 1045, in _bootstrap_inner\n    self.run()\n  File \"/usr/lib/python3.11/threading.py\", line 982, in run\n    self._close()\n  File \"/usr/lib/python3.11/multiprocessing/connection.py\", line 377, in _close\n    self._target(*self._args, **self._kwargs)\n  File \"/usr/lib/python3.11/multiprocessing/queues.py\", line 271, in _feed\n    _close(self._handle)\nOSError: [Errno 9] Bad file descriptor\n\nDuring handling of the above exception, another exception occurred:\n\nTraceback (most recent call last):\n  File \"/usr/lib/python3.11/threading.py\", line 1045, in _bootstrap_inner\n    queue_sem.release()\nValueError: semaphore or lock released too many times\n    self.run()\n  File \"/usr/lib/python3.11/threading.py\", line 982, in run\n    self._target(*self._args, **self._kwargs)\n  File \"/usr/lib/python3.11/multiprocessing/queues.py\", line 271, in _feed\n    queue_sem.release()\nValueError: semaphore or lock released too many times\n",
     "output_type": "stream"
    },
    {
     "output_type": "display_data",
     "data": {
      "text/plain": "Validation: |          | 0/? [00:00<?, ?it/s]",
      "application/vnd.jupyter.widget-view+json": {
       "version_major": 2,
       "version_minor": 0,
       "model_id": ""
      }
     },
     "metadata": {}
    },
    {
     "output_type": "display_data",
     "data": {
      "text/plain": "Validation: |          | 0/? [00:00<?, ?it/s]",
      "application/vnd.jupyter.widget-view+json": {
       "version_major": 2,
       "version_minor": 0,
       "model_id": ""
      }
     },
     "metadata": {}
    },
    {
     "output_type": "display_data",
     "data": {
      "text/plain": "Validation: |          | 0/? [00:00<?, ?it/s]",
      "application/vnd.jupyter.widget-view+json": {
       "version_major": 2,
       "version_minor": 0,
       "model_id": ""
      }
     },
     "metadata": {}
    },
    {
     "output_type": "display_data",
     "data": {
      "text/plain": "Validation: |          | 0/? [00:00<?, ?it/s]",
      "application/vnd.jupyter.widget-view+json": {
       "version_major": 2,
       "version_minor": 0,
       "model_id": ""
      }
     },
     "metadata": {}
    },
    {
     "output_type": "display_data",
     "data": {
      "text/plain": "Validation: |          | 0/? [00:00<?, ?it/s]",
      "application/vnd.jupyter.widget-view+json": {
       "version_major": 2,
       "version_minor": 0,
       "model_id": ""
      }
     },
     "metadata": {}
    },
    {
     "output_type": "display_data",
     "data": {
      "text/plain": "Validation: |          | 0/? [00:00<?, ?it/s]",
      "application/vnd.jupyter.widget-view+json": {
       "version_major": 2,
       "version_minor": 0,
       "model_id": ""
      }
     },
     "metadata": {}
    },
    {
     "output_type": "display_data",
     "data": {
      "text/plain": "Validation: |          | 0/? [00:00<?, ?it/s]",
      "application/vnd.jupyter.widget-view+json": {
       "version_major": 2,
       "version_minor": 0,
       "model_id": ""
      }
     },
     "metadata": {}
    },
    {
     "output_type": "display_data",
     "data": {
      "text/plain": "Validation: |          | 0/? [00:00<?, ?it/s]",
      "application/vnd.jupyter.widget-view+json": {
       "version_major": 2,
       "version_minor": 0,
       "model_id": ""
      }
     },
     "metadata": {}
    },
    {
     "output_type": "display_data",
     "data": {
      "text/plain": "Validation: |          | 0/? [00:00<?, ?it/s]",
      "application/vnd.jupyter.widget-view+json": {
       "version_major": 2,
       "version_minor": 0,
       "model_id": ""
      }
     },
     "metadata": {}
    },
    {
     "output_type": "display_data",
     "data": {
      "text/plain": "Validation: |          | 0/? [00:00<?, ?it/s]",
      "application/vnd.jupyter.widget-view+json": {
       "version_major": 2,
       "version_minor": 0,
       "model_id": ""
      }
     },
     "metadata": {}
    },
    {
     "output_type": "display_data",
     "data": {
      "text/plain": "Validation: |          | 0/? [00:00<?, ?it/s]",
      "application/vnd.jupyter.widget-view+json": {
       "version_major": 2,
       "version_minor": 0,
       "model_id": ""
      }
     },
     "metadata": {}
    },
    {
     "output_type": "display_data",
     "data": {
      "text/plain": "Validation: |          | 0/? [00:00<?, ?it/s]",
      "application/vnd.jupyter.widget-view+json": {
       "version_major": 2,
       "version_minor": 0,
       "model_id": ""
      }
     },
     "metadata": {}
    },
    {
     "output_type": "display_data",
     "data": {
      "text/plain": "Validation: |          | 0/? [00:00<?, ?it/s]",
      "application/vnd.jupyter.widget-view+json": {
       "version_major": 2,
       "version_minor": 0,
       "model_id": ""
      }
     },
     "metadata": {}
    },
    {
     "output_type": "display_data",
     "data": {
      "text/plain": "Validation: |          | 0/? [00:00<?, ?it/s]",
      "application/vnd.jupyter.widget-view+json": {
       "version_major": 2,
       "version_minor": 0,
       "model_id": ""
      }
     },
     "metadata": {}
    },
    {
     "output_type": "display_data",
     "data": {
      "text/plain": "Validation: |          | 0/? [00:00<?, ?it/s]",
      "application/vnd.jupyter.widget-view+json": {
       "version_major": 2,
       "version_minor": 0,
       "model_id": ""
      }
     },
     "metadata": {}
    },
    {
     "output_type": "display_data",
     "data": {
      "text/plain": "Validation: |          | 0/? [00:00<?, ?it/s]",
      "application/vnd.jupyter.widget-view+json": {
       "version_major": 2,
       "version_minor": 0,
       "model_id": ""
      }
     },
     "metadata": {}
    },
    {
     "output_type": "display_data",
     "data": {
      "text/plain": "Validation: |          | 0/? [00:00<?, ?it/s]",
      "application/vnd.jupyter.widget-view+json": {
       "version_major": 2,
       "version_minor": 0,
       "model_id": ""
      }
     },
     "metadata": {}
    },
    {
     "output_type": "display_data",
     "data": {
      "text/plain": "Validation: |          | 0/? [00:00<?, ?it/s]",
      "application/vnd.jupyter.widget-view+json": {
       "version_major": 2,
       "version_minor": 0,
       "model_id": ""
      }
     },
     "metadata": {}
    },
    {
     "output_type": "display_data",
     "data": {
      "text/plain": "Validation: |          | 0/? [00:00<?, ?it/s]",
      "application/vnd.jupyter.widget-view+json": {
       "version_major": 2,
       "version_minor": 0,
       "model_id": ""
      }
     },
     "metadata": {}
    },
    {
     "output_type": "display_data",
     "data": {
      "text/plain": "Validation: |          | 0/? [00:00<?, ?it/s]",
      "application/vnd.jupyter.widget-view+json": {
       "version_major": 2,
       "version_minor": 0,
       "model_id": ""
      }
     },
     "metadata": {}
    },
    {
     "output_type": "display_data",
     "data": {
      "text/plain": "Validation: |          | 0/? [00:00<?, ?it/s]",
      "application/vnd.jupyter.widget-view+json": {
       "version_major": 2,
       "version_minor": 0,
       "model_id": ""
      }
     },
     "metadata": {}
    },
    {
     "output_type": "display_data",
     "data": {
      "text/plain": "Validation: |          | 0/? [00:00<?, ?it/s]",
      "application/vnd.jupyter.widget-view+json": {
       "version_major": 2,
       "version_minor": 0,
       "model_id": ""
      }
     },
     "metadata": {}
    },
    {
     "output_type": "display_data",
     "data": {
      "text/plain": "Validation: |          | 0/? [00:00<?, ?it/s]",
      "application/vnd.jupyter.widget-view+json": {
       "version_major": 2,
       "version_minor": 0,
       "model_id": ""
      }
     },
     "metadata": {}
    },
    {
     "output_type": "display_data",
     "data": {
      "text/plain": "Validation: |          | 0/? [00:00<?, ?it/s]",
      "application/vnd.jupyter.widget-view+json": {
       "version_major": 2,
       "version_minor": 0,
       "model_id": ""
      }
     },
     "metadata": {}
    },
    {
     "output_type": "display_data",
     "data": {
      "text/plain": "Validation: |          | 0/? [00:00<?, ?it/s]",
      "application/vnd.jupyter.widget-view+json": {
       "version_major": 2,
       "version_minor": 0,
       "model_id": ""
      }
     },
     "metadata": {}
    },
    {
     "output_type": "display_data",
     "data": {
      "text/plain": "Validation: |          | 0/? [00:00<?, ?it/s]",
      "application/vnd.jupyter.widget-view+json": {
       "version_major": 2,
       "version_minor": 0,
       "model_id": ""
      }
     },
     "metadata": {}
    },
    {
     "output_type": "display_data",
     "data": {
      "text/plain": "Validation: |          | 0/? [00:00<?, ?it/s]",
      "application/vnd.jupyter.widget-view+json": {
       "version_major": 2,
       "version_minor": 0,
       "model_id": ""
      }
     },
     "metadata": {}
    },
    {
     "output_type": "display_data",
     "data": {
      "text/plain": "Validation: |          | 0/? [00:00<?, ?it/s]",
      "application/vnd.jupyter.widget-view+json": {
       "version_major": 2,
       "version_minor": 0,
       "model_id": ""
      }
     },
     "metadata": {}
    },
    {
     "output_type": "display_data",
     "data": {
      "text/plain": "Validation: |          | 0/? [00:00<?, ?it/s]",
      "application/vnd.jupyter.widget-view+json": {
       "version_major": 2,
       "version_minor": 0,
       "model_id": ""
      }
     },
     "metadata": {}
    },
    {
     "output_type": "display_data",
     "data": {
      "text/plain": "Validation: |          | 0/? [00:00<?, ?it/s]",
      "application/vnd.jupyter.widget-view+json": {
       "version_major": 2,
       "version_minor": 0,
       "model_id": ""
      }
     },
     "metadata": {}
    },
    {
     "output_type": "display_data",
     "data": {
      "text/plain": "Validation: |          | 0/? [00:00<?, ?it/s]",
      "application/vnd.jupyter.widget-view+json": {
       "version_major": 2,
       "version_minor": 0,
       "model_id": ""
      }
     },
     "metadata": {}
    },
    {
     "output_type": "display_data",
     "data": {
      "text/plain": "Validation: |          | 0/? [00:00<?, ?it/s]",
      "application/vnd.jupyter.widget-view+json": {
       "version_major": 2,
       "version_minor": 0,
       "model_id": ""
      }
     },
     "metadata": {}
    },
    {
     "output_type": "display_data",
     "data": {
      "text/plain": "Validation: |          | 0/? [00:00<?, ?it/s]",
      "application/vnd.jupyter.widget-view+json": {
       "version_major": 2,
       "version_minor": 0,
       "model_id": ""
      }
     },
     "metadata": {}
    },
    {
     "output_type": "display_data",
     "data": {
      "text/plain": "Validation: |          | 0/? [00:00<?, ?it/s]",
      "application/vnd.jupyter.widget-view+json": {
       "version_major": 2,
       "version_minor": 0,
       "model_id": ""
      }
     },
     "metadata": {}
    },
    {
     "output_type": "display_data",
     "data": {
      "text/plain": "Validation: |          | 0/? [00:00<?, ?it/s]",
      "application/vnd.jupyter.widget-view+json": {
       "version_major": 2,
       "version_minor": 0,
       "model_id": ""
      }
     },
     "metadata": {}
    },
    {
     "output_type": "display_data",
     "data": {
      "text/plain": "Validation: |          | 0/? [00:00<?, ?it/s]",
      "application/vnd.jupyter.widget-view+json": {
       "version_major": 2,
       "version_minor": 0,
       "model_id": ""
      }
     },
     "metadata": {}
    },
    {
     "output_type": "display_data",
     "data": {
      "text/plain": "Validation: |          | 0/? [00:00<?, ?it/s]",
      "application/vnd.jupyter.widget-view+json": {
       "version_major": 2,
       "version_minor": 0,
       "model_id": ""
      }
     },
     "metadata": {}
    },
    {
     "output_type": "display_data",
     "data": {
      "text/plain": "Validation: |          | 0/? [00:00<?, ?it/s]",
      "application/vnd.jupyter.widget-view+json": {
       "version_major": 2,
       "version_minor": 0,
       "model_id": ""
      }
     },
     "metadata": {}
    },
    {
     "output_type": "display_data",
     "data": {
      "text/plain": "Validation: |          | 0/? [00:00<?, ?it/s]",
      "application/vnd.jupyter.widget-view+json": {
       "version_major": 2,
       "version_minor": 0,
       "model_id": ""
      }
     },
     "metadata": {}
    },
    {
     "output_type": "display_data",
     "data": {
      "text/plain": "Validation: |          | 0/? [00:00<?, ?it/s]",
      "application/vnd.jupyter.widget-view+json": {
       "version_major": 2,
       "version_minor": 0,
       "model_id": ""
      }
     },
     "metadata": {}
    },
    {
     "output_type": "display_data",
     "data": {
      "text/plain": "Validation: |          | 0/? [00:00<?, ?it/s]",
      "application/vnd.jupyter.widget-view+json": {
       "version_major": 2,
       "version_minor": 0,
       "model_id": ""
      }
     },
     "metadata": {}
    },
    {
     "output_type": "display_data",
     "data": {
      "text/plain": "Validation: |          | 0/? [00:00<?, ?it/s]",
      "application/vnd.jupyter.widget-view+json": {
       "version_major": 2,
       "version_minor": 0,
       "model_id": ""
      }
     },
     "metadata": {}
    },
    {
     "output_type": "display_data",
     "data": {
      "text/plain": "Validation: |          | 0/? [00:00<?, ?it/s]",
      "application/vnd.jupyter.widget-view+json": {
       "version_major": 2,
       "version_minor": 0,
       "model_id": ""
      }
     },
     "metadata": {}
    },
    {
     "output_type": "display_data",
     "data": {
      "text/plain": "Validation: |          | 0/? [00:00<?, ?it/s]",
      "application/vnd.jupyter.widget-view+json": {
       "version_major": 2,
       "version_minor": 0,
       "model_id": ""
      }
     },
     "metadata": {}
    },
    {
     "output_type": "display_data",
     "data": {
      "text/plain": "Validation: |          | 0/? [00:00<?, ?it/s]",
      "application/vnd.jupyter.widget-view+json": {
       "version_major": 2,
       "version_minor": 0,
       "model_id": ""
      }
     },
     "metadata": {}
    },
    {
     "output_type": "display_data",
     "data": {
      "text/plain": "Validation: |          | 0/? [00:00<?, ?it/s]",
      "application/vnd.jupyter.widget-view+json": {
       "version_major": 2,
       "version_minor": 0,
       "model_id": ""
      }
     },
     "metadata": {}
    },
    {
     "output_type": "display_data",
     "data": {
      "text/plain": "Validation: |          | 0/? [00:00<?, ?it/s]",
      "application/vnd.jupyter.widget-view+json": {
       "version_major": 2,
       "version_minor": 0,
       "model_id": ""
      }
     },
     "metadata": {}
    },
    {
     "output_type": "display_data",
     "data": {
      "text/plain": "Validation: |          | 0/? [00:00<?, ?it/s]",
      "application/vnd.jupyter.widget-view+json": {
       "version_major": 2,
       "version_minor": 0,
       "model_id": ""
      }
     },
     "metadata": {}
    },
    {
     "output_type": "display_data",
     "data": {
      "text/plain": "Validation: |          | 0/? [00:00<?, ?it/s]",
      "application/vnd.jupyter.widget-view+json": {
       "version_major": 2,
       "version_minor": 0,
       "model_id": ""
      }
     },
     "metadata": {}
    },
    {
     "name": "stderr",
     "text": "INFO: `Trainer.fit` stopped: `max_epochs=100` reached.\nINFO: Using default `ModelCheckpoint`. Consider installing `litmodels` package to enable `LitModelCheckpoint` for automatic upload to the Lightning model registry.\nINFO: GPU available: True (cuda), used: True\nINFO: TPU available: False, using: 0 TPU cores\nINFO: HPU available: False, using: 0 HPUs\nINFO: LOCAL_RANK: 0 - CUDA_VISIBLE_DEVICES: [0]\n",
     "output_type": "stream"
    },
    {
     "name": "stdout",
     "text": "Mean absolute error of model: 18.0527\n",
     "output_type": "stream"
    }
   ],
   "execution_count": 27
  },
  {
   "cell_type": "code",
   "source": [
    "!pip install lightning"
   ],
   "metadata": {
    "trusted": true,
    "execution": {
     "iopub.status.busy": "2025-05-06T04:10:49.465896Z",
     "iopub.execute_input": "2025-05-06T04:10:49.466626Z",
     "iopub.status.idle": "2025-05-06T04:12:05.441792Z",
     "shell.execute_reply.started": "2025-05-06T04:10:49.466601Z",
     "shell.execute_reply": "2025-05-06T04:12:05.441030Z"
    }
   },
   "outputs": [
    {
     "name": "stdout",
     "text": "Collecting lightning\n  Downloading lightning-2.5.1.post0-py3-none-any.whl.metadata (39 kB)\nRequirement already satisfied: PyYAML<8.0,>=5.4 in /usr/local/lib/python3.11/dist-packages (from lightning) (6.0.2)\nRequirement already satisfied: fsspec<2026.0,>=2022.5.0 in /usr/local/lib/python3.11/dist-packages (from fsspec[http]<2026.0,>=2022.5.0->lightning) (2025.3.2)\nRequirement already satisfied: lightning-utilities<2.0,>=0.10.0 in /usr/local/lib/python3.11/dist-packages (from lightning) (0.14.3)\nRequirement already satisfied: packaging<25.0,>=20.0 in /usr/local/lib/python3.11/dist-packages (from lightning) (24.2)\nRequirement already satisfied: torch<4.0,>=2.1.0 in /usr/local/lib/python3.11/dist-packages (from lightning) (2.5.1+cu124)\nRequirement already satisfied: torchmetrics<3.0,>=0.7.0 in /usr/local/lib/python3.11/dist-packages (from lightning) (1.7.1)\nRequirement already satisfied: tqdm<6.0,>=4.57.0 in /usr/local/lib/python3.11/dist-packages (from lightning) (4.67.1)\nRequirement already satisfied: typing-extensions<6.0,>=4.4.0 in /usr/local/lib/python3.11/dist-packages (from lightning) (4.13.1)\nRequirement already satisfied: pytorch-lightning in /usr/local/lib/python3.11/dist-packages (from lightning) (2.5.1)\nRequirement already satisfied: aiohttp!=4.0.0a0,!=4.0.0a1 in /usr/local/lib/python3.11/dist-packages (from fsspec[http]<2026.0,>=2022.5.0->lightning) (3.11.16)\nRequirement already satisfied: setuptools in /usr/local/lib/python3.11/dist-packages (from lightning-utilities<2.0,>=0.10.0->lightning) (75.1.0)\nRequirement already satisfied: filelock in /usr/local/lib/python3.11/dist-packages (from torch<4.0,>=2.1.0->lightning) (3.18.0)\nRequirement already satisfied: networkx in /usr/local/lib/python3.11/dist-packages (from torch<4.0,>=2.1.0->lightning) (3.4.2)\nRequirement already satisfied: jinja2 in /usr/local/lib/python3.11/dist-packages (from torch<4.0,>=2.1.0->lightning) (3.1.6)\nRequirement already satisfied: nvidia-cuda-nvrtc-cu12==12.4.127 in /usr/local/lib/python3.11/dist-packages (from torch<4.0,>=2.1.0->lightning) (12.4.127)\nRequirement already satisfied: nvidia-cuda-runtime-cu12==12.4.127 in /usr/local/lib/python3.11/dist-packages (from torch<4.0,>=2.1.0->lightning) (12.4.127)\nRequirement already satisfied: nvidia-cuda-cupti-cu12==12.4.127 in /usr/local/lib/python3.11/dist-packages (from torch<4.0,>=2.1.0->lightning) (12.4.127)\nCollecting nvidia-cudnn-cu12==9.1.0.70 (from torch<4.0,>=2.1.0->lightning)\n  Downloading nvidia_cudnn_cu12-9.1.0.70-py3-none-manylinux2014_x86_64.whl.metadata (1.6 kB)\nCollecting nvidia-cublas-cu12==12.4.5.8 (from torch<4.0,>=2.1.0->lightning)\n  Downloading nvidia_cublas_cu12-12.4.5.8-py3-none-manylinux2014_x86_64.whl.metadata (1.5 kB)\nCollecting nvidia-cufft-cu12==11.2.1.3 (from torch<4.0,>=2.1.0->lightning)\n  Downloading nvidia_cufft_cu12-11.2.1.3-py3-none-manylinux2014_x86_64.whl.metadata (1.5 kB)\nCollecting nvidia-curand-cu12==10.3.5.147 (from torch<4.0,>=2.1.0->lightning)\n  Downloading nvidia_curand_cu12-10.3.5.147-py3-none-manylinux2014_x86_64.whl.metadata (1.5 kB)\nCollecting nvidia-cusolver-cu12==11.6.1.9 (from torch<4.0,>=2.1.0->lightning)\n  Downloading nvidia_cusolver_cu12-11.6.1.9-py3-none-manylinux2014_x86_64.whl.metadata (1.6 kB)\nCollecting nvidia-cusparse-cu12==12.3.1.170 (from torch<4.0,>=2.1.0->lightning)\n  Downloading nvidia_cusparse_cu12-12.3.1.170-py3-none-manylinux2014_x86_64.whl.metadata (1.6 kB)\nRequirement already satisfied: nvidia-nccl-cu12==2.21.5 in /usr/local/lib/python3.11/dist-packages (from torch<4.0,>=2.1.0->lightning) (2.21.5)\nRequirement already satisfied: nvidia-nvtx-cu12==12.4.127 in /usr/local/lib/python3.11/dist-packages (from torch<4.0,>=2.1.0->lightning) (12.4.127)\nCollecting nvidia-nvjitlink-cu12==12.4.127 (from torch<4.0,>=2.1.0->lightning)\n  Downloading nvidia_nvjitlink_cu12-12.4.127-py3-none-manylinux2014_x86_64.whl.metadata (1.5 kB)\nRequirement already satisfied: triton==3.1.0 in /usr/local/lib/python3.11/dist-packages (from torch<4.0,>=2.1.0->lightning) (3.1.0)\nRequirement already satisfied: sympy==1.13.1 in /usr/local/lib/python3.11/dist-packages (from torch<4.0,>=2.1.0->lightning) (1.13.1)\nRequirement already satisfied: mpmath<1.4,>=1.1.0 in /usr/local/lib/python3.11/dist-packages (from sympy==1.13.1->torch<4.0,>=2.1.0->lightning) (1.3.0)\nRequirement already satisfied: numpy>1.20.0 in /usr/local/lib/python3.11/dist-packages (from torchmetrics<3.0,>=0.7.0->lightning) (1.26.4)\nRequirement already satisfied: aiohappyeyeballs>=2.3.0 in /usr/local/lib/python3.11/dist-packages (from aiohttp!=4.0.0a0,!=4.0.0a1->fsspec[http]<2026.0,>=2022.5.0->lightning) (2.6.1)\nRequirement already satisfied: aiosignal>=1.1.2 in /usr/local/lib/python3.11/dist-packages (from aiohttp!=4.0.0a0,!=4.0.0a1->fsspec[http]<2026.0,>=2022.5.0->lightning) (1.3.2)\nRequirement already satisfied: attrs>=17.3.0 in /usr/local/lib/python3.11/dist-packages (from aiohttp!=4.0.0a0,!=4.0.0a1->fsspec[http]<2026.0,>=2022.5.0->lightning) (25.3.0)\nRequirement already satisfied: frozenlist>=1.1.1 in /usr/local/lib/python3.11/dist-packages (from aiohttp!=4.0.0a0,!=4.0.0a1->fsspec[http]<2026.0,>=2022.5.0->lightning) (1.5.0)\nRequirement already satisfied: multidict<7.0,>=4.5 in /usr/local/lib/python3.11/dist-packages (from aiohttp!=4.0.0a0,!=4.0.0a1->fsspec[http]<2026.0,>=2022.5.0->lightning) (6.2.0)\nRequirement already satisfied: propcache>=0.2.0 in /usr/local/lib/python3.11/dist-packages (from aiohttp!=4.0.0a0,!=4.0.0a1->fsspec[http]<2026.0,>=2022.5.0->lightning) (0.3.1)\nRequirement already satisfied: yarl<2.0,>=1.17.0 in /usr/local/lib/python3.11/dist-packages (from aiohttp!=4.0.0a0,!=4.0.0a1->fsspec[http]<2026.0,>=2022.5.0->lightning) (1.19.0)\nRequirement already satisfied: mkl_fft in /usr/local/lib/python3.11/dist-packages (from numpy>1.20.0->torchmetrics<3.0,>=0.7.0->lightning) (1.3.8)\nRequirement already satisfied: mkl_random in /usr/local/lib/python3.11/dist-packages (from numpy>1.20.0->torchmetrics<3.0,>=0.7.0->lightning) (1.2.4)\nRequirement already satisfied: mkl_umath in /usr/local/lib/python3.11/dist-packages (from numpy>1.20.0->torchmetrics<3.0,>=0.7.0->lightning) (0.1.1)\nRequirement already satisfied: mkl in /usr/local/lib/python3.11/dist-packages (from numpy>1.20.0->torchmetrics<3.0,>=0.7.0->lightning) (2025.1.0)\nRequirement already satisfied: tbb4py in /usr/local/lib/python3.11/dist-packages (from numpy>1.20.0->torchmetrics<3.0,>=0.7.0->lightning) (2022.1.0)\nRequirement already satisfied: mkl-service in /usr/local/lib/python3.11/dist-packages (from numpy>1.20.0->torchmetrics<3.0,>=0.7.0->lightning) (2.4.1)\nRequirement already satisfied: MarkupSafe>=2.0 in /usr/local/lib/python3.11/dist-packages (from jinja2->torch<4.0,>=2.1.0->lightning) (3.0.2)\nRequirement already satisfied: idna>=2.0 in /usr/local/lib/python3.11/dist-packages (from yarl<2.0,>=1.17.0->aiohttp!=4.0.0a0,!=4.0.0a1->fsspec[http]<2026.0,>=2022.5.0->lightning) (3.10)\nRequirement already satisfied: intel-openmp<2026,>=2024 in /usr/local/lib/python3.11/dist-packages (from mkl->numpy>1.20.0->torchmetrics<3.0,>=0.7.0->lightning) (2024.2.0)\nRequirement already satisfied: tbb==2022.* in /usr/local/lib/python3.11/dist-packages (from mkl->numpy>1.20.0->torchmetrics<3.0,>=0.7.0->lightning) (2022.1.0)\nRequirement already satisfied: tcmlib==1.* in /usr/local/lib/python3.11/dist-packages (from tbb==2022.*->mkl->numpy>1.20.0->torchmetrics<3.0,>=0.7.0->lightning) (1.2.0)\nRequirement already satisfied: intel-cmplr-lib-rt in /usr/local/lib/python3.11/dist-packages (from mkl_umath->numpy>1.20.0->torchmetrics<3.0,>=0.7.0->lightning) (2024.2.0)\nRequirement already satisfied: intel-cmplr-lib-ur==2024.2.0 in /usr/local/lib/python3.11/dist-packages (from intel-openmp<2026,>=2024->mkl->numpy>1.20.0->torchmetrics<3.0,>=0.7.0->lightning) (2024.2.0)\nDownloading lightning-2.5.1.post0-py3-none-any.whl (819 kB)\n\u001B[2K   \u001B[90m━━━━━━━━━━━━━━━━━━━━━━━━━━━━━━━━━━━━━━━━\u001B[0m \u001B[32m819.0/819.0 kB\u001B[0m \u001B[31m29.2 MB/s\u001B[0m eta \u001B[36m0:00:00\u001B[0m\n\u001B[?25hDownloading nvidia_cublas_cu12-12.4.5.8-py3-none-manylinux2014_x86_64.whl (363.4 MB)\n\u001B[2K   \u001B[90m━━━━━━━━━━━━━━━━━━━━━━━━━━━━━━━━━━━━━━━━\u001B[0m \u001B[32m363.4/363.4 MB\u001B[0m \u001B[31m4.6 MB/s\u001B[0m eta \u001B[36m0:00:00\u001B[0m0:00:01\u001B[0m00:01\u001B[0m\n\u001B[?25hDownloading nvidia_cudnn_cu12-9.1.0.70-py3-none-manylinux2014_x86_64.whl (664.8 MB)\n\u001B[2K   \u001B[90m━━━━━━━━━━━━━━━━━━━━━━━━━━━━━━━━━━━━━━━━\u001B[0m \u001B[32m664.8/664.8 MB\u001B[0m \u001B[31m2.4 MB/s\u001B[0m eta \u001B[36m0:00:00\u001B[0m0:00:01\u001B[0m00:01\u001B[0m\n\u001B[?25hDownloading nvidia_cufft_cu12-11.2.1.3-py3-none-manylinux2014_x86_64.whl (211.5 MB)\n\u001B[2K   \u001B[90m━━━━━━━━━━━━━━━━━━━━━━━━━━━━━━━━━━━━━━━━\u001B[0m \u001B[32m211.5/211.5 MB\u001B[0m \u001B[31m5.5 MB/s\u001B[0m eta \u001B[36m0:00:00\u001B[0m0:00:01\u001B[0m00:01\u001B[0m\n\u001B[?25hDownloading nvidia_curand_cu12-10.3.5.147-py3-none-manylinux2014_x86_64.whl (56.3 MB)\n\u001B[2K   \u001B[90m━━━━━━━━━━━━━━━━━━━━━━━━━━━━━━━━━━━━━━━━\u001B[0m \u001B[32m56.3/56.3 MB\u001B[0m \u001B[31m30.9 MB/s\u001B[0m eta \u001B[36m0:00:00\u001B[0m:00:01\u001B[0m00:01\u001B[0m\n\u001B[?25hDownloading nvidia_cusolver_cu12-11.6.1.9-py3-none-manylinux2014_x86_64.whl (127.9 MB)\n\u001B[2K   \u001B[90m━━━━━━━━━━━━━━━━━━━━━━━━━━━━━━━━━━━━━━━━\u001B[0m \u001B[32m127.9/127.9 MB\u001B[0m \u001B[31m13.5 MB/s\u001B[0m eta \u001B[36m0:00:00\u001B[0m:00:01\u001B[0m00:01\u001B[0m\n\u001B[?25hDownloading nvidia_cusparse_cu12-12.3.1.170-py3-none-manylinux2014_x86_64.whl (207.5 MB)\n\u001B[2K   \u001B[90m━━━━━━━━━━━━━━━━━━━━━━━━━━━━━━━━━━━━━━━━\u001B[0m \u001B[32m207.5/207.5 MB\u001B[0m \u001B[31m2.2 MB/s\u001B[0m eta \u001B[36m0:00:00\u001B[0m0:00:01\u001B[0m00:01\u001B[0m\n\u001B[?25hDownloading nvidia_nvjitlink_cu12-12.4.127-py3-none-manylinux2014_x86_64.whl (21.1 MB)\n\u001B[2K   \u001B[90m━━━━━━━━━━━━━━━━━━━━━━━━━━━━━━━━━━━━━━━━\u001B[0m \u001B[32m21.1/21.1 MB\u001B[0m \u001B[31m88.4 MB/s\u001B[0m eta \u001B[36m0:00:00\u001B[0m:00:01\u001B[0m00:01\u001B[0m\n\u001B[?25hInstalling collected packages: nvidia-nvjitlink-cu12, nvidia-curand-cu12, nvidia-cufft-cu12, nvidia-cublas-cu12, nvidia-cusparse-cu12, nvidia-cudnn-cu12, nvidia-cusolver-cu12, lightning\n  Attempting uninstall: nvidia-nvjitlink-cu12\n    Found existing installation: nvidia-nvjitlink-cu12 12.8.93\n    Uninstalling nvidia-nvjitlink-cu12-12.8.93:\n      Successfully uninstalled nvidia-nvjitlink-cu12-12.8.93\n  Attempting uninstall: nvidia-curand-cu12\n    Found existing installation: nvidia-curand-cu12 10.3.9.90\n    Uninstalling nvidia-curand-cu12-10.3.9.90:\n      Successfully uninstalled nvidia-curand-cu12-10.3.9.90\n  Attempting uninstall: nvidia-cufft-cu12\n    Found existing installation: nvidia-cufft-cu12 11.3.3.83\n    Uninstalling nvidia-cufft-cu12-11.3.3.83:\n      Successfully uninstalled nvidia-cufft-cu12-11.3.3.83\n  Attempting uninstall: nvidia-cublas-cu12\n    Found existing installation: nvidia-cublas-cu12 12.8.4.1\n    Uninstalling nvidia-cublas-cu12-12.8.4.1:\n      Successfully uninstalled nvidia-cublas-cu12-12.8.4.1\n  Attempting uninstall: nvidia-cusparse-cu12\n    Found existing installation: nvidia-cusparse-cu12 12.5.8.93\n    Uninstalling nvidia-cusparse-cu12-12.5.8.93:\n      Successfully uninstalled nvidia-cusparse-cu12-12.5.8.93\n  Attempting uninstall: nvidia-cudnn-cu12\n    Found existing installation: nvidia-cudnn-cu12 9.3.0.75\n    Uninstalling nvidia-cudnn-cu12-9.3.0.75:\n      Successfully uninstalled nvidia-cudnn-cu12-9.3.0.75\n  Attempting uninstall: nvidia-cusolver-cu12\n    Found existing installation: nvidia-cusolver-cu12 11.7.3.90\n    Uninstalling nvidia-cusolver-cu12-11.7.3.90:\n      Successfully uninstalled nvidia-cusolver-cu12-11.7.3.90\n\u001B[31mERROR: pip's dependency resolver does not currently take into account all the packages that are installed. This behaviour is the source of the following dependency conflicts.\npylibcugraph-cu12 24.12.0 requires pylibraft-cu12==24.12.*, but you have pylibraft-cu12 25.2.0 which is incompatible.\npylibcugraph-cu12 24.12.0 requires rmm-cu12==24.12.*, but you have rmm-cu12 25.2.0 which is incompatible.\u001B[0m\u001B[31m\n\u001B[0mSuccessfully installed lightning-2.5.1.post0 nvidia-cublas-cu12-12.4.5.8 nvidia-cudnn-cu12-9.1.0.70 nvidia-cufft-cu12-11.2.1.3 nvidia-curand-cu12-10.3.5.147 nvidia-cusolver-cu12-11.6.1.9 nvidia-cusparse-cu12-12.3.1.170 nvidia-nvjitlink-cu12-12.4.127\n",
     "output_type": "stream"
    }
   ],
   "execution_count": 2
  },
  {
   "cell_type": "code",
   "source": [
    "!pip install pytorch-forecasting"
   ],
   "metadata": {
    "trusted": true,
    "execution": {
     "iopub.status.busy": "2025-05-06T04:12:09.006762Z",
     "iopub.execute_input": "2025-05-06T04:12:09.007049Z",
     "iopub.status.idle": "2025-05-06T04:12:12.460165Z",
     "shell.execute_reply.started": "2025-05-06T04:12:09.007017Z",
     "shell.execute_reply": "2025-05-06T04:12:12.459227Z"
    }
   },
   "outputs": [
    {
     "name": "stdout",
     "text": "Requirement already satisfied: pytorch-forecasting in /usr/local/lib/python3.11/dist-packages (1.3.0)\nRequirement already satisfied: numpy<=3.0.0 in /usr/local/lib/python3.11/dist-packages (from pytorch-forecasting) (1.26.4)\nRequirement already satisfied: torch!=2.0.1,<3.0.0,>=2.0.0 in /usr/local/lib/python3.11/dist-packages (from pytorch-forecasting) (2.5.1+cu124)\nRequirement already satisfied: lightning<3.0.0,>=2.0.0 in /usr/local/lib/python3.11/dist-packages (from pytorch-forecasting) (2.5.1.post0)\nRequirement already satisfied: scipy<2.0,>=1.8 in /usr/local/lib/python3.11/dist-packages (from pytorch-forecasting) (1.15.2)\nRequirement already satisfied: pandas<3.0.0,>=1.3.0 in /usr/local/lib/python3.11/dist-packages (from pytorch-forecasting) (2.2.3)\nRequirement already satisfied: scikit-learn<2.0,>=1.2 in /usr/local/lib/python3.11/dist-packages (from pytorch-forecasting) (1.2.2)\nRequirement already satisfied: PyYAML<8.0,>=5.4 in /usr/local/lib/python3.11/dist-packages (from lightning<3.0.0,>=2.0.0->pytorch-forecasting) (6.0.2)\nRequirement already satisfied: fsspec<2026.0,>=2022.5.0 in /usr/local/lib/python3.11/dist-packages (from fsspec[http]<2026.0,>=2022.5.0->lightning<3.0.0,>=2.0.0->pytorch-forecasting) (2025.3.2)\nRequirement already satisfied: lightning-utilities<2.0,>=0.10.0 in /usr/local/lib/python3.11/dist-packages (from lightning<3.0.0,>=2.0.0->pytorch-forecasting) (0.14.3)\nRequirement already satisfied: packaging<25.0,>=20.0 in /usr/local/lib/python3.11/dist-packages (from lightning<3.0.0,>=2.0.0->pytorch-forecasting) (24.2)\nRequirement already satisfied: torchmetrics<3.0,>=0.7.0 in /usr/local/lib/python3.11/dist-packages (from lightning<3.0.0,>=2.0.0->pytorch-forecasting) (1.7.1)\nRequirement already satisfied: tqdm<6.0,>=4.57.0 in /usr/local/lib/python3.11/dist-packages (from lightning<3.0.0,>=2.0.0->pytorch-forecasting) (4.67.1)\nRequirement already satisfied: typing-extensions<6.0,>=4.4.0 in /usr/local/lib/python3.11/dist-packages (from lightning<3.0.0,>=2.0.0->pytorch-forecasting) (4.13.1)\nRequirement already satisfied: pytorch-lightning in /usr/local/lib/python3.11/dist-packages (from lightning<3.0.0,>=2.0.0->pytorch-forecasting) (2.5.1)\nRequirement already satisfied: mkl_fft in /usr/local/lib/python3.11/dist-packages (from numpy<=3.0.0->pytorch-forecasting) (1.3.8)\nRequirement already satisfied: mkl_random in /usr/local/lib/python3.11/dist-packages (from numpy<=3.0.0->pytorch-forecasting) (1.2.4)\nRequirement already satisfied: mkl_umath in /usr/local/lib/python3.11/dist-packages (from numpy<=3.0.0->pytorch-forecasting) (0.1.1)\nRequirement already satisfied: mkl in /usr/local/lib/python3.11/dist-packages (from numpy<=3.0.0->pytorch-forecasting) (2025.1.0)\nRequirement already satisfied: tbb4py in /usr/local/lib/python3.11/dist-packages (from numpy<=3.0.0->pytorch-forecasting) (2022.1.0)\nRequirement already satisfied: mkl-service in /usr/local/lib/python3.11/dist-packages (from numpy<=3.0.0->pytorch-forecasting) (2.4.1)\nRequirement already satisfied: python-dateutil>=2.8.2 in /usr/local/lib/python3.11/dist-packages (from pandas<3.0.0,>=1.3.0->pytorch-forecasting) (2.9.0.post0)\nRequirement already satisfied: pytz>=2020.1 in /usr/local/lib/python3.11/dist-packages (from pandas<3.0.0,>=1.3.0->pytorch-forecasting) (2025.2)\nRequirement already satisfied: tzdata>=2022.7 in /usr/local/lib/python3.11/dist-packages (from pandas<3.0.0,>=1.3.0->pytorch-forecasting) (2025.2)\nRequirement already satisfied: joblib>=1.1.1 in /usr/local/lib/python3.11/dist-packages (from scikit-learn<2.0,>=1.2->pytorch-forecasting) (1.4.2)\nRequirement already satisfied: threadpoolctl>=2.0.0 in /usr/local/lib/python3.11/dist-packages (from scikit-learn<2.0,>=1.2->pytorch-forecasting) (3.6.0)\nRequirement already satisfied: filelock in /usr/local/lib/python3.11/dist-packages (from torch!=2.0.1,<3.0.0,>=2.0.0->pytorch-forecasting) (3.18.0)\nRequirement already satisfied: networkx in /usr/local/lib/python3.11/dist-packages (from torch!=2.0.1,<3.0.0,>=2.0.0->pytorch-forecasting) (3.4.2)\nRequirement already satisfied: jinja2 in /usr/local/lib/python3.11/dist-packages (from torch!=2.0.1,<3.0.0,>=2.0.0->pytorch-forecasting) (3.1.6)\nRequirement already satisfied: nvidia-cuda-nvrtc-cu12==12.4.127 in /usr/local/lib/python3.11/dist-packages (from torch!=2.0.1,<3.0.0,>=2.0.0->pytorch-forecasting) (12.4.127)\nRequirement already satisfied: nvidia-cuda-runtime-cu12==12.4.127 in /usr/local/lib/python3.11/dist-packages (from torch!=2.0.1,<3.0.0,>=2.0.0->pytorch-forecasting) (12.4.127)\nRequirement already satisfied: nvidia-cuda-cupti-cu12==12.4.127 in /usr/local/lib/python3.11/dist-packages (from torch!=2.0.1,<3.0.0,>=2.0.0->pytorch-forecasting) (12.4.127)\nRequirement already satisfied: nvidia-cudnn-cu12==9.1.0.70 in /usr/local/lib/python3.11/dist-packages (from torch!=2.0.1,<3.0.0,>=2.0.0->pytorch-forecasting) (9.1.0.70)\nRequirement already satisfied: nvidia-cublas-cu12==12.4.5.8 in /usr/local/lib/python3.11/dist-packages (from torch!=2.0.1,<3.0.0,>=2.0.0->pytorch-forecasting) (12.4.5.8)\nRequirement already satisfied: nvidia-cufft-cu12==11.2.1.3 in /usr/local/lib/python3.11/dist-packages (from torch!=2.0.1,<3.0.0,>=2.0.0->pytorch-forecasting) (11.2.1.3)\nRequirement already satisfied: nvidia-curand-cu12==10.3.5.147 in /usr/local/lib/python3.11/dist-packages (from torch!=2.0.1,<3.0.0,>=2.0.0->pytorch-forecasting) (10.3.5.147)\nRequirement already satisfied: nvidia-cusolver-cu12==11.6.1.9 in /usr/local/lib/python3.11/dist-packages (from torch!=2.0.1,<3.0.0,>=2.0.0->pytorch-forecasting) (11.6.1.9)\nRequirement already satisfied: nvidia-cusparse-cu12==12.3.1.170 in /usr/local/lib/python3.11/dist-packages (from torch!=2.0.1,<3.0.0,>=2.0.0->pytorch-forecasting) (12.3.1.170)\nRequirement already satisfied: nvidia-nccl-cu12==2.21.5 in /usr/local/lib/python3.11/dist-packages (from torch!=2.0.1,<3.0.0,>=2.0.0->pytorch-forecasting) (2.21.5)\nRequirement already satisfied: nvidia-nvtx-cu12==12.4.127 in /usr/local/lib/python3.11/dist-packages (from torch!=2.0.1,<3.0.0,>=2.0.0->pytorch-forecasting) (12.4.127)\nRequirement already satisfied: nvidia-nvjitlink-cu12==12.4.127 in /usr/local/lib/python3.11/dist-packages (from torch!=2.0.1,<3.0.0,>=2.0.0->pytorch-forecasting) (12.4.127)\nRequirement already satisfied: triton==3.1.0 in /usr/local/lib/python3.11/dist-packages (from torch!=2.0.1,<3.0.0,>=2.0.0->pytorch-forecasting) (3.1.0)\nRequirement already satisfied: sympy==1.13.1 in /usr/local/lib/python3.11/dist-packages (from torch!=2.0.1,<3.0.0,>=2.0.0->pytorch-forecasting) (1.13.1)\nRequirement already satisfied: mpmath<1.4,>=1.1.0 in /usr/local/lib/python3.11/dist-packages (from sympy==1.13.1->torch!=2.0.1,<3.0.0,>=2.0.0->pytorch-forecasting) (1.3.0)\nRequirement already satisfied: aiohttp!=4.0.0a0,!=4.0.0a1 in /usr/local/lib/python3.11/dist-packages (from fsspec[http]<2026.0,>=2022.5.0->lightning<3.0.0,>=2.0.0->pytorch-forecasting) (3.11.16)\nRequirement already satisfied: setuptools in /usr/local/lib/python3.11/dist-packages (from lightning-utilities<2.0,>=0.10.0->lightning<3.0.0,>=2.0.0->pytorch-forecasting) (75.1.0)\nRequirement already satisfied: six>=1.5 in /usr/local/lib/python3.11/dist-packages (from python-dateutil>=2.8.2->pandas<3.0.0,>=1.3.0->pytorch-forecasting) (1.17.0)\nRequirement already satisfied: MarkupSafe>=2.0 in /usr/local/lib/python3.11/dist-packages (from jinja2->torch!=2.0.1,<3.0.0,>=2.0.0->pytorch-forecasting) (3.0.2)\nRequirement already satisfied: intel-openmp<2026,>=2024 in /usr/local/lib/python3.11/dist-packages (from mkl->numpy<=3.0.0->pytorch-forecasting) (2024.2.0)\nRequirement already satisfied: tbb==2022.* in /usr/local/lib/python3.11/dist-packages (from mkl->numpy<=3.0.0->pytorch-forecasting) (2022.1.0)\nRequirement already satisfied: tcmlib==1.* in /usr/local/lib/python3.11/dist-packages (from tbb==2022.*->mkl->numpy<=3.0.0->pytorch-forecasting) (1.2.0)\nRequirement already satisfied: intel-cmplr-lib-rt in /usr/local/lib/python3.11/dist-packages (from mkl_umath->numpy<=3.0.0->pytorch-forecasting) (2024.2.0)\nRequirement already satisfied: aiohappyeyeballs>=2.3.0 in /usr/local/lib/python3.11/dist-packages (from aiohttp!=4.0.0a0,!=4.0.0a1->fsspec[http]<2026.0,>=2022.5.0->lightning<3.0.0,>=2.0.0->pytorch-forecasting) (2.6.1)\nRequirement already satisfied: aiosignal>=1.1.2 in /usr/local/lib/python3.11/dist-packages (from aiohttp!=4.0.0a0,!=4.0.0a1->fsspec[http]<2026.0,>=2022.5.0->lightning<3.0.0,>=2.0.0->pytorch-forecasting) (1.3.2)\nRequirement already satisfied: attrs>=17.3.0 in /usr/local/lib/python3.11/dist-packages (from aiohttp!=4.0.0a0,!=4.0.0a1->fsspec[http]<2026.0,>=2022.5.0->lightning<3.0.0,>=2.0.0->pytorch-forecasting) (25.3.0)\nRequirement already satisfied: frozenlist>=1.1.1 in /usr/local/lib/python3.11/dist-packages (from aiohttp!=4.0.0a0,!=4.0.0a1->fsspec[http]<2026.0,>=2022.5.0->lightning<3.0.0,>=2.0.0->pytorch-forecasting) (1.5.0)\nRequirement already satisfied: multidict<7.0,>=4.5 in /usr/local/lib/python3.11/dist-packages (from aiohttp!=4.0.0a0,!=4.0.0a1->fsspec[http]<2026.0,>=2022.5.0->lightning<3.0.0,>=2.0.0->pytorch-forecasting) (6.2.0)\nRequirement already satisfied: propcache>=0.2.0 in /usr/local/lib/python3.11/dist-packages (from aiohttp!=4.0.0a0,!=4.0.0a1->fsspec[http]<2026.0,>=2022.5.0->lightning<3.0.0,>=2.0.0->pytorch-forecasting) (0.3.1)\nRequirement already satisfied: yarl<2.0,>=1.17.0 in /usr/local/lib/python3.11/dist-packages (from aiohttp!=4.0.0a0,!=4.0.0a1->fsspec[http]<2026.0,>=2022.5.0->lightning<3.0.0,>=2.0.0->pytorch-forecasting) (1.19.0)\nRequirement already satisfied: intel-cmplr-lib-ur==2024.2.0 in /usr/local/lib/python3.11/dist-packages (from intel-openmp<2026,>=2024->mkl->numpy<=3.0.0->pytorch-forecasting) (2024.2.0)\nRequirement already satisfied: idna>=2.0 in /usr/local/lib/python3.11/dist-packages (from yarl<2.0,>=1.17.0->aiohttp!=4.0.0a0,!=4.0.0a1->fsspec[http]<2026.0,>=2022.5.0->lightning<3.0.0,>=2.0.0->pytorch-forecasting) (3.10)\n",
     "output_type": "stream"
    }
   ],
   "execution_count": 4
  },
  {
   "cell_type": "code",
   "source": [
    "import warnings\n",
    "import pandas as pd\n",
    "import torch\n",
    "import lightning.pytorch as pl\n",
    "from lightning.pytorch.callbacks import EarlyStopping, LearningRateMonitor\n",
    "from pytorch_forecasting import TimeSeriesDataSet, GroupNormalizer\n",
    "from pytorch_forecasting.data import NaNLabelEncoder\n",
    "from pytorch_forecasting.models.temporal_fusion_transformer import TemporalFusionTransformer\n",
    "from pytorch_forecasting.metrics import MAE\n",
    "\n",
    "# 忽略 pandas 的 SettingWithCopyWarning\n",
    "warnings.simplefilter(\"ignore\", category=pd.errors.SettingWithCopyWarning)\n",
    "\n",
    "def main():\n",
    "    # 设置随机种子，确保结果可复现\n",
    "    pl.seed_everything(42, workers=True)\n",
    "\n",
    "    # 1. 加载数据\n",
    "    data = pd.read_csv(\"/kaggle/input/vhzmdd/AAPL_stock_data_with_indicators.csv\")\n",
    "\n",
    "    # 2. 数据预处理\n",
    "    data[\"Date\"] = pd.to_datetime(data[\"Date\"], format=\"%Y/%m/%d\")\n",
    "    data = data.sort_values(\"Date\").reset_index(drop=True)\n",
    "    data[\"time_idx\"] = data.index + 1  # 时间索引从1开始\n",
    "    data[\"stock_id\"] = \"AAPL\"\n",
    "    data[\"static\"] = data[\"stock_id\"]\n",
    "\n",
    "    drop_cols = [col for col in data.columns if \"#NAME?\" in col]\n",
    "    if drop_cols:\n",
    "        print(f\"剔除异常列: {drop_cols}\")\n",
    "        data = data.drop(columns=drop_cols)\n",
    "\n",
    "    data = data.fillna(method='ffill')\n",
    "\n",
    "    # 3. 定义 encoder 和 decoder 的步长\n",
    "    max_encoder_length = 30\n",
    "    max_prediction_length = 1\n",
    "\n",
    "    training_cutoff = data[\"time_idx\"].max() - (max_encoder_length + max_prediction_length)\n",
    "    print(f\"数据总长度: {data['time_idx'].max()}, 训练截止点: {training_cutoff}\")\n",
    "\n",
    "    # 4. 定义额外的技术指标\n",
    "    additional_features = [\n",
    "        \"Volume\", \"SMA_20\", \"EMA_20\", \"RSI_14\",\n",
    "        \"BB_Middle\", \"BB_Upper\", \"BB_Lower\", \"EMA_12\", \"EMA_26\",\n",
    "        \"MACD\", \"%K\", \"%D\", \"Momentum\", \"WMA_20\",\n",
    "        \"TRIX\", \"VWAP\", \"CCI\", \"Bias\", \"RVI\", \"Williams %R\", \"MFI_14\",\n",
    "    ]\n",
    "    known_reals = [\"time_idx\"] + additional_features\n",
    "\n",
    "    # 5. 划分训练集和验证集\n",
    "    training_data = data[data.time_idx <= training_cutoff]\n",
    "    validation_data = data[data.time_idx > training_cutoff]\n",
    "    print(f\"验证集数量: {len(validation_data)}\")\n",
    "\n",
    "    training_dataset = TimeSeriesDataSet(\n",
    "        data=training_data,\n",
    "        time_idx=\"time_idx\",\n",
    "        target=\"Close\",\n",
    "        group_ids=[\"stock_id\"],\n",
    "        categorical_encoders={\"stock_id\": NaNLabelEncoder().fit(data[\"stock_id\"])},\n",
    "        static_categoricals=[\"static\"],\n",
    "        time_varying_known_reals=known_reals,\n",
    "        time_varying_unknown_reals=[\"Close\"],\n",
    "        min_encoder_length=max_encoder_length,\n",
    "        max_encoder_length=max_encoder_length,\n",
    "        min_prediction_length=max_prediction_length,\n",
    "        max_prediction_length=max_prediction_length,\n",
    "        target_normalizer=GroupNormalizer(groups=[\"stock_id\"], transformation=\"softplus\"),\n",
    "        add_relative_time_idx=True,\n",
    "        add_target_scales=True,\n",
    "        randomize_length=None,\n",
    "    )\n",
    "\n",
    "    validation_dataset = TimeSeriesDataSet.from_dataset(\n",
    "        training_dataset,\n",
    "        validation_data,\n",
    "        stop_randomization=True,\n",
    "    )\n",
    "\n",
    "    batch_size = 64\n",
    "    train_dataloader = training_dataset.to_dataloader(train=True, batch_size=batch_size, num_workers=2)\n",
    "    val_dataloader = validation_dataset.to_dataloader(train=False, batch_size=batch_size, num_workers=2)\n",
    "\n",
    "    early_stop_callback = EarlyStopping(\n",
    "        monitor=\"val_loss\", min_delta=1e-4, patience=5, verbose=True, mode=\"min\"\n",
    "    )\n",
    "    lr_logger = LearningRateMonitor()\n",
    "\n",
    "    trainer = pl.Trainer(\n",
    "        max_epochs=200,\n",
    "        accelerator=\"gpu\",   # 如果没有 GPU，可设为 \"cpu\"\n",
    "        devices=\"auto\",\n",
    "        gradient_clip_val=0.1,\n",
    "        limit_train_batches=30,\n",
    "        limit_val_batches=3,\n",
    "        callbacks=[lr_logger, early_stop_callback],\n",
    "    )\n",
    "\n",
    "    # 构造 TFT 模型，设置 output_size 为 1，仅输出中位数预测\n",
    "    tft = TemporalFusionTransformer.from_dataset(\n",
    "        training_dataset,\n",
    "        learning_rate=0.03,\n",
    "        hidden_size=16,\n",
    "        attention_head_size=1,\n",
    "        dropout=0.1,\n",
    "        hidden_continuous_size=8,\n",
    "        output_size=1,\n",
    "        loss=MAE(),\n",
    "        log_interval=10,\n",
    "        reduce_on_plateau_patience=4,\n",
    "    )\n",
    "\n",
    "    print(f\"模型参数数量: {tft.size() / 1e3:.1f}k\")\n",
    "\n",
    "    torch.set_num_threads(10)\n",
    "\n",
    "    trainer.fit(\n",
    "        tft,\n",
    "        train_dataloaders=train_dataloader,\n",
    "        val_dataloaders=val_dataloader,\n",
    "    )\n",
    "\n",
    "    # 预测时确保两边的张量在同一设备上\n",
    "    predictions = tft.predict(val_dataloader, mode=\"prediction\")\n",
    "    actuals = torch.cat([y for x, (y, _) in iter(val_dataloader)])\n",
    "    actuals = actuals.to(predictions.device)  # 将实际值移动到 predictions 的设备上\n",
    "    mae = (actuals - predictions).abs().mean()\n",
    "    print(f\"模型平均绝对误差 (MAE): {mae.item():.4f}\")\n",
    "\n",
    "if __name__ == '__main__':\n",
    "    main()"
   ],
   "metadata": {
    "trusted": true,
    "execution": {
     "iopub.status.busy": "2025-05-06T04:54:38.333474Z",
     "iopub.execute_input": "2025-05-06T04:54:38.333864Z",
     "iopub.status.idle": "2025-05-06T04:56:11.415044Z",
     "shell.execute_reply.started": "2025-05-06T04:54:38.333826Z",
     "shell.execute_reply": "2025-05-06T04:56:11.414088Z"
    }
   },
   "outputs": [
    {
     "name": "stderr",
     "text": "INFO: Seed set to 42\n/tmp/ipykernel_125/1226449937.py:33: FutureWarning: DataFrame.fillna with 'method' is deprecated and will raise in a future version. Use obj.ffill() or obj.bfill() instead.\n  data = data.fillna(method='ffill')\nINFO: Using default `ModelCheckpoint`. Consider installing `litmodels` package to enable `LitModelCheckpoint` for automatic upload to the Lightning model registry.\nINFO: GPU available: True (cuda), used: True\nINFO: TPU available: False, using: 0 TPU cores\nINFO: HPU available: False, using: 0 HPUs\n",
     "output_type": "stream"
    },
    {
     "name": "stdout",
     "text": "剔除异常列: ['#NAME?', '#NAME?.1']\n数据总长度: 1437, 训练截止点: 1406\n验证集数量: 31\n",
     "output_type": "stream"
    },
    {
     "name": "stderr",
     "text": "/usr/local/lib/python3.11/dist-packages/lightning/pytorch/utilities/parsing.py:209: Attribute 'loss' is an instance of `nn.Module` and is already saved during checkpointing. It is recommended to ignore them using `self.save_hyperparameters(ignore=['loss'])`.\n/usr/local/lib/python3.11/dist-packages/lightning/pytorch/utilities/parsing.py:209: Attribute 'logging_metrics' is an instance of `nn.Module` and is already saved during checkpointing. It is recommended to ignore them using `self.save_hyperparameters(ignore=['logging_metrics'])`.\nINFO: LOCAL_RANK: 0 - CUDA_VISIBLE_DEVICES: [0]\nINFO: \n   | Name                               | Type                            | Params | Mode \n------------------------------------------------------------------------------------------------\n0  | loss                               | MAE                             | 0      | train\n1  | logging_metrics                    | ModuleList                      | 0      | train\n2  | input_embeddings                   | MultiEmbedding                  | 1      | train\n3  | prescalers                         | ModuleDict                      | 416    | train\n4  | static_variable_selection          | VariableSelectionNetwork        | 1.2 K  | train\n5  | encoder_variable_selection         | VariableSelectionNetwork        | 17.2 K | train\n6  | decoder_variable_selection         | VariableSelectionNetwork        | 16.5 K | train\n7  | static_context_variable_selection  | GatedResidualNetwork            | 1.1 K  | train\n8  | static_context_initial_hidden_lstm | GatedResidualNetwork            | 1.1 K  | train\n9  | static_context_initial_cell_lstm   | GatedResidualNetwork            | 1.1 K  | train\n10 | static_context_enrichment          | GatedResidualNetwork            | 1.1 K  | train\n11 | lstm_encoder                       | LSTM                            | 2.2 K  | train\n12 | lstm_decoder                       | LSTM                            | 2.2 K  | train\n13 | post_lstm_gate_encoder             | GatedLinearUnit                 | 544    | train\n14 | post_lstm_add_norm_encoder         | AddNorm                         | 32     | train\n15 | static_enrichment                  | GatedResidualNetwork            | 1.4 K  | train\n16 | multihead_attn                     | InterpretableMultiHeadAttention | 1.1 K  | train\n17 | post_attn_gate_norm                | GateAddNorm                     | 576    | train\n18 | pos_wise_ff                        | GatedResidualNetwork            | 1.1 K  | train\n19 | pre_output_gate_norm               | GateAddNorm                     | 576    | train\n20 | output_layer                       | Linear                          | 17     | train\n------------------------------------------------------------------------------------------------\n48.7 K    Trainable params\n0         Non-trainable params\n48.7 K    Total params\n0.195     Total estimated model params size (MB)\n872       Modules in train mode\n0         Modules in eval mode\n",
     "output_type": "stream"
    },
    {
     "name": "stdout",
     "text": "模型参数数量: 48.7k\n",
     "output_type": "stream"
    },
    {
     "output_type": "display_data",
     "data": {
      "text/plain": "Sanity Checking: |          | 0/? [00:00<?, ?it/s]",
      "application/vnd.jupyter.widget-view+json": {
       "version_major": 2,
       "version_minor": 0,
       "model_id": ""
      }
     },
     "metadata": {}
    },
    {
     "name": "stderr",
     "text": "/usr/local/lib/python3.11/dist-packages/lightning/pytorch/loops/fit_loop.py:310: The number of training batches (21) is smaller than the logging interval Trainer(log_every_n_steps=50). Set a lower value for log_every_n_steps if you want to see logs for the training epoch.\n",
     "output_type": "stream"
    },
    {
     "output_type": "display_data",
     "data": {
      "text/plain": "Training: |          | 0/? [00:00<?, ?it/s]",
      "application/vnd.jupyter.widget-view+json": {
       "version_major": 2,
       "version_minor": 0,
       "model_id": "d74c3b1e122740d2bdb5ccce5b54fa5d"
      }
     },
     "metadata": {}
    },
    {
     "output_type": "display_data",
     "data": {
      "text/plain": "Validation: |          | 0/? [00:00<?, ?it/s]",
      "application/vnd.jupyter.widget-view+json": {
       "version_major": 2,
       "version_minor": 0,
       "model_id": ""
      }
     },
     "metadata": {}
    },
    {
     "name": "stderr",
     "text": "INFO: Metric val_loss improved. New best score: 28.895\n",
     "output_type": "stream"
    },
    {
     "output_type": "display_data",
     "data": {
      "text/plain": "Validation: |          | 0/? [00:00<?, ?it/s]",
      "application/vnd.jupyter.widget-view+json": {
       "version_major": 2,
       "version_minor": 0,
       "model_id": ""
      }
     },
     "metadata": {}
    },
    {
     "name": "stderr",
     "text": "INFO: Metric val_loss improved by 13.114 >= min_delta = 0.0001. New best score: 15.782\n",
     "output_type": "stream"
    },
    {
     "output_type": "display_data",
     "data": {
      "text/plain": "Validation: |          | 0/? [00:00<?, ?it/s]",
      "application/vnd.jupyter.widget-view+json": {
       "version_major": 2,
       "version_minor": 0,
       "model_id": ""
      }
     },
     "metadata": {}
    },
    {
     "name": "stderr",
     "text": "INFO: Metric val_loss improved by 2.192 >= min_delta = 0.0001. New best score: 13.590\n",
     "output_type": "stream"
    },
    {
     "output_type": "display_data",
     "data": {
      "text/plain": "Validation: |          | 0/? [00:00<?, ?it/s]",
      "application/vnd.jupyter.widget-view+json": {
       "version_major": 2,
       "version_minor": 0,
       "model_id": ""
      }
     },
     "metadata": {}
    },
    {
     "name": "stderr",
     "text": "INFO: Metric val_loss improved by 7.625 >= min_delta = 0.0001. New best score: 5.965\n",
     "output_type": "stream"
    },
    {
     "output_type": "display_data",
     "data": {
      "text/plain": "Validation: |          | 0/? [00:00<?, ?it/s]",
      "application/vnd.jupyter.widget-view+json": {
       "version_major": 2,
       "version_minor": 0,
       "model_id": ""
      }
     },
     "metadata": {}
    },
    {
     "name": "stderr",
     "text": "INFO: Metric val_loss improved by 4.242 >= min_delta = 0.0001. New best score: 1.723\n",
     "output_type": "stream"
    },
    {
     "output_type": "display_data",
     "data": {
      "text/plain": "Validation: |          | 0/? [00:00<?, ?it/s]",
      "application/vnd.jupyter.widget-view+json": {
       "version_major": 2,
       "version_minor": 0,
       "model_id": ""
      }
     },
     "metadata": {}
    },
    {
     "name": "stderr",
     "text": "Exception in thread QueueFeederThread:\nTraceback (most recent call last):\n  File \"/usr/lib/python3.11/multiprocessing/queues.py\", line 239, in _feed\n    reader_close()\n  File \"/usr/lib/python3.11/multiprocessing/connection.py\", line 178, in close\n    self._close()\n  File \"/usr/lib/python3.11/multiprocessing/connection.py\", line 377, in _close\n    _close(self._handle)\nOSError: [Errno 9] Bad file descriptor\n\nDuring handling of the above exception, another exception occurred:\n\nTraceback (most recent call last):\n  File \"/usr/lib/python3.11/threading.py\", line 1045, in _bootstrap_inner\n    self.run()\n  File \"/usr/lib/python3.11/threading.py\", line 982, in run\n    self._target(*self._args, **self._kwargs)\n  File \"/usr/lib/python3.11/multiprocessing/queues.py\", line 271, in _feed\n    queue_sem.release()\nValueError: semaphore or lock released too many times\n",
     "output_type": "stream"
    },
    {
     "output_type": "display_data",
     "data": {
      "text/plain": "Validation: |          | 0/? [00:00<?, ?it/s]",
      "application/vnd.jupyter.widget-view+json": {
       "version_major": 2,
       "version_minor": 0,
       "model_id": ""
      }
     },
     "metadata": {}
    },
    {
     "output_type": "display_data",
     "data": {
      "text/plain": "Validation: |          | 0/? [00:00<?, ?it/s]",
      "application/vnd.jupyter.widget-view+json": {
       "version_major": 2,
       "version_minor": 0,
       "model_id": ""
      }
     },
     "metadata": {}
    },
    {
     "output_type": "display_data",
     "data": {
      "text/plain": "Validation: |          | 0/? [00:00<?, ?it/s]",
      "application/vnd.jupyter.widget-view+json": {
       "version_major": 2,
       "version_minor": 0,
       "model_id": ""
      }
     },
     "metadata": {}
    },
    {
     "output_type": "display_data",
     "data": {
      "text/plain": "Validation: |          | 0/? [00:00<?, ?it/s]",
      "application/vnd.jupyter.widget-view+json": {
       "version_major": 2,
       "version_minor": 0,
       "model_id": ""
      }
     },
     "metadata": {}
    },
    {
     "name": "stderr",
     "text": "INFO: Metric val_loss improved by 1.149 >= min_delta = 0.0001. New best score: 0.574\n",
     "output_type": "stream"
    },
    {
     "output_type": "display_data",
     "data": {
      "text/plain": "Validation: |          | 0/? [00:00<?, ?it/s]",
      "application/vnd.jupyter.widget-view+json": {
       "version_major": 2,
       "version_minor": 0,
       "model_id": ""
      }
     },
     "metadata": {}
    },
    {
     "output_type": "display_data",
     "data": {
      "text/plain": "Validation: |          | 0/? [00:00<?, ?it/s]",
      "application/vnd.jupyter.widget-view+json": {
       "version_major": 2,
       "version_minor": 0,
       "model_id": ""
      }
     },
     "metadata": {}
    },
    {
     "output_type": "display_data",
     "data": {
      "text/plain": "Validation: |          | 0/? [00:00<?, ?it/s]",
      "application/vnd.jupyter.widget-view+json": {
       "version_major": 2,
       "version_minor": 0,
       "model_id": ""
      }
     },
     "metadata": {}
    },
    {
     "name": "stderr",
     "text": "INFO: Metric val_loss improved by 0.392 >= min_delta = 0.0001. New best score: 0.182\n",
     "output_type": "stream"
    },
    {
     "output_type": "display_data",
     "data": {
      "text/plain": "Validation: |          | 0/? [00:00<?, ?it/s]",
      "application/vnd.jupyter.widget-view+json": {
       "version_major": 2,
       "version_minor": 0,
       "model_id": ""
      }
     },
     "metadata": {}
    },
    {
     "output_type": "display_data",
     "data": {
      "text/plain": "Validation: |          | 0/? [00:00<?, ?it/s]",
      "application/vnd.jupyter.widget-view+json": {
       "version_major": 2,
       "version_minor": 0,
       "model_id": ""
      }
     },
     "metadata": {}
    },
    {
     "output_type": "display_data",
     "data": {
      "text/plain": "Validation: |          | 0/? [00:00<?, ?it/s]",
      "application/vnd.jupyter.widget-view+json": {
       "version_major": 2,
       "version_minor": 0,
       "model_id": ""
      }
     },
     "metadata": {}
    },
    {
     "output_type": "display_data",
     "data": {
      "text/plain": "Validation: |          | 0/? [00:00<?, ?it/s]",
      "application/vnd.jupyter.widget-view+json": {
       "version_major": 2,
       "version_minor": 0,
       "model_id": ""
      }
     },
     "metadata": {}
    },
    {
     "output_type": "display_data",
     "data": {
      "text/plain": "Validation: |          | 0/? [00:00<?, ?it/s]",
      "application/vnd.jupyter.widget-view+json": {
       "version_major": 2,
       "version_minor": 0,
       "model_id": ""
      }
     },
     "metadata": {}
    },
    {
     "name": "stderr",
     "text": "INFO: Monitored metric val_loss did not improve in the last 5 records. Best score: 0.182. Signaling Trainer to stop.\nINFO: Using default `ModelCheckpoint`. Consider installing `litmodels` package to enable `LitModelCheckpoint` for automatic upload to the Lightning model registry.\nINFO: GPU available: True (cuda), used: True\nINFO: TPU available: False, using: 0 TPU cores\nINFO: HPU available: False, using: 0 HPUs\nINFO: LOCAL_RANK: 0 - CUDA_VISIBLE_DEVICES: [0]\n",
     "output_type": "stream"
    },
    {
     "name": "stdout",
     "text": "模型平均绝对误差 (MAE): 1.7601\n",
     "output_type": "stream"
    }
   ],
   "execution_count": 22
  },
  {
   "cell_type": "code",
   "source": [
    "import warnings\n",
    "import pandas as pd\n",
    "import torch\n",
    "import lightning.pytorch as pl\n",
    "from lightning.pytorch.callbacks import EarlyStopping, LearningRateMonitor\n",
    "from lightning.pytorch.loggers import TensorBoardLogger\n",
    "from pytorch_forecasting import TimeSeriesDataSet, GroupNormalizer, TemporalFusionTransformer, QuantileLoss\n",
    "from pytorch_forecasting.data import NaNLabelEncoder\n",
    "\n",
    "# 忽略 pandas 的 SettingWithCopyWarning\n",
    "warnings.simplefilter(\"ignore\", category=pd.errors.SettingWithCopyWarning)\n",
    "\n",
    "def main():\n",
    "    # 设置随机种子，确保结果可复现\n",
    "    pl.seed_everything(42, workers=True)\n",
    "\n",
    "    # 1. 加载数据（使用 Kaggle 上的文件路径）\n",
    "    file_path = \"/kaggle/input/vhzmdd/AAPL_stock_data_with_indicators.csv\"\n",
    "    data = pd.read_csv(file_path)\n",
    "\n",
    "    # 2. 数据预处理\n",
    "    # 转换日期格式，注意日期格式需和 CSV 文件一致\n",
    "    data[\"Date\"] = pd.to_datetime(data[\"Date\"], format=\"%Y/%m/%d\")\n",
    "    data = data.sort_values(\"Date\").reset_index(drop=True)\n",
    "    data[\"time_idx\"] = data.index + 1  # 时间索引从 1 开始\n",
    "    # 假设数据只包含单只股票，将 stock_id 固定为 \"AAPL\"\n",
    "    data[\"stock_id\"] = \"AAPL\"\n",
    "    data[\"static\"] = data[\"stock_id\"]\n",
    "\n",
    "    # 剔除列名中包含异常字符串（如 \"#NAME?\"）的列\n",
    "    drop_cols = [col for col in data.columns if \"#NAME?\" in col]\n",
    "    if drop_cols:\n",
    "        print(f\"剔除异常列: {drop_cols}\")\n",
    "        data = data.drop(columns=drop_cols)\n",
    "\n",
    "    # 前向填充缺失值\n",
    "    data = data.fillna(method='ffill')\n",
    "\n",
    "    # 3. 定义采样参数\n",
    "    max_encoder_length = 30\n",
    "    max_prediction_length = 2\n",
    "    training_cutoff = data[\"time_idx\"].max() - (max_encoder_length + max_prediction_length)\n",
    "    print(f\"数据总长度: {data['time_idx'].max()}, 训练截止点: {training_cutoff}\")\n",
    "\n",
    "    # 4. 定义额外技术指标（确保与 CSV 列名完全一致）\n",
    "    additional_features = [\n",
    "        \"Open\", \"High\", \"Low\", \"Volume\", \"SMA_20\", \"EMA_20\", \"RSI_14\",\n",
    "        \"BB_Middle\", \"BB_Upper\", \"BB_Lower\", \"EMA_12\", \"EMA_26\",\n",
    "        \"MACD\", \"MACD_Signal\", \"ATR_14\", \"%K\", \"%D\", \"Momentum\", \"WMA_20\",\n",
    "        \"TR\", \"DM+\", \"DM-\", \"DX\", \"ADX_14\", \"SMA_Smooth_20\", \"Volatility\",\n",
    "        \"Upper_Price_Channel\", \"Lower_Price_Channel\", \"Keltner_Middle\",\n",
    "        \"Keltner_Upper\", \"Keltner_Lower\"\n",
    "    ]\n",
    "    known_reals = [\"time_idx\"] + additional_features\n",
    "\n",
    "    # 5. 构造训练集与验证集\n",
    "    training_data = data[data.time_idx <= training_cutoff]\n",
    "    validation_data = data[data.time_idx > training_cutoff]\n",
    "    print(f\"验证集数量: {len(validation_data)}\")\n",
    "\n",
    "    training_dataset = TimeSeriesDataSet(\n",
    "        data=training_data,\n",
    "        time_idx=\"time_idx\",\n",
    "        target=\"Close\",\n",
    "        group_ids=[\"stock_id\"],\n",
    "        categorical_encoders={\"stock_id\": NaNLabelEncoder().fit(data[\"stock_id\"])},\n",
    "        static_categoricals=[\"static\"],\n",
    "        time_varying_known_reals=known_reals,         # 使用额外的技术指标\n",
    "        time_varying_unknown_reals=[\"Close\"],           # 目标为 Close\n",
    "        min_encoder_length=max_encoder_length,\n",
    "        max_encoder_length=max_encoder_length,\n",
    "        min_prediction_length=max_prediction_length,\n",
    "        max_prediction_length=max_prediction_length,\n",
    "        target_normalizer=GroupNormalizer(groups=[\"stock_id\"], transformation=\"softplus\"),\n",
    "        add_relative_time_idx=True,\n",
    "        add_target_scales=True,\n",
    "        randomize_length=None,\n",
    "    )\n",
    "\n",
    "    validation_dataset = TimeSeriesDataSet.from_dataset(\n",
    "        training_dataset,\n",
    "        validation_data,\n",
    "        stop_randomization=True,\n",
    "    )\n",
    "\n",
    "    # 6. 构造 DataLoader\n",
    "    batch_size = 64\n",
    "    train_dataloader = training_dataset.to_dataloader(\n",
    "        train=True, batch_size=batch_size, num_workers=2, persistent_workers=True\n",
    "    )\n",
    "    val_dataloader = validation_dataset.to_dataloader(\n",
    "        train=False, batch_size=batch_size, num_workers=2, persistent_workers=True\n",
    "    )\n",
    "\n",
    "    # 7. 定义回调函数和日志记录\n",
    "    early_stop_callback = EarlyStopping(\n",
    "        monitor=\"val_loss\", min_delta=1e-4, patience=1, verbose=True, mode=\"min\"\n",
    "    )\n",
    "    lr_logger = LearningRateMonitor()\n",
    "    tensorboard_logger = TensorBoardLogger(\"lightning_logs\")\n",
    "\n",
    "    trainer = pl.Trainer(\n",
    "        max_epochs=200,\n",
    "        accelerator=\"gpu\",   # 使用 GPU，如无 GPU 则设置为 \"cpu\"\n",
    "        devices=1,\n",
    "        gradient_clip_val=0.1,\n",
    "        limit_train_batches=30,  # 调试时每个 epoch 限制 30 个批次\n",
    "        callbacks=[lr_logger, early_stop_callback],\n",
    "        logger=tensorboard_logger\n",
    "    )\n",
    "\n",
    "    # 8. 构造 TemporalFusionTransformer 模型\n",
    "    # 此处使用 QuantileLoss，默认设置量化分位数为 [0.1, 0.5, 0.9]\n",
    "    # 可根据需要调整 hidden_size、dropout、hidden_continuous_size 等参数以提高预测精度\n",
    "    tft = TemporalFusionTransformer.from_dataset(\n",
    "        training_dataset,\n",
    "        hidden_size=32,\n",
    "        attention_head_size=1,\n",
    "        dropout=0.1,\n",
    "        hidden_continuous_size=16,\n",
    "        loss=QuantileLoss(),\n",
    "        log_interval=2,\n",
    "        learning_rate=0.03,\n",
    "        reduce_on_plateau_patience=4\n",
    "    )\n",
    "    print(f\"模型参数数量: {tft.size() / 1e3:.1f}k\")\n",
    "\n",
    "    torch.set_num_threads(10)\n",
    "\n",
    "    # 9. 开始训练\n",
    "    trainer.fit(\n",
    "        tft,\n",
    "        train_dataloaders=train_dataloader,\n",
    "        val_dataloaders=val_dataloader,\n",
    "    )\n",
    "\n",
    "    # 10. 验证集预测与误差计算\n",
    "    # 使用 \"quantiles\" 模式获得预测，注意不要传入多余的 quantiles 关键字参数\n",
    "    predictions = tft.predict(val_dataloader, mode=\"quantiles\")\n",
    "    # 默认 QuantileLoss 设置了三个 quantiles：[0.1, 0.5, 0.9]，因此预测输出 shape 为 [batch, prediction_length, 3]\n",
    "    # 选取中位数（quantile=0.5）对应的预测，即取索引 1 的值\n",
    "    median_predictions = predictions[..., 1]\n",
    "    # 拼接批次中的实际目标值，并确保在同一设备上\n",
    "    actuals = torch.cat([y for x, (y, _) in iter(val_dataloader)])\n",
    "    actuals = actuals.to(median_predictions.device)\n",
    "    mae = (actuals - median_predictions).abs().mean()\n",
    "    print(f\"模型平均绝对误差 (MAE): {mae.item():.4f}\")\n",
    "\n",
    "if __name__ == '__main__':\n",
    "    main()"
   ],
   "metadata": {
    "trusted": true,
    "execution": {
     "iopub.status.busy": "2025-05-06T05:14:28.157946Z",
     "iopub.execute_input": "2025-05-06T05:14:28.158387Z",
     "iopub.status.idle": "2025-05-06T05:14:46.162901Z",
     "shell.execute_reply.started": "2025-05-06T05:14:28.158344Z",
     "shell.execute_reply": "2025-05-06T05:14:46.161732Z"
    }
   },
   "outputs": [
    {
     "name": "stderr",
     "text": "INFO: Seed set to 42\n/tmp/ipykernel_125/2146841726.py:37: FutureWarning: DataFrame.fillna with 'method' is deprecated and will raise in a future version. Use obj.ffill() or obj.bfill() instead.\n  data = data.fillna(method='ffill')\nINFO: Using default `ModelCheckpoint`. Consider installing `litmodels` package to enable `LitModelCheckpoint` for automatic upload to the Lightning model registry.\n",
     "output_type": "stream"
    },
    {
     "name": "stdout",
     "text": "剔除异常列: ['#NAME?', '#NAME?.1']\n数据总长度: 1437, 训练截止点: 1405\n验证集数量: 32\n",
     "output_type": "stream"
    },
    {
     "name": "stderr",
     "text": "INFO: GPU available: True (cuda), used: True\nINFO: TPU available: False, using: 0 TPU cores\nINFO: HPU available: False, using: 0 HPUs\n/usr/local/lib/python3.11/dist-packages/lightning/pytorch/utilities/parsing.py:209: Attribute 'loss' is an instance of `nn.Module` and is already saved during checkpointing. It is recommended to ignore them using `self.save_hyperparameters(ignore=['loss'])`.\n/usr/local/lib/python3.11/dist-packages/lightning/pytorch/utilities/parsing.py:209: Attribute 'logging_metrics' is an instance of `nn.Module` and is already saved during checkpointing. It is recommended to ignore them using `self.save_hyperparameters(ignore=['logging_metrics'])`.\nINFO: LOCAL_RANK: 0 - CUDA_VISIBLE_DEVICES: [0]\nINFO: \n   | Name                               | Type                            | Params | Mode \n------------------------------------------------------------------------------------------------\n0  | loss                               | QuantileLoss                    | 0      | train\n1  | logging_metrics                    | ModuleList                      | 0      | train\n2  | input_embeddings                   | MultiEmbedding                  | 1      | train\n3  | prescalers                         | ModuleDict                      | 1.2 K  | train\n4  | static_variable_selection          | VariableSelectionNetwork        | 3.9 K  | train\n5  | encoder_variable_selection         | VariableSelectionNetwork        | 84.0 K | train\n6  | decoder_variable_selection         | VariableSelectionNetwork        | 81.5 K | train\n7  | static_context_variable_selection  | GatedResidualNetwork            | 4.3 K  | train\n8  | static_context_initial_hidden_lstm | GatedResidualNetwork            | 4.3 K  | train\n9  | static_context_initial_cell_lstm   | GatedResidualNetwork            | 4.3 K  | train\n10 | static_context_enrichment          | GatedResidualNetwork            | 4.3 K  | train\n11 | lstm_encoder                       | LSTM                            | 8.4 K  | train\n12 | lstm_decoder                       | LSTM                            | 8.4 K  | train\n13 | post_lstm_gate_encoder             | GatedLinearUnit                 | 2.1 K  | train\n14 | post_lstm_add_norm_encoder         | AddNorm                         | 64     | train\n15 | static_enrichment                  | GatedResidualNetwork            | 5.3 K  | train\n16 | multihead_attn                     | InterpretableMultiHeadAttention | 4.2 K  | train\n17 | post_attn_gate_norm                | GateAddNorm                     | 2.2 K  | train\n18 | pos_wise_ff                        | GatedResidualNetwork            | 4.3 K  | train\n19 | pre_output_gate_norm               | GateAddNorm                     | 2.2 K  | train\n20 | output_layer                       | Linear                          | 231    | train\n------------------------------------------------------------------------------------------------\n222 K     Trainable params\n0         Non-trainable params\n222 K     Total params\n0.892     Total estimated model params size (MB)\n1162      Modules in train mode\n0         Modules in eval mode\n",
     "output_type": "stream"
    },
    {
     "name": "stdout",
     "text": "模型参数数量: 222.9k\n",
     "output_type": "stream"
    },
    {
     "output_type": "display_data",
     "data": {
      "text/plain": "Sanity Checking: |          | 0/? [00:00<?, ?it/s]",
      "application/vnd.jupyter.widget-view+json": {
       "version_major": 2,
       "version_minor": 0,
       "model_id": ""
      }
     },
     "metadata": {}
    },
    {
     "name": "stderr",
     "text": "/usr/local/lib/python3.11/dist-packages/lightning/pytorch/loops/fit_loop.py:310: The number of training batches (21) is smaller than the logging interval Trainer(log_every_n_steps=50). Set a lower value for log_every_n_steps if you want to see logs for the training epoch.\n",
     "output_type": "stream"
    },
    {
     "output_type": "display_data",
     "data": {
      "text/plain": "Training: |          | 0/? [00:00<?, ?it/s]",
      "application/vnd.jupyter.widget-view+json": {
       "version_major": 2,
       "version_minor": 0,
       "model_id": "d14ef24a8aaf48948ccb2cd2a8300467"
      }
     },
     "metadata": {}
    },
    {
     "output_type": "display_data",
     "data": {
      "text/plain": "Validation: |          | 0/? [00:00<?, ?it/s]",
      "application/vnd.jupyter.widget-view+json": {
       "version_major": 2,
       "version_minor": 0,
       "model_id": ""
      }
     },
     "metadata": {}
    },
    {
     "name": "stderr",
     "text": "INFO: Metric val_loss improved. New best score: 6.692\n",
     "output_type": "stream"
    },
    {
     "output_type": "display_data",
     "data": {
      "text/plain": "Validation: |          | 0/? [00:00<?, ?it/s]",
      "application/vnd.jupyter.widget-view+json": {
       "version_major": 2,
       "version_minor": 0,
       "model_id": ""
      }
     },
     "metadata": {}
    },
    {
     "name": "stderr",
     "text": "INFO: Metric val_loss improved by 4.113 >= min_delta = 0.0001. New best score: 2.580\n",
     "output_type": "stream"
    },
    {
     "output_type": "display_data",
     "data": {
      "text/plain": "Validation: |          | 0/? [00:00<?, ?it/s]",
      "application/vnd.jupyter.widget-view+json": {
       "version_major": 2,
       "version_minor": 0,
       "model_id": ""
      }
     },
     "metadata": {}
    },
    {
     "name": "stderr",
     "text": "INFO: Monitored metric val_loss did not improve in the last 1 records. Best score: 2.580. Signaling Trainer to stop.\nINFO: Using default `ModelCheckpoint`. Consider installing `litmodels` package to enable `LitModelCheckpoint` for automatic upload to the Lightning model registry.\nINFO: GPU available: True (cuda), used: True\nINFO: TPU available: False, using: 0 TPU cores\nINFO: HPU available: False, using: 0 HPUs\nINFO: LOCAL_RANK: 0 - CUDA_VISIBLE_DEVICES: [0]\n",
     "output_type": "stream"
    },
    {
     "name": "stdout",
     "text": "模型平均绝对误差 (MAE): 15.0787\n",
     "output_type": "stream"
    }
   ],
   "execution_count": 38
  },
  {
   "cell_type": "code",
   "source": [
    "import warnings\n",
    "import pandas as pd\n",
    "import torch\n",
    "import lightning.pytorch as pl\n",
    "from lightning.pytorch.callbacks import EarlyStopping, LearningRateMonitor\n",
    "from pytorch_forecasting import TimeSeriesDataSet, GroupNormalizer\n",
    "from pytorch_forecasting.data import NaNLabelEncoder\n",
    "from pytorch_forecasting.models.nn.rnn import LSTM as ForecastingLSTM\n",
    "\n",
    "# 忽略 pandas 的 SettingWithCopyWarning\n",
    "warnings.simplefilter(\"ignore\", category=pd.errors.SettingWithCopyWarning)\n",
    "\n",
    "\n",
    "class LSTMModel(pl.LightningModule):\n",
    "    def __init__(self, input_size, hidden_size, prediction_length, num_layers=1, lr=1e-3):\n",
    "        \"\"\"\n",
    "        :param input_size: 输入特征数\n",
    "        :param hidden_size: LSTM 隐藏层维度\n",
    "        :param prediction_length: 预测区间长度\n",
    "        :param num_layers: LSTM 层数\n",
    "        :param lr: 学习率\n",
    "        \"\"\"\n",
    "        super().__init__()\n",
    "        self.save_hyperparameters()\n",
    "        self.lr = lr\n",
    "        # 使用 pytorch_forecasting 中的 LSTM 层（设置 batch_first=True）\n",
    "        self.lstm = ForecastingLSTM(\n",
    "            input_size=input_size, hidden_size=hidden_size, num_layers=num_layers, batch_first=True\n",
    "        )\n",
    "        # 使用全连接层，将最后的隐藏状态映射到预测区间\n",
    "        self.fc = torch.nn.Linear(hidden_size, prediction_length)\n",
    "        self.loss_fn = torch.nn.MSELoss()\n",
    "\n",
    "    def forward(self, x):\n",
    "        \"\"\"\n",
    "        前向传播：使用 x[\"encoder_cont\"] (形状为 (batch, encoder_length, num_features))\n",
    "        \"\"\"\n",
    "        encoder_input = x[\"encoder_cont\"]\n",
    "        # lstm_out: (batch, encoder_length, hidden_size)\n",
    "        # h_n: (num_layers, batch, hidden_size)\n",
    "        _, (h_n, _) = self.lstm(encoder_input)\n",
    "        # 使用最后一层隐藏状态 (batch, hidden_size)\n",
    "        last_hidden = h_n[-1]\n",
    "        prediction = self.fc(last_hidden)  # (batch, prediction_length)\n",
    "        prediction = prediction.unsqueeze(-1)  # (batch, prediction_length, 1)\n",
    "        return prediction\n",
    "\n",
    "    def training_step(self, batch, batch_idx):\n",
    "        x, (y, weight) = batch\n",
    "        y_hat = self(x)\n",
    "        # 调整目标维度为 (batch, prediction_length, 1)\n",
    "        # 若 y 的形状不符合要求，则进行变换\n",
    "        if y.dim() == 2:\n",
    "            y = y.unsqueeze(-1)\n",
    "        loss = self.loss_fn(y_hat, y)\n",
    "        self.log(\"train_loss\", loss, prog_bar=True)\n",
    "        return loss\n",
    "\n",
    "    def validation_step(self, batch, batch_idx):\n",
    "        x, (y, weight) = batch\n",
    "        y_hat = self(x)\n",
    "        if y.dim() == 2:\n",
    "            y = y.unsqueeze(-1)\n",
    "        loss = self.loss_fn(y_hat, y)\n",
    "        self.log(\"val_loss\", loss, prog_bar=True)\n",
    "        return loss\n",
    "\n",
    "    def configure_optimizers(self):\n",
    "        optimizer = torch.optim.AdamW(self.parameters(), lr=self.lr)\n",
    "        scheduler = torch.optim.lr_scheduler.ReduceLROnPlateau(\n",
    "            optimizer, mode=\"min\", patience=3, factor=0.5, verbose=True\n",
    "        )\n",
    "        return {\n",
    "            'optimizer': optimizer,\n",
    "            'lr_scheduler': {\n",
    "                'scheduler': scheduler,\n",
    "                'monitor': 'val_loss',\n",
    "                'frequency': 1,\n",
    "            }\n",
    "        }\n",
    "\n",
    "\n",
    "def main():\n",
    "    pl.seed_everything(42, workers=True)\n",
    "\n",
    "    # 1. 加载数据（使用 Kaggle 上的文件路径，新数据需包含丰富的技术指标）\n",
    "    file_path = \"/kaggle/input/vhzmdd/AAPL_stock_data_with_indicators.csv\"\n",
    "    data = pd.read_csv(file_path)\n",
    "\n",
    "    # 2. 数据预处理\n",
    "    # 将日期转换为 datetime 类型，并按照日期排序\n",
    "    data[\"Date\"] = pd.to_datetime(data[\"Date\"], format=\"%Y/%m/%d\")\n",
    "    data = data.sort_values(\"Date\").reset_index(drop=True)\n",
    "    data[\"time_idx\"] = data.index + 1  # 构造时间索引，从 1 开始\n",
    "    # 假设数据只包含单只股票，将 stock_id 固定为 \"AAPL\"\n",
    "    data[\"stock_id\"] = \"AAPL\"\n",
    "    data[\"static\"] = data[\"stock_id\"]\n",
    "\n",
    "    # 剔除列名中包含异常字符串（如 \"#NAME?\"）的列\n",
    "    drop_cols = [col for col in data.columns if \"#NAME?\" in col]\n",
    "    if drop_cols:\n",
    "        print(f\"剔除异常列: {drop_cols}\")\n",
    "        data = data.drop(columns=drop_cols)\n",
    "\n",
    "    # 前向填充缺失值\n",
    "    data = data.fillna(method='ffill')\n",
    "\n",
    "    # 3. 设置采样参数\n",
    "    max_encoder_length = 60\n",
    "    max_prediction_length = 1\n",
    "    training_cutoff = data[\"time_idx\"].max() - (max_encoder_length + max_prediction_length)\n",
    "    print(f\"数据总长度: {data['time_idx'].max()}, 训练截止点: {training_cutoff}\")\n",
    "\n",
    "    # 4. 定义额外技术指标（请确保 CSV 文件中包含对应的列）\n",
    "    additional_features = [\n",
    "        \"Open\", \"High\", \"Low\", \"Volume\", \"SMA_20\", \"EMA_20\", \"RSI_14\",\n",
    "        \"BB_Middle\", \"BB_Upper\", \"BB_Lower\", \"EMA_12\", \"EMA_26\",\n",
    "        \"MACD\", \"MACD_Signal\", \"ATR_14\", \"%K\", \"%D\", \"Momentum\", \"WMA_20\",\n",
    "    ]\n",
    "    # 将时间索引与额外指标合并\n",
    "    known_reals = [\"time_idx\"] + additional_features\n",
    "\n",
    "    # 5. 构造训练集与验证集数据集\n",
    "    training_data = data[data.time_idx <= training_cutoff]\n",
    "    validation_data = data[data.time_idx > training_cutoff]\n",
    "\n",
    "    print(f\"验证集数量: {len(validation_data)}\")\n",
    "\n",
    "    training_dataset = TimeSeriesDataSet(\n",
    "        data=training_data,\n",
    "        time_idx=\"time_idx\",\n",
    "        target=\"Close\",\n",
    "        group_ids=[\"stock_id\"],\n",
    "        categorical_encoders={\"stock_id\": NaNLabelEncoder().fit(data[\"stock_id\"])},\n",
    "        static_categoricals=[\"static\"],\n",
    "        time_varying_known_reals=known_reals,         # 使用额外技术指标作为已知特征\n",
    "        time_varying_unknown_reals=[\"Close\"],           # 目标为 Close\n",
    "        min_encoder_length=max_encoder_length,\n",
    "        max_encoder_length=max_encoder_length,\n",
    "        min_prediction_length=max_prediction_length,\n",
    "        max_prediction_length=max_prediction_length,\n",
    "        target_normalizer=GroupNormalizer(groups=[\"stock_id\"], transformation=\"softplus\"),\n",
    "        add_relative_time_idx=True,\n",
    "        add_target_scales=True,\n",
    "        randomize_length=None,\n",
    "    )\n",
    "\n",
    "    validation_dataset = TimeSeriesDataSet.from_dataset(\n",
    "        training_dataset,\n",
    "        validation_data,\n",
    "        stop_randomization=True,\n",
    "    )\n",
    "\n",
    "    # 6. 构造 DataLoader\n",
    "    batch_size = 64\n",
    "    train_dataloader = training_dataset.to_dataloader(\n",
    "        train=True, batch_size=batch_size, num_workers=2, persistent_workers=True\n",
    "    )\n",
    "    val_dataloader = validation_dataset.to_dataloader(\n",
    "        train=False, batch_size=batch_size, num_workers=2, persistent_workers=True\n",
    "    )\n",
    "\n",
    "    # 7. 定义回调函数与日志记录\n",
    "    early_stop_callback = EarlyStopping(monitor=\"val_loss\", min_delta=1e-4, patience=5, verbose=True, mode=\"min\")\n",
    "    lr_logger = LearningRateMonitor(logging_interval=\"epoch\")\n",
    "    \n",
    "    trainer = pl.Trainer(\n",
    "        max_epochs=300,\n",
    "        accelerator=\"gpu\",  # 如无 GPU，请设置为 \"cpu\"\n",
    "        devices=\"auto\",\n",
    "        gradient_clip_val=0.1,\n",
    "        callbacks=[lr_logger, early_stop_callback],\n",
    "    )\n",
    "\n",
    "    # 打印输入特征数\n",
    "    sample_batch = next(iter(train_dataloader))\n",
    "    input_size = sample_batch[0][\"encoder_cont\"].shape[-1]\n",
    "    print(f\"Input feature size for LSTM: {input_size}\")\n",
    "\n",
    "    # 8. 构造 LSTM 模型\n",
    "    lstm_model = LSTMModel(\n",
    "        input_size=input_size,\n",
    "        hidden_size=128,\n",
    "        prediction_length=max_prediction_length,\n",
    "        num_layers=1,\n",
    "        lr=1e-3\n",
    "    )\n",
    "    total_params = sum(p.numel() for p in lstm_model.parameters())\n",
    "    print(f\"Number of parameters in network: {total_params/1e3:.1f}k\")\n",
    "\n",
    "    torch.set_num_threads(10)\n",
    "    trainer.fit(lstm_model, train_dataloaders=train_dataloader, val_dataloaders=val_dataloader)\n",
    "\n",
    "    # 9. 评估阶段：注意预测和实际值均为归一化后的结果\n",
    "    lstm_model.eval()\n",
    "    predictions_list = []\n",
    "    actuals_list = []\n",
    "    with torch.no_grad():\n",
    "        for batch in val_dataloader:\n",
    "            x, (y, weight) = batch\n",
    "            y_hat = lstm_model(x)\n",
    "            predictions_list.append(y_hat)\n",
    "            actuals_list.append(y)\n",
    "    predictions = torch.cat(predictions_list, dim=0)\n",
    "    actuals = torch.cat(actuals_list, dim=0)\n",
    "    mae = (actuals - predictions).abs().mean()\n",
    "    print(f\"Mean absolute error: {mae.item():.4f}\")\n",
    "\n",
    "if __name__ == '__main__':\n",
    "    main()"
   ],
   "metadata": {
    "trusted": true,
    "execution": {
     "iopub.status.busy": "2025-05-06T05:24:37.127602Z",
     "iopub.execute_input": "2025-05-06T05:24:37.128435Z",
     "iopub.status.idle": "2025-05-06T05:26:12.965711Z",
     "shell.execute_reply.started": "2025-05-06T05:24:37.128390Z",
     "shell.execute_reply": "2025-05-06T05:26:12.964640Z"
    }
   },
   "outputs": [
    {
     "name": "stderr",
     "text": "INFO: Seed set to 42\n/tmp/ipykernel_125/3002250319.py:106: FutureWarning: DataFrame.fillna with 'method' is deprecated and will raise in a future version. Use obj.ffill() or obj.bfill() instead.\n  data = data.fillna(method='ffill')\nINFO: Using default `ModelCheckpoint`. Consider installing `litmodels` package to enable `LitModelCheckpoint` for automatic upload to the Lightning model registry.\nINFO: GPU available: True (cuda), used: True\nINFO: TPU available: False, using: 0 TPU cores\nINFO: HPU available: False, using: 0 HPUs\n",
     "output_type": "stream"
    },
    {
     "name": "stdout",
     "text": "剔除异常列: ['#NAME?', '#NAME?.1']\n数据总长度: 1437, 训练截止点: 1376\n验证集数量: 61\n",
     "output_type": "stream"
    },
    {
     "name": "stderr",
     "text": "INFO: LOCAL_RANK: 0 - CUDA_VISIBLE_DEVICES: [0]\nINFO: \n  | Name    | Type    | Params | Mode \n--------------------------------------------\n0 | lstm    | LSTM    | 78.8 K | train\n1 | fc      | Linear  | 129    | train\n2 | loss_fn | MSELoss | 0      | train\n--------------------------------------------\n79.0 K    Trainable params\n0         Non-trainable params\n79.0 K    Total params\n0.316     Total estimated model params size (MB)\n3         Modules in train mode\n0         Modules in eval mode\n",
     "output_type": "stream"
    },
    {
     "name": "stdout",
     "text": "Input feature size for LSTM: 24\nNumber of parameters in network: 79.0k\n",
     "output_type": "stream"
    },
    {
     "output_type": "display_data",
     "data": {
      "text/plain": "Sanity Checking: |          | 0/? [00:00<?, ?it/s]",
      "application/vnd.jupyter.widget-view+json": {
       "version_major": 2,
       "version_minor": 0,
       "model_id": ""
      }
     },
     "metadata": {}
    },
    {
     "name": "stderr",
     "text": "/usr/local/lib/python3.11/dist-packages/lightning/pytorch/loops/fit_loop.py:310: The number of training batches (20) is smaller than the logging interval Trainer(log_every_n_steps=50). Set a lower value for log_every_n_steps if you want to see logs for the training epoch.\n",
     "output_type": "stream"
    },
    {
     "output_type": "display_data",
     "data": {
      "text/plain": "Training: |          | 0/? [00:00<?, ?it/s]",
      "application/vnd.jupyter.widget-view+json": {
       "version_major": 2,
       "version_minor": 0,
       "model_id": "82b03e52af5142e1b38ac39dffbeb02e"
      }
     },
     "metadata": {}
    },
    {
     "output_type": "display_data",
     "data": {
      "text/plain": "Validation: |          | 0/? [00:00<?, ?it/s]",
      "application/vnd.jupyter.widget-view+json": {
       "version_major": 2,
       "version_minor": 0,
       "model_id": ""
      }
     },
     "metadata": {}
    },
    {
     "name": "stderr",
     "text": "INFO: Metric val_loss improved. New best score: 49251.840\n",
     "output_type": "stream"
    },
    {
     "output_type": "display_data",
     "data": {
      "text/plain": "Validation: |          | 0/? [00:00<?, ?it/s]",
      "application/vnd.jupyter.widget-view+json": {
       "version_major": 2,
       "version_minor": 0,
       "model_id": ""
      }
     },
     "metadata": {}
    },
    {
     "name": "stderr",
     "text": "INFO: Metric val_loss improved by 1900.668 >= min_delta = 0.0001. New best score: 47351.172\n",
     "output_type": "stream"
    },
    {
     "output_type": "display_data",
     "data": {
      "text/plain": "Validation: |          | 0/? [00:00<?, ?it/s]",
      "application/vnd.jupyter.widget-view+json": {
       "version_major": 2,
       "version_minor": 0,
       "model_id": ""
      }
     },
     "metadata": {}
    },
    {
     "name": "stderr",
     "text": "INFO: Metric val_loss improved by 1380.590 >= min_delta = 0.0001. New best score: 45970.582\n",
     "output_type": "stream"
    },
    {
     "output_type": "display_data",
     "data": {
      "text/plain": "Validation: |          | 0/? [00:00<?, ?it/s]",
      "application/vnd.jupyter.widget-view+json": {
       "version_major": 2,
       "version_minor": 0,
       "model_id": ""
      }
     },
     "metadata": {}
    },
    {
     "name": "stderr",
     "text": "INFO: Metric val_loss improved by 1212.141 >= min_delta = 0.0001. New best score: 44758.441\n",
     "output_type": "stream"
    },
    {
     "output_type": "display_data",
     "data": {
      "text/plain": "Validation: |          | 0/? [00:00<?, ?it/s]",
      "application/vnd.jupyter.widget-view+json": {
       "version_major": 2,
       "version_minor": 0,
       "model_id": ""
      }
     },
     "metadata": {}
    },
    {
     "name": "stderr",
     "text": "INFO: Metric val_loss improved by 1128.719 >= min_delta = 0.0001. New best score: 43629.723\n",
     "output_type": "stream"
    },
    {
     "output_type": "display_data",
     "data": {
      "text/plain": "Validation: |          | 0/? [00:00<?, ?it/s]",
      "application/vnd.jupyter.widget-view+json": {
       "version_major": 2,
       "version_minor": 0,
       "model_id": ""
      }
     },
     "metadata": {}
    },
    {
     "name": "stderr",
     "text": "INFO: Metric val_loss improved by 1093.164 >= min_delta = 0.0001. New best score: 42536.559\n",
     "output_type": "stream"
    },
    {
     "output_type": "display_data",
     "data": {
      "text/plain": "Validation: |          | 0/? [00:00<?, ?it/s]",
      "application/vnd.jupyter.widget-view+json": {
       "version_major": 2,
       "version_minor": 0,
       "model_id": ""
      }
     },
     "metadata": {}
    },
    {
     "name": "stderr",
     "text": "INFO: Metric val_loss improved by 1067.004 >= min_delta = 0.0001. New best score: 41469.555\n",
     "output_type": "stream"
    },
    {
     "output_type": "display_data",
     "data": {
      "text/plain": "Validation: |          | 0/? [00:00<?, ?it/s]",
      "application/vnd.jupyter.widget-view+json": {
       "version_major": 2,
       "version_minor": 0,
       "model_id": ""
      }
     },
     "metadata": {}
    },
    {
     "name": "stderr",
     "text": "INFO: Metric val_loss improved by 1045.383 >= min_delta = 0.0001. New best score: 40424.172\n",
     "output_type": "stream"
    },
    {
     "output_type": "display_data",
     "data": {
      "text/plain": "Validation: |          | 0/? [00:00<?, ?it/s]",
      "application/vnd.jupyter.widget-view+json": {
       "version_major": 2,
       "version_minor": 0,
       "model_id": ""
      }
     },
     "metadata": {}
    },
    {
     "name": "stderr",
     "text": "INFO: Metric val_loss improved by 1038.738 >= min_delta = 0.0001. New best score: 39385.434\n",
     "output_type": "stream"
    },
    {
     "output_type": "display_data",
     "data": {
      "text/plain": "Validation: |          | 0/? [00:00<?, ?it/s]",
      "application/vnd.jupyter.widget-view+json": {
       "version_major": 2,
       "version_minor": 0,
       "model_id": ""
      }
     },
     "metadata": {}
    },
    {
     "name": "stderr",
     "text": "INFO: Metric val_loss improved by 1025.867 >= min_delta = 0.0001. New best score: 38359.566\n",
     "output_type": "stream"
    },
    {
     "output_type": "display_data",
     "data": {
      "text/plain": "Validation: |          | 0/? [00:00<?, ?it/s]",
      "application/vnd.jupyter.widget-view+json": {
       "version_major": 2,
       "version_minor": 0,
       "model_id": ""
      }
     },
     "metadata": {}
    },
    {
     "name": "stderr",
     "text": "INFO: Metric val_loss improved by 1005.625 >= min_delta = 0.0001. New best score: 37353.941\n",
     "output_type": "stream"
    },
    {
     "output_type": "display_data",
     "data": {
      "text/plain": "Validation: |          | 0/? [00:00<?, ?it/s]",
      "application/vnd.jupyter.widget-view+json": {
       "version_major": 2,
       "version_minor": 0,
       "model_id": ""
      }
     },
     "metadata": {}
    },
    {
     "name": "stderr",
     "text": "INFO: Metric val_loss improved by 1014.242 >= min_delta = 0.0001. New best score: 36339.699\n",
     "output_type": "stream"
    },
    {
     "output_type": "display_data",
     "data": {
      "text/plain": "Validation: |          | 0/? [00:00<?, ?it/s]",
      "application/vnd.jupyter.widget-view+json": {
       "version_major": 2,
       "version_minor": 0,
       "model_id": ""
      }
     },
     "metadata": {}
    },
    {
     "name": "stderr",
     "text": "INFO: Metric val_loss improved by 990.508 >= min_delta = 0.0001. New best score: 35349.191\n",
     "output_type": "stream"
    },
    {
     "output_type": "display_data",
     "data": {
      "text/plain": "Validation: |          | 0/? [00:00<?, ?it/s]",
      "application/vnd.jupyter.widget-view+json": {
       "version_major": 2,
       "version_minor": 0,
       "model_id": ""
      }
     },
     "metadata": {}
    },
    {
     "name": "stderr",
     "text": "INFO: Metric val_loss improved by 969.730 >= min_delta = 0.0001. New best score: 34379.461\n",
     "output_type": "stream"
    },
    {
     "output_type": "display_data",
     "data": {
      "text/plain": "Validation: |          | 0/? [00:00<?, ?it/s]",
      "application/vnd.jupyter.widget-view+json": {
       "version_major": 2,
       "version_minor": 0,
       "model_id": ""
      }
     },
     "metadata": {}
    },
    {
     "name": "stderr",
     "text": "INFO: Metric val_loss improved by 951.754 >= min_delta = 0.0001. New best score: 33427.707\n",
     "output_type": "stream"
    },
    {
     "output_type": "display_data",
     "data": {
      "text/plain": "Validation: |          | 0/? [00:00<?, ?it/s]",
      "application/vnd.jupyter.widget-view+json": {
       "version_major": 2,
       "version_minor": 0,
       "model_id": ""
      }
     },
     "metadata": {}
    },
    {
     "name": "stderr",
     "text": "INFO: Metric val_loss improved by 935.352 >= min_delta = 0.0001. New best score: 32492.355\n",
     "output_type": "stream"
    },
    {
     "output_type": "display_data",
     "data": {
      "text/plain": "Validation: |          | 0/? [00:00<?, ?it/s]",
      "application/vnd.jupyter.widget-view+json": {
       "version_major": 2,
       "version_minor": 0,
       "model_id": ""
      }
     },
     "metadata": {}
    },
    {
     "name": "stderr",
     "text": "INFO: Metric val_loss improved by 919.828 >= min_delta = 0.0001. New best score: 31572.527\n",
     "output_type": "stream"
    },
    {
     "output_type": "display_data",
     "data": {
      "text/plain": "Validation: |          | 0/? [00:00<?, ?it/s]",
      "application/vnd.jupyter.widget-view+json": {
       "version_major": 2,
       "version_minor": 0,
       "model_id": ""
      }
     },
     "metadata": {}
    },
    {
     "name": "stderr",
     "text": "INFO: Metric val_loss improved by 904.863 >= min_delta = 0.0001. New best score: 30667.664\n",
     "output_type": "stream"
    },
    {
     "output_type": "display_data",
     "data": {
      "text/plain": "Validation: |          | 0/? [00:00<?, ?it/s]",
      "application/vnd.jupyter.widget-view+json": {
       "version_major": 2,
       "version_minor": 0,
       "model_id": ""
      }
     },
     "metadata": {}
    },
    {
     "name": "stderr",
     "text": "INFO: Metric val_loss improved by 890.289 >= min_delta = 0.0001. New best score: 29777.375\n",
     "output_type": "stream"
    },
    {
     "output_type": "display_data",
     "data": {
      "text/plain": "Validation: |          | 0/? [00:00<?, ?it/s]",
      "application/vnd.jupyter.widget-view+json": {
       "version_major": 2,
       "version_minor": 0,
       "model_id": ""
      }
     },
     "metadata": {}
    },
    {
     "name": "stderr",
     "text": "INFO: Metric val_loss improved by 875.979 >= min_delta = 0.0001. New best score: 28901.396\n",
     "output_type": "stream"
    },
    {
     "output_type": "display_data",
     "data": {
      "text/plain": "Validation: |          | 0/? [00:00<?, ?it/s]",
      "application/vnd.jupyter.widget-view+json": {
       "version_major": 2,
       "version_minor": 0,
       "model_id": ""
      }
     },
     "metadata": {}
    },
    {
     "name": "stderr",
     "text": "INFO: Metric val_loss improved by 861.891 >= min_delta = 0.0001. New best score: 28039.506\n",
     "output_type": "stream"
    },
    {
     "output_type": "display_data",
     "data": {
      "text/plain": "Validation: |          | 0/? [00:00<?, ?it/s]",
      "application/vnd.jupyter.widget-view+json": {
       "version_major": 2,
       "version_minor": 0,
       "model_id": ""
      }
     },
     "metadata": {}
    },
    {
     "name": "stderr",
     "text": "INFO: Metric val_loss improved by 847.961 >= min_delta = 0.0001. New best score: 27191.545\n",
     "output_type": "stream"
    },
    {
     "output_type": "display_data",
     "data": {
      "text/plain": "Validation: |          | 0/? [00:00<?, ?it/s]",
      "application/vnd.jupyter.widget-view+json": {
       "version_major": 2,
       "version_minor": 0,
       "model_id": ""
      }
     },
     "metadata": {}
    },
    {
     "name": "stderr",
     "text": "INFO: Metric val_loss improved by 834.164 >= min_delta = 0.0001. New best score: 26357.381\n",
     "output_type": "stream"
    },
    {
     "output_type": "display_data",
     "data": {
      "text/plain": "Validation: |          | 0/? [00:00<?, ?it/s]",
      "application/vnd.jupyter.widget-view+json": {
       "version_major": 2,
       "version_minor": 0,
       "model_id": ""
      }
     },
     "metadata": {}
    },
    {
     "name": "stderr",
     "text": "INFO: Metric val_loss improved by 820.486 >= min_delta = 0.0001. New best score: 25536.895\n",
     "output_type": "stream"
    },
    {
     "output_type": "display_data",
     "data": {
      "text/plain": "Validation: |          | 0/? [00:00<?, ?it/s]",
      "application/vnd.jupyter.widget-view+json": {
       "version_major": 2,
       "version_minor": 0,
       "model_id": ""
      }
     },
     "metadata": {}
    },
    {
     "name": "stderr",
     "text": "INFO: Metric val_loss improved by 806.904 >= min_delta = 0.0001. New best score: 24729.990\n",
     "output_type": "stream"
    },
    {
     "output_type": "display_data",
     "data": {
      "text/plain": "Validation: |          | 0/? [00:00<?, ?it/s]",
      "application/vnd.jupyter.widget-view+json": {
       "version_major": 2,
       "version_minor": 0,
       "model_id": ""
      }
     },
     "metadata": {}
    },
    {
     "name": "stderr",
     "text": "INFO: Metric val_loss improved by 793.383 >= min_delta = 0.0001. New best score: 23936.607\n",
     "output_type": "stream"
    },
    {
     "output_type": "display_data",
     "data": {
      "text/plain": "Validation: |          | 0/? [00:00<?, ?it/s]",
      "application/vnd.jupyter.widget-view+json": {
       "version_major": 2,
       "version_minor": 0,
       "model_id": ""
      }
     },
     "metadata": {}
    },
    {
     "name": "stderr",
     "text": "INFO: Metric val_loss improved by 779.920 >= min_delta = 0.0001. New best score: 23156.688\n",
     "output_type": "stream"
    },
    {
     "output_type": "display_data",
     "data": {
      "text/plain": "Validation: |          | 0/? [00:00<?, ?it/s]",
      "application/vnd.jupyter.widget-view+json": {
       "version_major": 2,
       "version_minor": 0,
       "model_id": ""
      }
     },
     "metadata": {}
    },
    {
     "name": "stderr",
     "text": "INFO: Metric val_loss improved by 766.535 >= min_delta = 0.0001. New best score: 22390.152\n",
     "output_type": "stream"
    },
    {
     "output_type": "display_data",
     "data": {
      "text/plain": "Validation: |          | 0/? [00:00<?, ?it/s]",
      "application/vnd.jupyter.widget-view+json": {
       "version_major": 2,
       "version_minor": 0,
       "model_id": ""
      }
     },
     "metadata": {}
    },
    {
     "name": "stderr",
     "text": "INFO: Metric val_loss improved by 752.930 >= min_delta = 0.0001. New best score: 21637.223\n",
     "output_type": "stream"
    },
    {
     "output_type": "display_data",
     "data": {
      "text/plain": "Validation: |          | 0/? [00:00<?, ?it/s]",
      "application/vnd.jupyter.widget-view+json": {
       "version_major": 2,
       "version_minor": 0,
       "model_id": ""
      }
     },
     "metadata": {}
    },
    {
     "name": "stderr",
     "text": "INFO: Metric val_loss improved by 736.418 >= min_delta = 0.0001. New best score: 20900.805\n",
     "output_type": "stream"
    },
    {
     "output_type": "display_data",
     "data": {
      "text/plain": "Validation: |          | 0/? [00:00<?, ?it/s]",
      "application/vnd.jupyter.widget-view+json": {
       "version_major": 2,
       "version_minor": 0,
       "model_id": ""
      }
     },
     "metadata": {}
    },
    {
     "name": "stderr",
     "text": "INFO: Metric val_loss improved by 722.805 >= min_delta = 0.0001. New best score: 20178.000\n",
     "output_type": "stream"
    },
    {
     "output_type": "display_data",
     "data": {
      "text/plain": "Validation: |          | 0/? [00:00<?, ?it/s]",
      "application/vnd.jupyter.widget-view+json": {
       "version_major": 2,
       "version_minor": 0,
       "model_id": ""
      }
     },
     "metadata": {}
    },
    {
     "name": "stderr",
     "text": "INFO: Metric val_loss improved by 708.758 >= min_delta = 0.0001. New best score: 19469.242\n",
     "output_type": "stream"
    },
    {
     "output_type": "display_data",
     "data": {
      "text/plain": "Validation: |          | 0/? [00:00<?, ?it/s]",
      "application/vnd.jupyter.widget-view+json": {
       "version_major": 2,
       "version_minor": 0,
       "model_id": ""
      }
     },
     "metadata": {}
    },
    {
     "name": "stderr",
     "text": "INFO: Metric val_loss improved by 699.549 >= min_delta = 0.0001. New best score: 18769.693\n",
     "output_type": "stream"
    },
    {
     "output_type": "display_data",
     "data": {
      "text/plain": "Validation: |          | 0/? [00:00<?, ?it/s]",
      "application/vnd.jupyter.widget-view+json": {
       "version_major": 2,
       "version_minor": 0,
       "model_id": ""
      }
     },
     "metadata": {}
    },
    {
     "name": "stderr",
     "text": "INFO: Metric val_loss improved by 687.314 >= min_delta = 0.0001. New best score: 18082.379\n",
     "output_type": "stream"
    },
    {
     "output_type": "display_data",
     "data": {
      "text/plain": "Validation: |          | 0/? [00:00<?, ?it/s]",
      "application/vnd.jupyter.widget-view+json": {
       "version_major": 2,
       "version_minor": 0,
       "model_id": ""
      }
     },
     "metadata": {}
    },
    {
     "name": "stderr",
     "text": "INFO: Metric val_loss improved by 674.328 >= min_delta = 0.0001. New best score: 17408.051\n",
     "output_type": "stream"
    },
    {
     "output_type": "display_data",
     "data": {
      "text/plain": "Validation: |          | 0/? [00:00<?, ?it/s]",
      "application/vnd.jupyter.widget-view+json": {
       "version_major": 2,
       "version_minor": 0,
       "model_id": ""
      }
     },
     "metadata": {}
    },
    {
     "name": "stderr",
     "text": "INFO: Metric val_loss improved by 661.031 >= min_delta = 0.0001. New best score: 16747.020\n",
     "output_type": "stream"
    },
    {
     "output_type": "display_data",
     "data": {
      "text/plain": "Validation: |          | 0/? [00:00<?, ?it/s]",
      "application/vnd.jupyter.widget-view+json": {
       "version_major": 2,
       "version_minor": 0,
       "model_id": ""
      }
     },
     "metadata": {}
    },
    {
     "name": "stderr",
     "text": "INFO: Metric val_loss improved by 648.039 >= min_delta = 0.0001. New best score: 16098.980\n",
     "output_type": "stream"
    },
    {
     "output_type": "display_data",
     "data": {
      "text/plain": "Validation: |          | 0/? [00:00<?, ?it/s]",
      "application/vnd.jupyter.widget-view+json": {
       "version_major": 2,
       "version_minor": 0,
       "model_id": ""
      }
     },
     "metadata": {}
    },
    {
     "name": "stderr",
     "text": "INFO: Metric val_loss improved by 633.447 >= min_delta = 0.0001. New best score: 15465.533\n",
     "output_type": "stream"
    },
    {
     "output_type": "display_data",
     "data": {
      "text/plain": "Validation: |          | 0/? [00:00<?, ?it/s]",
      "application/vnd.jupyter.widget-view+json": {
       "version_major": 2,
       "version_minor": 0,
       "model_id": ""
      }
     },
     "metadata": {}
    },
    {
     "name": "stderr",
     "text": "INFO: Metric val_loss improved by 620.389 >= min_delta = 0.0001. New best score: 14845.145\n",
     "output_type": "stream"
    },
    {
     "output_type": "display_data",
     "data": {
      "text/plain": "Validation: |          | 0/? [00:00<?, ?it/s]",
      "application/vnd.jupyter.widget-view+json": {
       "version_major": 2,
       "version_minor": 0,
       "model_id": ""
      }
     },
     "metadata": {}
    },
    {
     "name": "stderr",
     "text": "INFO: Metric val_loss improved by 608.444 >= min_delta = 0.0001. New best score: 14236.700\n",
     "output_type": "stream"
    },
    {
     "output_type": "display_data",
     "data": {
      "text/plain": "Validation: |          | 0/? [00:00<?, ?it/s]",
      "application/vnd.jupyter.widget-view+json": {
       "version_major": 2,
       "version_minor": 0,
       "model_id": ""
      }
     },
     "metadata": {}
    },
    {
     "name": "stderr",
     "text": "INFO: Metric val_loss improved by 595.834 >= min_delta = 0.0001. New best score: 13640.866\n",
     "output_type": "stream"
    },
    {
     "output_type": "display_data",
     "data": {
      "text/plain": "Validation: |          | 0/? [00:00<?, ?it/s]",
      "application/vnd.jupyter.widget-view+json": {
       "version_major": 2,
       "version_minor": 0,
       "model_id": ""
      }
     },
     "metadata": {}
    },
    {
     "name": "stderr",
     "text": "INFO: Metric val_loss improved by 582.690 >= min_delta = 0.0001. New best score: 13058.176\n",
     "output_type": "stream"
    },
    {
     "output_type": "display_data",
     "data": {
      "text/plain": "Validation: |          | 0/? [00:00<?, ?it/s]",
      "application/vnd.jupyter.widget-view+json": {
       "version_major": 2,
       "version_minor": 0,
       "model_id": ""
      }
     },
     "metadata": {}
    },
    {
     "name": "stderr",
     "text": "INFO: Metric val_loss improved by 570.197 >= min_delta = 0.0001. New best score: 12487.979\n",
     "output_type": "stream"
    },
    {
     "output_type": "display_data",
     "data": {
      "text/plain": "Validation: |          | 0/? [00:00<?, ?it/s]",
      "application/vnd.jupyter.widget-view+json": {
       "version_major": 2,
       "version_minor": 0,
       "model_id": ""
      }
     },
     "metadata": {}
    },
    {
     "name": "stderr",
     "text": "INFO: Metric val_loss improved by 557.274 >= min_delta = 0.0001. New best score: 11930.704\n",
     "output_type": "stream"
    },
    {
     "output_type": "display_data",
     "data": {
      "text/plain": "Validation: |          | 0/? [00:00<?, ?it/s]",
      "application/vnd.jupyter.widget-view+json": {
       "version_major": 2,
       "version_minor": 0,
       "model_id": ""
      }
     },
     "metadata": {}
    },
    {
     "name": "stderr",
     "text": "INFO: Metric val_loss improved by 543.498 >= min_delta = 0.0001. New best score: 11387.206\n",
     "output_type": "stream"
    },
    {
     "output_type": "display_data",
     "data": {
      "text/plain": "Validation: |          | 0/? [00:00<?, ?it/s]",
      "application/vnd.jupyter.widget-view+json": {
       "version_major": 2,
       "version_minor": 0,
       "model_id": ""
      }
     },
     "metadata": {}
    },
    {
     "name": "stderr",
     "text": "INFO: Metric val_loss improved by 528.374 >= min_delta = 0.0001. New best score: 10858.832\n",
     "output_type": "stream"
    },
    {
     "output_type": "display_data",
     "data": {
      "text/plain": "Validation: |          | 0/? [00:00<?, ?it/s]",
      "application/vnd.jupyter.widget-view+json": {
       "version_major": 2,
       "version_minor": 0,
       "model_id": ""
      }
     },
     "metadata": {}
    },
    {
     "name": "stderr",
     "text": "INFO: Metric val_loss improved by 517.463 >= min_delta = 0.0001. New best score: 10341.369\n",
     "output_type": "stream"
    },
    {
     "output_type": "display_data",
     "data": {
      "text/plain": "Validation: |          | 0/? [00:00<?, ?it/s]",
      "application/vnd.jupyter.widget-view+json": {
       "version_major": 2,
       "version_minor": 0,
       "model_id": ""
      }
     },
     "metadata": {}
    },
    {
     "name": "stderr",
     "text": "INFO: Metric val_loss improved by 505.134 >= min_delta = 0.0001. New best score: 9836.235\n",
     "output_type": "stream"
    },
    {
     "output_type": "display_data",
     "data": {
      "text/plain": "Validation: |          | 0/? [00:00<?, ?it/s]",
      "application/vnd.jupyter.widget-view+json": {
       "version_major": 2,
       "version_minor": 0,
       "model_id": ""
      }
     },
     "metadata": {}
    },
    {
     "name": "stderr",
     "text": "INFO: Metric val_loss improved by 491.746 >= min_delta = 0.0001. New best score: 9344.489\n",
     "output_type": "stream"
    },
    {
     "output_type": "display_data",
     "data": {
      "text/plain": "Validation: |          | 0/? [00:00<?, ?it/s]",
      "application/vnd.jupyter.widget-view+json": {
       "version_major": 2,
       "version_minor": 0,
       "model_id": ""
      }
     },
     "metadata": {}
    },
    {
     "name": "stderr",
     "text": "INFO: Metric val_loss improved by 478.771 >= min_delta = 0.0001. New best score: 8865.719\n",
     "output_type": "stream"
    },
    {
     "output_type": "display_data",
     "data": {
      "text/plain": "Validation: |          | 0/? [00:00<?, ?it/s]",
      "application/vnd.jupyter.widget-view+json": {
       "version_major": 2,
       "version_minor": 0,
       "model_id": ""
      }
     },
     "metadata": {}
    },
    {
     "name": "stderr",
     "text": "INFO: Metric val_loss improved by 465.964 >= min_delta = 0.0001. New best score: 8399.755\n",
     "output_type": "stream"
    },
    {
     "output_type": "display_data",
     "data": {
      "text/plain": "Validation: |          | 0/? [00:00<?, ?it/s]",
      "application/vnd.jupyter.widget-view+json": {
       "version_major": 2,
       "version_minor": 0,
       "model_id": ""
      }
     },
     "metadata": {}
    },
    {
     "name": "stderr",
     "text": "INFO: Metric val_loss improved by 453.674 >= min_delta = 0.0001. New best score: 7946.081\n",
     "output_type": "stream"
    },
    {
     "output_type": "display_data",
     "data": {
      "text/plain": "Validation: |          | 0/? [00:00<?, ?it/s]",
      "application/vnd.jupyter.widget-view+json": {
       "version_major": 2,
       "version_minor": 0,
       "model_id": ""
      }
     },
     "metadata": {}
    },
    {
     "name": "stderr",
     "text": "INFO: Metric val_loss improved by 440.958 >= min_delta = 0.0001. New best score: 7505.123\n",
     "output_type": "stream"
    },
    {
     "output_type": "display_data",
     "data": {
      "text/plain": "Validation: |          | 0/? [00:00<?, ?it/s]",
      "application/vnd.jupyter.widget-view+json": {
       "version_major": 2,
       "version_minor": 0,
       "model_id": ""
      }
     },
     "metadata": {}
    },
    {
     "name": "stderr",
     "text": "INFO: Metric val_loss improved by 425.891 >= min_delta = 0.0001. New best score: 7079.231\n",
     "output_type": "stream"
    },
    {
     "output_type": "display_data",
     "data": {
      "text/plain": "Validation: |          | 0/? [00:00<?, ?it/s]",
      "application/vnd.jupyter.widget-view+json": {
       "version_major": 2,
       "version_minor": 0,
       "model_id": ""
      }
     },
     "metadata": {}
    },
    {
     "name": "stderr",
     "text": "INFO: Metric val_loss improved by 413.950 >= min_delta = 0.0001. New best score: 6665.281\n",
     "output_type": "stream"
    },
    {
     "output_type": "display_data",
     "data": {
      "text/plain": "Validation: |          | 0/? [00:00<?, ?it/s]",
      "application/vnd.jupyter.widget-view+json": {
       "version_major": 2,
       "version_minor": 0,
       "model_id": ""
      }
     },
     "metadata": {}
    },
    {
     "name": "stderr",
     "text": "INFO: Metric val_loss improved by 396.668 >= min_delta = 0.0001. New best score: 6268.613\n",
     "output_type": "stream"
    },
    {
     "output_type": "display_data",
     "data": {
      "text/plain": "Validation: |          | 0/? [00:00<?, ?it/s]",
      "application/vnd.jupyter.widget-view+json": {
       "version_major": 2,
       "version_minor": 0,
       "model_id": ""
      }
     },
     "metadata": {}
    },
    {
     "name": "stderr",
     "text": "INFO: Metric val_loss improved by 382.458 >= min_delta = 0.0001. New best score: 5886.155\n",
     "output_type": "stream"
    },
    {
     "output_type": "display_data",
     "data": {
      "text/plain": "Validation: |          | 0/? [00:00<?, ?it/s]",
      "application/vnd.jupyter.widget-view+json": {
       "version_major": 2,
       "version_minor": 0,
       "model_id": ""
      }
     },
     "metadata": {}
    },
    {
     "name": "stderr",
     "text": "INFO: Metric val_loss improved by 369.082 >= min_delta = 0.0001. New best score: 5517.074\n",
     "output_type": "stream"
    },
    {
     "output_type": "display_data",
     "data": {
      "text/plain": "Validation: |          | 0/? [00:00<?, ?it/s]",
      "application/vnd.jupyter.widget-view+json": {
       "version_major": 2,
       "version_minor": 0,
       "model_id": ""
      }
     },
     "metadata": {}
    },
    {
     "name": "stderr",
     "text": "INFO: Metric val_loss improved by 358.691 >= min_delta = 0.0001. New best score: 5158.383\n",
     "output_type": "stream"
    },
    {
     "output_type": "display_data",
     "data": {
      "text/plain": "Validation: |          | 0/? [00:00<?, ?it/s]",
      "application/vnd.jupyter.widget-view+json": {
       "version_major": 2,
       "version_minor": 0,
       "model_id": ""
      }
     },
     "metadata": {}
    },
    {
     "name": "stderr",
     "text": "INFO: Metric val_loss improved by 345.238 >= min_delta = 0.0001. New best score: 4813.145\n",
     "output_type": "stream"
    },
    {
     "output_type": "display_data",
     "data": {
      "text/plain": "Validation: |          | 0/? [00:00<?, ?it/s]",
      "application/vnd.jupyter.widget-view+json": {
       "version_major": 2,
       "version_minor": 0,
       "model_id": ""
      }
     },
     "metadata": {}
    },
    {
     "name": "stderr",
     "text": "INFO: Metric val_loss improved by 336.388 >= min_delta = 0.0001. New best score: 4476.757\n",
     "output_type": "stream"
    },
    {
     "output_type": "display_data",
     "data": {
      "text/plain": "Validation: |          | 0/? [00:00<?, ?it/s]",
      "application/vnd.jupyter.widget-view+json": {
       "version_major": 2,
       "version_minor": 0,
       "model_id": ""
      }
     },
     "metadata": {}
    },
    {
     "name": "stderr",
     "text": "INFO: Metric val_loss improved by 318.997 >= min_delta = 0.0001. New best score: 4157.760\n",
     "output_type": "stream"
    },
    {
     "output_type": "display_data",
     "data": {
      "text/plain": "Validation: |          | 0/? [00:00<?, ?it/s]",
      "application/vnd.jupyter.widget-view+json": {
       "version_major": 2,
       "version_minor": 0,
       "model_id": ""
      }
     },
     "metadata": {}
    },
    {
     "name": "stderr",
     "text": "INFO: Metric val_loss improved by 301.353 >= min_delta = 0.0001. New best score: 3856.407\n",
     "output_type": "stream"
    },
    {
     "output_type": "display_data",
     "data": {
      "text/plain": "Validation: |          | 0/? [00:00<?, ?it/s]",
      "application/vnd.jupyter.widget-view+json": {
       "version_major": 2,
       "version_minor": 0,
       "model_id": ""
      }
     },
     "metadata": {}
    },
    {
     "name": "stderr",
     "text": "INFO: Metric val_loss improved by 287.005 >= min_delta = 0.0001. New best score: 3569.402\n",
     "output_type": "stream"
    },
    {
     "output_type": "display_data",
     "data": {
      "text/plain": "Validation: |          | 0/? [00:00<?, ?it/s]",
      "application/vnd.jupyter.widget-view+json": {
       "version_major": 2,
       "version_minor": 0,
       "model_id": ""
      }
     },
     "metadata": {}
    },
    {
     "name": "stderr",
     "text": "INFO: Metric val_loss improved by 282.220 >= min_delta = 0.0001. New best score: 3287.182\n",
     "output_type": "stream"
    },
    {
     "output_type": "display_data",
     "data": {
      "text/plain": "Validation: |          | 0/? [00:00<?, ?it/s]",
      "application/vnd.jupyter.widget-view+json": {
       "version_major": 2,
       "version_minor": 0,
       "model_id": ""
      }
     },
     "metadata": {}
    },
    {
     "name": "stderr",
     "text": "INFO: Metric val_loss improved by 256.446 >= min_delta = 0.0001. New best score: 3030.736\n",
     "output_type": "stream"
    },
    {
     "output_type": "display_data",
     "data": {
      "text/plain": "Validation: |          | 0/? [00:00<?, ?it/s]",
      "application/vnd.jupyter.widget-view+json": {
       "version_major": 2,
       "version_minor": 0,
       "model_id": ""
      }
     },
     "metadata": {}
    },
    {
     "name": "stderr",
     "text": "INFO: Metric val_loss improved by 228.815 >= min_delta = 0.0001. New best score: 2801.922\n",
     "output_type": "stream"
    },
    {
     "output_type": "display_data",
     "data": {
      "text/plain": "Validation: |          | 0/? [00:00<?, ?it/s]",
      "application/vnd.jupyter.widget-view+json": {
       "version_major": 2,
       "version_minor": 0,
       "model_id": ""
      }
     },
     "metadata": {}
    },
    {
     "name": "stderr",
     "text": "INFO: Metric val_loss improved by 202.853 >= min_delta = 0.0001. New best score: 2599.069\n",
     "output_type": "stream"
    },
    {
     "output_type": "display_data",
     "data": {
      "text/plain": "Validation: |          | 0/? [00:00<?, ?it/s]",
      "application/vnd.jupyter.widget-view+json": {
       "version_major": 2,
       "version_minor": 0,
       "model_id": ""
      }
     },
     "metadata": {}
    },
    {
     "name": "stderr",
     "text": "INFO: Metric val_loss improved by 206.298 >= min_delta = 0.0001. New best score: 2392.771\n",
     "output_type": "stream"
    },
    {
     "output_type": "display_data",
     "data": {
      "text/plain": "Validation: |          | 0/? [00:00<?, ?it/s]",
      "application/vnd.jupyter.widget-view+json": {
       "version_major": 2,
       "version_minor": 0,
       "model_id": ""
      }
     },
     "metadata": {}
    },
    {
     "name": "stderr",
     "text": "INFO: Metric val_loss improved by 187.252 >= min_delta = 0.0001. New best score: 2205.519\n",
     "output_type": "stream"
    },
    {
     "output_type": "display_data",
     "data": {
      "text/plain": "Validation: |          | 0/? [00:00<?, ?it/s]",
      "application/vnd.jupyter.widget-view+json": {
       "version_major": 2,
       "version_minor": 0,
       "model_id": ""
      }
     },
     "metadata": {}
    },
    {
     "name": "stderr",
     "text": "INFO: Metric val_loss improved by 167.585 >= min_delta = 0.0001. New best score: 2037.934\n",
     "output_type": "stream"
    },
    {
     "output_type": "display_data",
     "data": {
      "text/plain": "Validation: |          | 0/? [00:00<?, ?it/s]",
      "application/vnd.jupyter.widget-view+json": {
       "version_major": 2,
       "version_minor": 0,
       "model_id": ""
      }
     },
     "metadata": {}
    },
    {
     "name": "stderr",
     "text": "INFO: Metric val_loss improved by 146.651 >= min_delta = 0.0001. New best score: 1891.282\n",
     "output_type": "stream"
    },
    {
     "output_type": "display_data",
     "data": {
      "text/plain": "Validation: |          | 0/? [00:00<?, ?it/s]",
      "application/vnd.jupyter.widget-view+json": {
       "version_major": 2,
       "version_minor": 0,
       "model_id": ""
      }
     },
     "metadata": {}
    },
    {
     "name": "stderr",
     "text": "INFO: Metric val_loss improved by 150.718 >= min_delta = 0.0001. New best score: 1740.565\n",
     "output_type": "stream"
    },
    {
     "output_type": "display_data",
     "data": {
      "text/plain": "Validation: |          | 0/? [00:00<?, ?it/s]",
      "application/vnd.jupyter.widget-view+json": {
       "version_major": 2,
       "version_minor": 0,
       "model_id": ""
      }
     },
     "metadata": {}
    },
    {
     "name": "stderr",
     "text": "INFO: Metric val_loss improved by 121.306 >= min_delta = 0.0001. New best score: 1619.259\n",
     "output_type": "stream"
    },
    {
     "output_type": "display_data",
     "data": {
      "text/plain": "Validation: |          | 0/? [00:00<?, ?it/s]",
      "application/vnd.jupyter.widget-view+json": {
       "version_major": 2,
       "version_minor": 0,
       "model_id": ""
      }
     },
     "metadata": {}
    },
    {
     "name": "stderr",
     "text": "INFO: Metric val_loss improved by 125.672 >= min_delta = 0.0001. New best score: 1493.587\n",
     "output_type": "stream"
    },
    {
     "output_type": "display_data",
     "data": {
      "text/plain": "Validation: |          | 0/? [00:00<?, ?it/s]",
      "application/vnd.jupyter.widget-view+json": {
       "version_major": 2,
       "version_minor": 0,
       "model_id": ""
      }
     },
     "metadata": {}
    },
    {
     "name": "stderr",
     "text": "INFO: Metric val_loss improved by 114.298 >= min_delta = 0.0001. New best score: 1379.289\n",
     "output_type": "stream"
    },
    {
     "output_type": "display_data",
     "data": {
      "text/plain": "Validation: |          | 0/? [00:00<?, ?it/s]",
      "application/vnd.jupyter.widget-view+json": {
       "version_major": 2,
       "version_minor": 0,
       "model_id": ""
      }
     },
     "metadata": {}
    },
    {
     "name": "stderr",
     "text": "INFO: Metric val_loss improved by 100.365 >= min_delta = 0.0001. New best score: 1278.923\n",
     "output_type": "stream"
    },
    {
     "output_type": "display_data",
     "data": {
      "text/plain": "Validation: |          | 0/? [00:00<?, ?it/s]",
      "application/vnd.jupyter.widget-view+json": {
       "version_major": 2,
       "version_minor": 0,
       "model_id": ""
      }
     },
     "metadata": {}
    },
    {
     "name": "stderr",
     "text": "INFO: Metric val_loss improved by 94.300 >= min_delta = 0.0001. New best score: 1184.624\n",
     "output_type": "stream"
    },
    {
     "output_type": "display_data",
     "data": {
      "text/plain": "Validation: |          | 0/? [00:00<?, ?it/s]",
      "application/vnd.jupyter.widget-view+json": {
       "version_major": 2,
       "version_minor": 0,
       "model_id": ""
      }
     },
     "metadata": {}
    },
    {
     "name": "stderr",
     "text": "INFO: Metric val_loss improved by 82.792 >= min_delta = 0.0001. New best score: 1101.832\n",
     "output_type": "stream"
    },
    {
     "output_type": "display_data",
     "data": {
      "text/plain": "Validation: |          | 0/? [00:00<?, ?it/s]",
      "application/vnd.jupyter.widget-view+json": {
       "version_major": 2,
       "version_minor": 0,
       "model_id": ""
      }
     },
     "metadata": {}
    },
    {
     "name": "stderr",
     "text": "INFO: Metric val_loss improved by 88.662 >= min_delta = 0.0001. New best score: 1013.169\n",
     "output_type": "stream"
    },
    {
     "output_type": "display_data",
     "data": {
      "text/plain": "Validation: |          | 0/? [00:00<?, ?it/s]",
      "application/vnd.jupyter.widget-view+json": {
       "version_major": 2,
       "version_minor": 0,
       "model_id": ""
      }
     },
     "metadata": {}
    },
    {
     "name": "stderr",
     "text": "INFO: Metric val_loss improved by 73.332 >= min_delta = 0.0001. New best score: 939.837\n",
     "output_type": "stream"
    },
    {
     "output_type": "display_data",
     "data": {
      "text/plain": "Validation: |          | 0/? [00:00<?, ?it/s]",
      "application/vnd.jupyter.widget-view+json": {
       "version_major": 2,
       "version_minor": 0,
       "model_id": ""
      }
     },
     "metadata": {}
    },
    {
     "name": "stderr",
     "text": "INFO: Metric val_loss improved by 75.434 >= min_delta = 0.0001. New best score: 864.404\n",
     "output_type": "stream"
    },
    {
     "output_type": "display_data",
     "data": {
      "text/plain": "Validation: |          | 0/? [00:00<?, ?it/s]",
      "application/vnd.jupyter.widget-view+json": {
       "version_major": 2,
       "version_minor": 0,
       "model_id": ""
      }
     },
     "metadata": {}
    },
    {
     "name": "stderr",
     "text": "INFO: Metric val_loss improved by 57.756 >= min_delta = 0.0001. New best score: 806.647\n",
     "output_type": "stream"
    },
    {
     "output_type": "display_data",
     "data": {
      "text/plain": "Validation: |          | 0/? [00:00<?, ?it/s]",
      "application/vnd.jupyter.widget-view+json": {
       "version_major": 2,
       "version_minor": 0,
       "model_id": ""
      }
     },
     "metadata": {}
    },
    {
     "name": "stderr",
     "text": "INFO: Metric val_loss improved by 64.201 >= min_delta = 0.0001. New best score: 742.446\n",
     "output_type": "stream"
    },
    {
     "output_type": "display_data",
     "data": {
      "text/plain": "Validation: |          | 0/? [00:00<?, ?it/s]",
      "application/vnd.jupyter.widget-view+json": {
       "version_major": 2,
       "version_minor": 0,
       "model_id": ""
      }
     },
     "metadata": {}
    },
    {
     "name": "stderr",
     "text": "INFO: Metric val_loss improved by 56.605 >= min_delta = 0.0001. New best score: 685.841\n",
     "output_type": "stream"
    },
    {
     "output_type": "display_data",
     "data": {
      "text/plain": "Validation: |          | 0/? [00:00<?, ?it/s]",
      "application/vnd.jupyter.widget-view+json": {
       "version_major": 2,
       "version_minor": 0,
       "model_id": ""
      }
     },
     "metadata": {}
    },
    {
     "name": "stderr",
     "text": "INFO: Metric val_loss improved by 59.208 >= min_delta = 0.0001. New best score: 626.633\n",
     "output_type": "stream"
    },
    {
     "output_type": "display_data",
     "data": {
      "text/plain": "Validation: |          | 0/? [00:00<?, ?it/s]",
      "application/vnd.jupyter.widget-view+json": {
       "version_major": 2,
       "version_minor": 0,
       "model_id": ""
      }
     },
     "metadata": {}
    },
    {
     "name": "stderr",
     "text": "INFO: Metric val_loss improved by 57.001 >= min_delta = 0.0001. New best score: 569.632\n",
     "output_type": "stream"
    },
    {
     "output_type": "display_data",
     "data": {
      "text/plain": "Validation: |          | 0/? [00:00<?, ?it/s]",
      "application/vnd.jupyter.widget-view+json": {
       "version_major": 2,
       "version_minor": 0,
       "model_id": ""
      }
     },
     "metadata": {}
    },
    {
     "name": "stderr",
     "text": "INFO: Metric val_loss improved by 43.607 >= min_delta = 0.0001. New best score: 526.025\n",
     "output_type": "stream"
    },
    {
     "output_type": "display_data",
     "data": {
      "text/plain": "Validation: |          | 0/? [00:00<?, ?it/s]",
      "application/vnd.jupyter.widget-view+json": {
       "version_major": 2,
       "version_minor": 0,
       "model_id": ""
      }
     },
     "metadata": {}
    },
    {
     "name": "stderr",
     "text": "INFO: Metric val_loss improved by 38.265 >= min_delta = 0.0001. New best score: 487.760\n",
     "output_type": "stream"
    },
    {
     "output_type": "display_data",
     "data": {
      "text/plain": "Validation: |          | 0/? [00:00<?, ?it/s]",
      "application/vnd.jupyter.widget-view+json": {
       "version_major": 2,
       "version_minor": 0,
       "model_id": ""
      }
     },
     "metadata": {}
    },
    {
     "name": "stderr",
     "text": "INFO: Metric val_loss improved by 34.170 >= min_delta = 0.0001. New best score: 453.591\n",
     "output_type": "stream"
    },
    {
     "output_type": "display_data",
     "data": {
      "text/plain": "Validation: |          | 0/? [00:00<?, ?it/s]",
      "application/vnd.jupyter.widget-view+json": {
       "version_major": 2,
       "version_minor": 0,
       "model_id": ""
      }
     },
     "metadata": {}
    },
    {
     "name": "stderr",
     "text": "INFO: Metric val_loss improved by 33.625 >= min_delta = 0.0001. New best score: 419.965\n",
     "output_type": "stream"
    },
    {
     "output_type": "display_data",
     "data": {
      "text/plain": "Validation: |          | 0/? [00:00<?, ?it/s]",
      "application/vnd.jupyter.widget-view+json": {
       "version_major": 2,
       "version_minor": 0,
       "model_id": ""
      }
     },
     "metadata": {}
    },
    {
     "name": "stderr",
     "text": "INFO: Metric val_loss improved by 31.623 >= min_delta = 0.0001. New best score: 388.342\n",
     "output_type": "stream"
    },
    {
     "output_type": "display_data",
     "data": {
      "text/plain": "Validation: |          | 0/? [00:00<?, ?it/s]",
      "application/vnd.jupyter.widget-view+json": {
       "version_major": 2,
       "version_minor": 0,
       "model_id": ""
      }
     },
     "metadata": {}
    },
    {
     "name": "stderr",
     "text": "INFO: Metric val_loss improved by 37.487 >= min_delta = 0.0001. New best score: 350.855\n",
     "output_type": "stream"
    },
    {
     "output_type": "display_data",
     "data": {
      "text/plain": "Validation: |          | 0/? [00:00<?, ?it/s]",
      "application/vnd.jupyter.widget-view+json": {
       "version_major": 2,
       "version_minor": 0,
       "model_id": ""
      }
     },
     "metadata": {}
    },
    {
     "name": "stderr",
     "text": "INFO: Metric val_loss improved by 26.723 >= min_delta = 0.0001. New best score: 324.132\n",
     "output_type": "stream"
    },
    {
     "output_type": "display_data",
     "data": {
      "text/plain": "Validation: |          | 0/? [00:00<?, ?it/s]",
      "application/vnd.jupyter.widget-view+json": {
       "version_major": 2,
       "version_minor": 0,
       "model_id": ""
      }
     },
     "metadata": {}
    },
    {
     "name": "stderr",
     "text": "INFO: Metric val_loss improved by 25.781 >= min_delta = 0.0001. New best score: 298.351\n",
     "output_type": "stream"
    },
    {
     "output_type": "display_data",
     "data": {
      "text/plain": "Validation: |          | 0/? [00:00<?, ?it/s]",
      "application/vnd.jupyter.widget-view+json": {
       "version_major": 2,
       "version_minor": 0,
       "model_id": ""
      }
     },
     "metadata": {}
    },
    {
     "name": "stderr",
     "text": "INFO: Metric val_loss improved by 26.431 >= min_delta = 0.0001. New best score: 271.920\n",
     "output_type": "stream"
    },
    {
     "output_type": "display_data",
     "data": {
      "text/plain": "Validation: |          | 0/? [00:00<?, ?it/s]",
      "application/vnd.jupyter.widget-view+json": {
       "version_major": 2,
       "version_minor": 0,
       "model_id": ""
      }
     },
     "metadata": {}
    },
    {
     "name": "stderr",
     "text": "INFO: Metric val_loss improved by 21.804 >= min_delta = 0.0001. New best score: 250.117\n",
     "output_type": "stream"
    },
    {
     "output_type": "display_data",
     "data": {
      "text/plain": "Validation: |          | 0/? [00:00<?, ?it/s]",
      "application/vnd.jupyter.widget-view+json": {
       "version_major": 2,
       "version_minor": 0,
       "model_id": ""
      }
     },
     "metadata": {}
    },
    {
     "name": "stderr",
     "text": "INFO: Metric val_loss improved by 17.768 >= min_delta = 0.0001. New best score: 232.349\n",
     "output_type": "stream"
    },
    {
     "output_type": "display_data",
     "data": {
      "text/plain": "Validation: |          | 0/? [00:00<?, ?it/s]",
      "application/vnd.jupyter.widget-view+json": {
       "version_major": 2,
       "version_minor": 0,
       "model_id": ""
      }
     },
     "metadata": {}
    },
    {
     "name": "stderr",
     "text": "INFO: Metric val_loss improved by 14.412 >= min_delta = 0.0001. New best score: 217.937\n",
     "output_type": "stream"
    },
    {
     "output_type": "display_data",
     "data": {
      "text/plain": "Validation: |          | 0/? [00:00<?, ?it/s]",
      "application/vnd.jupyter.widget-view+json": {
       "version_major": 2,
       "version_minor": 0,
       "model_id": ""
      }
     },
     "metadata": {}
    },
    {
     "name": "stderr",
     "text": "INFO: Metric val_loss improved by 18.593 >= min_delta = 0.0001. New best score: 199.345\n",
     "output_type": "stream"
    },
    {
     "output_type": "display_data",
     "data": {
      "text/plain": "Validation: |          | 0/? [00:00<?, ?it/s]",
      "application/vnd.jupyter.widget-view+json": {
       "version_major": 2,
       "version_minor": 0,
       "model_id": ""
      }
     },
     "metadata": {}
    },
    {
     "name": "stderr",
     "text": "INFO: Metric val_loss improved by 12.774 >= min_delta = 0.0001. New best score: 186.570\n",
     "output_type": "stream"
    },
    {
     "output_type": "display_data",
     "data": {
      "text/plain": "Validation: |          | 0/? [00:00<?, ?it/s]",
      "application/vnd.jupyter.widget-view+json": {
       "version_major": 2,
       "version_minor": 0,
       "model_id": ""
      }
     },
     "metadata": {}
    },
    {
     "name": "stderr",
     "text": "INFO: Metric val_loss improved by 10.863 >= min_delta = 0.0001. New best score: 175.708\n",
     "output_type": "stream"
    },
    {
     "output_type": "display_data",
     "data": {
      "text/plain": "Validation: |          | 0/? [00:00<?, ?it/s]",
      "application/vnd.jupyter.widget-view+json": {
       "version_major": 2,
       "version_minor": 0,
       "model_id": ""
      }
     },
     "metadata": {}
    },
    {
     "name": "stderr",
     "text": "INFO: Metric val_loss improved by 12.175 >= min_delta = 0.0001. New best score: 163.533\n",
     "output_type": "stream"
    },
    {
     "output_type": "display_data",
     "data": {
      "text/plain": "Validation: |          | 0/? [00:00<?, ?it/s]",
      "application/vnd.jupyter.widget-view+json": {
       "version_major": 2,
       "version_minor": 0,
       "model_id": ""
      }
     },
     "metadata": {}
    },
    {
     "name": "stderr",
     "text": "INFO: Metric val_loss improved by 12.809 >= min_delta = 0.0001. New best score: 150.724\n",
     "output_type": "stream"
    },
    {
     "output_type": "display_data",
     "data": {
      "text/plain": "Validation: |          | 0/? [00:00<?, ?it/s]",
      "application/vnd.jupyter.widget-view+json": {
       "version_major": 2,
       "version_minor": 0,
       "model_id": ""
      }
     },
     "metadata": {}
    },
    {
     "name": "stderr",
     "text": "INFO: Metric val_loss improved by 9.644 >= min_delta = 0.0001. New best score: 141.081\n",
     "output_type": "stream"
    },
    {
     "output_type": "display_data",
     "data": {
      "text/plain": "Validation: |          | 0/? [00:00<?, ?it/s]",
      "application/vnd.jupyter.widget-view+json": {
       "version_major": 2,
       "version_minor": 0,
       "model_id": ""
      }
     },
     "metadata": {}
    },
    {
     "name": "stderr",
     "text": "INFO: Metric val_loss improved by 9.810 >= min_delta = 0.0001. New best score: 131.270\n",
     "output_type": "stream"
    },
    {
     "output_type": "display_data",
     "data": {
      "text/plain": "Validation: |          | 0/? [00:00<?, ?it/s]",
      "application/vnd.jupyter.widget-view+json": {
       "version_major": 2,
       "version_minor": 0,
       "model_id": ""
      }
     },
     "metadata": {}
    },
    {
     "name": "stderr",
     "text": "INFO: Metric val_loss improved by 11.488 >= min_delta = 0.0001. New best score: 119.782\n",
     "output_type": "stream"
    },
    {
     "output_type": "display_data",
     "data": {
      "text/plain": "Validation: |          | 0/? [00:00<?, ?it/s]",
      "application/vnd.jupyter.widget-view+json": {
       "version_major": 2,
       "version_minor": 0,
       "model_id": ""
      }
     },
     "metadata": {}
    },
    {
     "name": "stderr",
     "text": "INFO: Metric val_loss improved by 2.540 >= min_delta = 0.0001. New best score: 117.241\n",
     "output_type": "stream"
    },
    {
     "output_type": "display_data",
     "data": {
      "text/plain": "Validation: |          | 0/? [00:00<?, ?it/s]",
      "application/vnd.jupyter.widget-view+json": {
       "version_major": 2,
       "version_minor": 0,
       "model_id": ""
      }
     },
     "metadata": {}
    },
    {
     "name": "stderr",
     "text": "INFO: Metric val_loss improved by 4.830 >= min_delta = 0.0001. New best score: 112.412\n",
     "output_type": "stream"
    },
    {
     "output_type": "display_data",
     "data": {
      "text/plain": "Validation: |          | 0/? [00:00<?, ?it/s]",
      "application/vnd.jupyter.widget-view+json": {
       "version_major": 2,
       "version_minor": 0,
       "model_id": ""
      }
     },
     "metadata": {}
    },
    {
     "name": "stderr",
     "text": "INFO: Metric val_loss improved by 6.078 >= min_delta = 0.0001. New best score: 106.334\n",
     "output_type": "stream"
    },
    {
     "output_type": "display_data",
     "data": {
      "text/plain": "Validation: |          | 0/? [00:00<?, ?it/s]",
      "application/vnd.jupyter.widget-view+json": {
       "version_major": 2,
       "version_minor": 0,
       "model_id": ""
      }
     },
     "metadata": {}
    },
    {
     "name": "stderr",
     "text": "INFO: Metric val_loss improved by 6.861 >= min_delta = 0.0001. New best score: 99.473\n",
     "output_type": "stream"
    },
    {
     "output_type": "display_data",
     "data": {
      "text/plain": "Validation: |          | 0/? [00:00<?, ?it/s]",
      "application/vnd.jupyter.widget-view+json": {
       "version_major": 2,
       "version_minor": 0,
       "model_id": ""
      }
     },
     "metadata": {}
    },
    {
     "name": "stderr",
     "text": "INFO: Metric val_loss improved by 2.039 >= min_delta = 0.0001. New best score: 97.434\n",
     "output_type": "stream"
    },
    {
     "output_type": "display_data",
     "data": {
      "text/plain": "Validation: |          | 0/? [00:00<?, ?it/s]",
      "application/vnd.jupyter.widget-view+json": {
       "version_major": 2,
       "version_minor": 0,
       "model_id": ""
      }
     },
     "metadata": {}
    },
    {
     "name": "stderr",
     "text": "INFO: Metric val_loss improved by 10.841 >= min_delta = 0.0001. New best score: 86.593\n",
     "output_type": "stream"
    },
    {
     "output_type": "display_data",
     "data": {
      "text/plain": "Validation: |          | 0/? [00:00<?, ?it/s]",
      "application/vnd.jupyter.widget-view+json": {
       "version_major": 2,
       "version_minor": 0,
       "model_id": ""
      }
     },
     "metadata": {}
    },
    {
     "output_type": "display_data",
     "data": {
      "text/plain": "Validation: |          | 0/? [00:00<?, ?it/s]",
      "application/vnd.jupyter.widget-view+json": {
       "version_major": 2,
       "version_minor": 0,
       "model_id": ""
      }
     },
     "metadata": {}
    },
    {
     "output_type": "display_data",
     "data": {
      "text/plain": "Validation: |          | 0/? [00:00<?, ?it/s]",
      "application/vnd.jupyter.widget-view+json": {
       "version_major": 2,
       "version_minor": 0,
       "model_id": ""
      }
     },
     "metadata": {}
    },
    {
     "output_type": "display_data",
     "data": {
      "text/plain": "Validation: |          | 0/? [00:00<?, ?it/s]",
      "application/vnd.jupyter.widget-view+json": {
       "version_major": 2,
       "version_minor": 0,
       "model_id": ""
      }
     },
     "metadata": {}
    },
    {
     "output_type": "display_data",
     "data": {
      "text/plain": "Validation: |          | 0/? [00:00<?, ?it/s]",
      "application/vnd.jupyter.widget-view+json": {
       "version_major": 2,
       "version_minor": 0,
       "model_id": ""
      }
     },
     "metadata": {}
    },
    {
     "name": "stderr",
     "text": "INFO: Metric val_loss improved by 0.384 >= min_delta = 0.0001. New best score: 86.209\n",
     "output_type": "stream"
    },
    {
     "output_type": "display_data",
     "data": {
      "text/plain": "Validation: |          | 0/? [00:00<?, ?it/s]",
      "application/vnd.jupyter.widget-view+json": {
       "version_major": 2,
       "version_minor": 0,
       "model_id": ""
      }
     },
     "metadata": {}
    },
    {
     "output_type": "display_data",
     "data": {
      "text/plain": "Validation: |          | 0/? [00:00<?, ?it/s]",
      "application/vnd.jupyter.widget-view+json": {
       "version_major": 2,
       "version_minor": 0,
       "model_id": ""
      }
     },
     "metadata": {}
    },
    {
     "output_type": "display_data",
     "data": {
      "text/plain": "Validation: |          | 0/? [00:00<?, ?it/s]",
      "application/vnd.jupyter.widget-view+json": {
       "version_major": 2,
       "version_minor": 0,
       "model_id": ""
      }
     },
     "metadata": {}
    },
    {
     "name": "stderr",
     "text": "INFO: Metric val_loss improved by 6.799 >= min_delta = 0.0001. New best score: 79.410\n",
     "output_type": "stream"
    },
    {
     "output_type": "display_data",
     "data": {
      "text/plain": "Validation: |          | 0/? [00:00<?, ?it/s]",
      "application/vnd.jupyter.widget-view+json": {
       "version_major": 2,
       "version_minor": 0,
       "model_id": ""
      }
     },
     "metadata": {}
    },
    {
     "output_type": "display_data",
     "data": {
      "text/plain": "Validation: |          | 0/? [00:00<?, ?it/s]",
      "application/vnd.jupyter.widget-view+json": {
       "version_major": 2,
       "version_minor": 0,
       "model_id": ""
      }
     },
     "metadata": {}
    },
    {
     "name": "stderr",
     "text": "INFO: Metric val_loss improved by 4.821 >= min_delta = 0.0001. New best score: 74.589\n",
     "output_type": "stream"
    },
    {
     "output_type": "display_data",
     "data": {
      "text/plain": "Validation: |          | 0/? [00:00<?, ?it/s]",
      "application/vnd.jupyter.widget-view+json": {
       "version_major": 2,
       "version_minor": 0,
       "model_id": ""
      }
     },
     "metadata": {}
    },
    {
     "output_type": "display_data",
     "data": {
      "text/plain": "Validation: |          | 0/? [00:00<?, ?it/s]",
      "application/vnd.jupyter.widget-view+json": {
       "version_major": 2,
       "version_minor": 0,
       "model_id": ""
      }
     },
     "metadata": {}
    },
    {
     "name": "stderr",
     "text": "INFO: Metric val_loss improved by 4.712 >= min_delta = 0.0001. New best score: 69.877\n",
     "output_type": "stream"
    },
    {
     "output_type": "display_data",
     "data": {
      "text/plain": "Validation: |          | 0/? [00:00<?, ?it/s]",
      "application/vnd.jupyter.widget-view+json": {
       "version_major": 2,
       "version_minor": 0,
       "model_id": ""
      }
     },
     "metadata": {}
    },
    {
     "name": "stderr",
     "text": "INFO: Metric val_loss improved by 0.425 >= min_delta = 0.0001. New best score: 69.452\n",
     "output_type": "stream"
    },
    {
     "output_type": "display_data",
     "data": {
      "text/plain": "Validation: |          | 0/? [00:00<?, ?it/s]",
      "application/vnd.jupyter.widget-view+json": {
       "version_major": 2,
       "version_minor": 0,
       "model_id": ""
      }
     },
     "metadata": {}
    },
    {
     "output_type": "display_data",
     "data": {
      "text/plain": "Validation: |          | 0/? [00:00<?, ?it/s]",
      "application/vnd.jupyter.widget-view+json": {
       "version_major": 2,
       "version_minor": 0,
       "model_id": ""
      }
     },
     "metadata": {}
    },
    {
     "name": "stderr",
     "text": "INFO: Metric val_loss improved by 0.326 >= min_delta = 0.0001. New best score: 69.126\n",
     "output_type": "stream"
    },
    {
     "output_type": "display_data",
     "data": {
      "text/plain": "Validation: |          | 0/? [00:00<?, ?it/s]",
      "application/vnd.jupyter.widget-view+json": {
       "version_major": 2,
       "version_minor": 0,
       "model_id": ""
      }
     },
     "metadata": {}
    },
    {
     "output_type": "display_data",
     "data": {
      "text/plain": "Validation: |          | 0/? [00:00<?, ?it/s]",
      "application/vnd.jupyter.widget-view+json": {
       "version_major": 2,
       "version_minor": 0,
       "model_id": ""
      }
     },
     "metadata": {}
    },
    {
     "name": "stderr",
     "text": "INFO: Metric val_loss improved by 0.673 >= min_delta = 0.0001. New best score: 68.453\n",
     "output_type": "stream"
    },
    {
     "output_type": "display_data",
     "data": {
      "text/plain": "Validation: |          | 0/? [00:00<?, ?it/s]",
      "application/vnd.jupyter.widget-view+json": {
       "version_major": 2,
       "version_minor": 0,
       "model_id": ""
      }
     },
     "metadata": {}
    },
    {
     "output_type": "display_data",
     "data": {
      "text/plain": "Validation: |          | 0/? [00:00<?, ?it/s]",
      "application/vnd.jupyter.widget-view+json": {
       "version_major": 2,
       "version_minor": 0,
       "model_id": ""
      }
     },
     "metadata": {}
    },
    {
     "name": "stderr",
     "text": "INFO: Metric val_loss improved by 2.686 >= min_delta = 0.0001. New best score: 65.767\n",
     "output_type": "stream"
    },
    {
     "output_type": "display_data",
     "data": {
      "text/plain": "Validation: |          | 0/? [00:00<?, ?it/s]",
      "application/vnd.jupyter.widget-view+json": {
       "version_major": 2,
       "version_minor": 0,
       "model_id": ""
      }
     },
     "metadata": {}
    },
    {
     "output_type": "display_data",
     "data": {
      "text/plain": "Validation: |          | 0/? [00:00<?, ?it/s]",
      "application/vnd.jupyter.widget-view+json": {
       "version_major": 2,
       "version_minor": 0,
       "model_id": ""
      }
     },
     "metadata": {}
    },
    {
     "output_type": "display_data",
     "data": {
      "text/plain": "Validation: |          | 0/? [00:00<?, ?it/s]",
      "application/vnd.jupyter.widget-view+json": {
       "version_major": 2,
       "version_minor": 0,
       "model_id": ""
      }
     },
     "metadata": {}
    },
    {
     "name": "stderr",
     "text": "INFO: Metric val_loss improved by 5.670 >= min_delta = 0.0001. New best score: 60.097\n",
     "output_type": "stream"
    },
    {
     "output_type": "display_data",
     "data": {
      "text/plain": "Validation: |          | 0/? [00:00<?, ?it/s]",
      "application/vnd.jupyter.widget-view+json": {
       "version_major": 2,
       "version_minor": 0,
       "model_id": ""
      }
     },
     "metadata": {}
    },
    {
     "name": "stderr",
     "text": "INFO: Metric val_loss improved by 3.045 >= min_delta = 0.0001. New best score: 57.051\n",
     "output_type": "stream"
    },
    {
     "output_type": "display_data",
     "data": {
      "text/plain": "Validation: |          | 0/? [00:00<?, ?it/s]",
      "application/vnd.jupyter.widget-view+json": {
       "version_major": 2,
       "version_minor": 0,
       "model_id": ""
      }
     },
     "metadata": {}
    },
    {
     "output_type": "display_data",
     "data": {
      "text/plain": "Validation: |          | 0/? [00:00<?, ?it/s]",
      "application/vnd.jupyter.widget-view+json": {
       "version_major": 2,
       "version_minor": 0,
       "model_id": ""
      }
     },
     "metadata": {}
    },
    {
     "output_type": "display_data",
     "data": {
      "text/plain": "Validation: |          | 0/? [00:00<?, ?it/s]",
      "application/vnd.jupyter.widget-view+json": {
       "version_major": 2,
       "version_minor": 0,
       "model_id": ""
      }
     },
     "metadata": {}
    },
    {
     "output_type": "display_data",
     "data": {
      "text/plain": "Validation: |          | 0/? [00:00<?, ?it/s]",
      "application/vnd.jupyter.widget-view+json": {
       "version_major": 2,
       "version_minor": 0,
       "model_id": ""
      }
     },
     "metadata": {}
    },
    {
     "output_type": "display_data",
     "data": {
      "text/plain": "Validation: |          | 0/? [00:00<?, ?it/s]",
      "application/vnd.jupyter.widget-view+json": {
       "version_major": 2,
       "version_minor": 0,
       "model_id": ""
      }
     },
     "metadata": {}
    },
    {
     "name": "stderr",
     "text": "INFO: Monitored metric val_loss did not improve in the last 5 records. Best score: 57.051. Signaling Trainer to stop.\n",
     "output_type": "stream"
    },
    {
     "name": "stdout",
     "text": "Mean absolute error: 7.9381\n",
     "output_type": "stream"
    }
   ],
   "execution_count": 43
  },
  {
   "cell_type": "code",
   "source": [
    "import warnings\n",
    "import pandas as pd\n",
    "import torch\n",
    "import lightning.pytorch as pl\n",
    "from lightning.pytorch.callbacks import EarlyStopping, LearningRateMonitor\n",
    "from pytorch_forecasting import TimeSeriesDataSet, GroupNormalizer, NHiTS, MQF2DistributionLoss\n",
    "from pytorch_forecasting.data import NaNLabelEncoder\n",
    "\n",
    "# 忽略 pandas 的 SettingWithCopyWarning\n",
    "warnings.simplefilter(\"ignore\", category=pd.errors.SettingWithCopyWarning)\n",
    "\n",
    "def main():\n",
    "    # 固定随机种子，保证结果可复现\n",
    "    pl.seed_everything(42, workers=True)\n",
    "\n",
    "    # 1. 加载数据\n",
    "    # 如果你使用 Kaggle 数据，请修改为相应路径\n",
    "    file_path = \"/kaggle/input/vhzmdd/AAPL_stock_data_with_indicators.csv\"\n",
    "    data = pd.read_csv(file_path)\n",
    "\n",
    "    # 2. 数据预处理\n",
    "    data[\"Date\"] = pd.to_datetime(data[\"Date\"], format=\"%Y/%m/%d\")\n",
    "    data = data.sort_values(\"Date\").reset_index(drop=True)\n",
    "    data[\"time_idx\"] = data.index + 1  # 时间索引从 1 开始\n",
    "    # 假设数据仅包含单只股票，将 stock_id 固定\n",
    "    data[\"stock_id\"] = \"AAPL\"\n",
    "    data[\"static\"] = data[\"stock_id\"]\n",
    "\n",
    "    # 剔除含异常字符串（如 \"#NAME?\"）的列\n",
    "    drop_cols = [col for col in data.columns if \"#NAME?\" in col]\n",
    "    if drop_cols:\n",
    "        print(f\"剔除异常列: {drop_cols}\")\n",
    "        data = data.drop(columns=drop_cols)\n",
    "\n",
    "    # 前向填充缺失值\n",
    "    data = data.fillna(method='ffill')\n",
    "\n",
    "    # 3. 设置采样参数\n",
    "    max_encoder_length = 30\n",
    "    max_prediction_length = 10\n",
    "    training_cutoff = data[\"time_idx\"].max() - (max_encoder_length + max_prediction_length)\n",
    "    print(f\"数据总长度: {data['time_idx'].max()}, 训练截止点: {training_cutoff}\")\n",
    "\n",
    "    # 4. 定义额外技术指标（请确保数据中包含对应的列，如 Open, High, Low 等）\n",
    "    additional_features = [\n",
    "        \"Open\", \"High\", \"Low\", \"Volume\", \"SMA_20\", \"EMA_20\", \"RSI_14\",\n",
    "        \"BB_Middle\", \"BB_Upper\", \"BB_Lower\", \"EMA_12\", \"EMA_26\",\n",
    "        \"MACD\", \"MACD_Signal\", \"ATR_14\", \"%K\", \"%D\", \"Momentum\", \"WMA_20\"\n",
    "    ]\n",
    "    known_reals = [\"time_idx\"] + additional_features\n",
    "\n",
    "    # 5. 构造训练集\n",
    "    training_data = data[data.time_idx <= training_cutoff]\n",
    "    training_dataset = TimeSeriesDataSet(\n",
    "        data=training_data,\n",
    "        time_idx=\"time_idx\",\n",
    "        target=\"Close\",\n",
    "        group_ids=[\"stock_id\"],\n",
    "        categorical_encoders={\"stock_id\": NaNLabelEncoder().fit(data[\"stock_id\"])},\n",
    "        static_categoricals=[\"static\"],\n",
    "        min_encoder_length=max_encoder_length,\n",
    "        max_encoder_length=max_encoder_length,\n",
    "        min_prediction_length=max_prediction_length,\n",
    "        max_prediction_length=max_prediction_length,\n",
    "        # 目标仅为 Close\n",
    "        time_varying_unknown_reals=[\"Close\"],\n",
    "        # 已知变量包含时间索引和额外技术指标\n",
    "        time_varying_known_reals=known_reals,\n",
    "        target_normalizer=GroupNormalizer(groups=[\"stock_id\"], transformation=\"softplus\"),\n",
    "        # 对 NHiTS 此处设置为 False，若需要可考虑设置为 True\n",
    "        add_relative_time_idx=False,\n",
    "        add_target_scales=True,\n",
    "        randomize_length=None,\n",
    "    )\n",
    "\n",
    "    # 构造验证集，起始位置设置为训练截止点之后\n",
    "    validation_dataset = TimeSeriesDataSet.from_dataset(\n",
    "        training_dataset, data, min_prediction_idx=training_cutoff + 1\n",
    "    )\n",
    "\n",
    "    batch_size = 64\n",
    "    train_dataloader = training_dataset.to_dataloader(train=True, batch_size=batch_size, num_workers=8)\n",
    "    val_dataloader = validation_dataset.to_dataloader(train=False, batch_size=batch_size, num_workers=8)\n",
    "\n",
    "    # 6. 设置回调：EarlyStopping与LearningRateMonitor\n",
    "    early_stop_callback = EarlyStopping(monitor=\"val_loss\", min_delta=1e-4, patience=10, verbose=False, mode=\"min\")\n",
    "    lr_logger = LearningRateMonitor(logging_interval=\"epoch\")\n",
    "\n",
    "    trainer = pl.Trainer(\n",
    "        max_epochs=10,\n",
    "        accelerator=\"gpu\",  # 如无 GPU，可设置为 \"cpu\"\n",
    "        enable_model_summary=True,\n",
    "        gradient_clip_val=1.0,\n",
    "        callbacks=[lr_logger, early_stop_callback],\n",
    "        limit_train_batches=30,\n",
    "        enable_checkpointing=True,\n",
    "    )\n",
    "\n",
    "    # 7. 构造 NHiTS 模型\n",
    "    net = NHiTS.from_dataset(\n",
    "        training_dataset,\n",
    "        learning_rate=5e-3,\n",
    "        log_interval=10,\n",
    "        log_val_interval=1,\n",
    "        weight_decay=1e-2,\n",
    "        backcast_loss_ratio=0.0,\n",
    "        hidden_size=64,\n",
    "        optimizer=\"AdamW\",\n",
    "        loss=MQF2DistributionLoss(prediction_length=max_prediction_length),\n",
    "    )\n",
    "\n",
    "    print(f\"模型参数数量: {net.size() / 1e3:.1f}k\")\n",
    "    torch.set_num_threads(10)\n",
    "    \n",
    "    # 8. 开始训练\n",
    "    trainer.fit(\n",
    "        net,\n",
    "        train_dataloaders=train_dataloader,\n",
    "        val_dataloaders=val_dataloader,\n",
    "    )\n",
    "\n",
    "    # 9. 验证集预测与误差计算（此处以平均绝对误差 MAE 为例，注意数据为归一化后的结果）\n",
    "    actuals = torch.cat([y for x, (y, weight) in iter(val_dataloader)])\n",
    "    predictions = net.predict(val_dataloader)\n",
    "    device = predictions.device\n",
    "    actuals = actuals.to(device)\n",
    "    mae = (actuals - predictions).abs().mean()\n",
    "    print(f\"Mean absolute error of model: {mae.item():.4f}\")\n",
    "\n",
    "if __name__ == '__main__':\n",
    "    main()"
   ],
   "metadata": {
    "trusted": true,
    "execution": {
     "iopub.status.busy": "2025-05-06T05:29:26.706480Z",
     "iopub.execute_input": "2025-05-06T05:29:26.706772Z",
     "iopub.status.idle": "2025-05-06T05:30:37.719833Z",
     "shell.execute_reply.started": "2025-05-06T05:29:26.706749Z",
     "shell.execute_reply": "2025-05-06T05:30:37.718816Z"
    }
   },
   "outputs": [
    {
     "name": "stderr",
     "text": "INFO: Seed set to 42\n/tmp/ipykernel_125/4203790303.py:36: FutureWarning: DataFrame.fillna with 'method' is deprecated and will raise in a future version. Use obj.ffill() or obj.bfill() instead.\n  data = data.fillna(method='ffill')\n/usr/local/lib/python3.11/dist-packages/torch/utils/data/dataloader.py:617: UserWarning: This DataLoader will create 8 worker processes in total. Our suggested max number of worker in current system is 4, which is smaller than what this DataLoader is going to create. Please be aware that excessive worker creation might get DataLoader running slow or even freeze, lower the worker number to avoid potential slowness/freeze if necessary.\n  warnings.warn(\nINFO: Using default `ModelCheckpoint`. Consider installing `litmodels` package to enable `LitModelCheckpoint` for automatic upload to the Lightning model registry.\nINFO: GPU available: True (cuda), used: True\nINFO: TPU available: False, using: 0 TPU cores\nINFO: HPU available: False, using: 0 HPUs\n",
     "output_type": "stream"
    },
    {
     "name": "stdout",
     "text": "剔除异常列: ['#NAME?', '#NAME?.1']\n数据总长度: 1437, 训练截止点: 1397\n",
     "output_type": "stream"
    },
    {
     "name": "stderr",
     "text": "/usr/local/lib/python3.11/dist-packages/lightning/pytorch/utilities/parsing.py:209: Attribute 'loss' is an instance of `nn.Module` and is already saved during checkpointing. It is recommended to ignore them using `self.save_hyperparameters(ignore=['loss'])`.\n/usr/local/lib/python3.11/dist-packages/lightning/pytorch/utilities/parsing.py:209: Attribute 'logging_metrics' is an instance of `nn.Module` and is already saved during checkpointing. It is recommended to ignore them using `self.save_hyperparameters(ignore=['logging_metrics'])`.\nINFO: LOCAL_RANK: 0 - CUDA_VISIBLE_DEVICES: [0]\nINFO: \n  | Name            | Type                 | Params | Mode \n-----------------------------------------------------------------\n0 | loss            | MQF2DistributionLoss | 3.5 K  | train\n1 | logging_metrics | ModuleList           | 0      | train\n2 | embeddings      | MultiEmbedding       | 1      | train\n3 | model           | NHiTS                | 192 K  | train\n-----------------------------------------------------------------\n196 K     Trainable params\n0         Non-trainable params\n196 K     Total params\n0.785     Total estimated model params size (MB)\n79        Modules in train mode\n0         Modules in eval mode\n",
     "output_type": "stream"
    },
    {
     "name": "stdout",
     "text": "模型参数数量: 196.2k\n",
     "output_type": "stream"
    },
    {
     "output_type": "display_data",
     "data": {
      "text/plain": "Sanity Checking: |          | 0/? [00:00<?, ?it/s]",
      "application/vnd.jupyter.widget-view+json": {
       "version_major": 2,
       "version_minor": 0,
       "model_id": ""
      }
     },
     "metadata": {}
    },
    {
     "name": "stderr",
     "text": "/usr/local/lib/python3.11/dist-packages/lightning/pytorch/loops/fit_loop.py:310: The number of training batches (21) is smaller than the logging interval Trainer(log_every_n_steps=50). Set a lower value for log_every_n_steps if you want to see logs for the training epoch.\n",
     "output_type": "stream"
    },
    {
     "output_type": "display_data",
     "data": {
      "text/plain": "Training: |          | 0/? [00:00<?, ?it/s]",
      "application/vnd.jupyter.widget-view+json": {
       "version_major": 2,
       "version_minor": 0,
       "model_id": "a4d245e3db8f43b2ab3463394a62d160"
      }
     },
     "metadata": {}
    },
    {
     "output_type": "display_data",
     "data": {
      "text/plain": "Validation: |          | 0/? [00:00<?, ?it/s]",
      "application/vnd.jupyter.widget-view+json": {
       "version_major": 2,
       "version_minor": 0,
       "model_id": ""
      }
     },
     "metadata": {}
    },
    {
     "output_type": "display_data",
     "data": {
      "text/plain": "Validation: |          | 0/? [00:00<?, ?it/s]",
      "application/vnd.jupyter.widget-view+json": {
       "version_major": 2,
       "version_minor": 0,
       "model_id": ""
      }
     },
     "metadata": {}
    },
    {
     "output_type": "display_data",
     "data": {
      "text/plain": "Validation: |          | 0/? [00:00<?, ?it/s]",
      "application/vnd.jupyter.widget-view+json": {
       "version_major": 2,
       "version_minor": 0,
       "model_id": ""
      }
     },
     "metadata": {}
    },
    {
     "name": "stderr",
     "text": "Exception in thread QueueFeederThread:\nTraceback (most recent call last):\n  File \"/usr/lib/python3.11/multiprocessing/queues.py\", line 239, in _feed\n    reader_close()\n  File \"/usr/lib/python3.11/multiprocessing/connection.py\", line 178, in close\n    self._close()\n  File \"/usr/lib/python3.11/multiprocessing/connection.py\", line 377, in _close\n    _close(self._handle)\nOSError: [Errno 9] Bad file descriptor\n\nDuring handling of the above exception, another exception occurred:\n\nTraceback (most recent call last):\n  File \"/usr/lib/python3.11/threading.py\", line 1045, in _bootstrap_inner\n    self.run()\n  File \"/usr/lib/python3.11/threading.py\", line 982, in run\n    self._target(*self._args, **self._kwargs)\n  File \"/usr/lib/python3.11/multiprocessing/queues.py\", line 271, in _feed\n    queue_sem.release()\nValueError: semaphore or lock released too many times\nException in thread QueueFeederThread:\nTraceback (most recent call last):\n  File \"/usr/lib/python3.11/multiprocessing/queues.py\", line 239, in _feed\n    reader_close()\n  File \"/usr/lib/python3.11/multiprocessing/connection.py\", line 178, in close\n    self._close()\n  File \"/usr/lib/python3.11/multiprocessing/connection.py\", line 377, in _close\n    _close(self._handle)\nOSError: [Errno 9] Bad file descriptor\n\nDuring handling of the above exception, another exception occurred:\n\nTraceback (most recent call last):\n  File \"/usr/lib/python3.11/threading.py\", line 1045, in _bootstrap_inner\n    self.run()\n  File \"/usr/lib/python3.11/threading.py\", line 982, in run\n    self._target(*self._args, **self._kwargs)\n  File \"/usr/lib/python3.11/multiprocessing/queues.py\", line 271, in _feed\n    queue_sem.release()\nValueError: semaphore or lock released too many times\nException in thread QueueFeederThread:\nTraceback (most recent call last):\n  File \"/usr/lib/python3.11/multiprocessing/queues.py\", line 239, in _feed\n    reader_close()\n  File \"/usr/lib/python3.11/multiprocessing/connection.py\", line 178, in close\n    self._close()\n  File \"/usr/lib/python3.11/multiprocessing/connection.py\", line 377, in _close\n    _close(self._handle)\nOSError: [Errno 9] Bad file descriptor\n\nDuring handling of the above exception, another exception occurred:\n\nTraceback (most recent call last):\n  File \"/usr/lib/python3.11/threading.py\", line 1045, in _bootstrap_inner\n    self.run()\n  File \"/usr/lib/python3.11/threading.py\", line 982, in run\n    self._target(*self._args, **self._kwargs)\n  File \"/usr/lib/python3.11/multiprocessing/queues.py\", line 271, in _feed\n    queue_sem.release()\nValueError: semaphore or lock released too many times\n",
     "output_type": "stream"
    },
    {
     "output_type": "display_data",
     "data": {
      "text/plain": "Validation: |          | 0/? [00:00<?, ?it/s]",
      "application/vnd.jupyter.widget-view+json": {
       "version_major": 2,
       "version_minor": 0,
       "model_id": ""
      }
     },
     "metadata": {}
    },
    {
     "output_type": "display_data",
     "data": {
      "text/plain": "Validation: |          | 0/? [00:00<?, ?it/s]",
      "application/vnd.jupyter.widget-view+json": {
       "version_major": 2,
       "version_minor": 0,
       "model_id": ""
      }
     },
     "metadata": {}
    },
    {
     "output_type": "display_data",
     "data": {
      "text/plain": "Validation: |          | 0/? [00:00<?, ?it/s]",
      "application/vnd.jupyter.widget-view+json": {
       "version_major": 2,
       "version_minor": 0,
       "model_id": ""
      }
     },
     "metadata": {}
    },
    {
     "output_type": "display_data",
     "data": {
      "text/plain": "Validation: |          | 0/? [00:00<?, ?it/s]",
      "application/vnd.jupyter.widget-view+json": {
       "version_major": 2,
       "version_minor": 0,
       "model_id": ""
      }
     },
     "metadata": {}
    },
    {
     "output_type": "display_data",
     "data": {
      "text/plain": "Validation: |          | 0/? [00:00<?, ?it/s]",
      "application/vnd.jupyter.widget-view+json": {
       "version_major": 2,
       "version_minor": 0,
       "model_id": ""
      }
     },
     "metadata": {}
    },
    {
     "output_type": "display_data",
     "data": {
      "text/plain": "Validation: |          | 0/? [00:00<?, ?it/s]",
      "application/vnd.jupyter.widget-view+json": {
       "version_major": 2,
       "version_minor": 0,
       "model_id": ""
      }
     },
     "metadata": {}
    },
    {
     "output_type": "display_data",
     "data": {
      "text/plain": "Validation: |          | 0/? [00:00<?, ?it/s]",
      "application/vnd.jupyter.widget-view+json": {
       "version_major": 2,
       "version_minor": 0,
       "model_id": ""
      }
     },
     "metadata": {}
    },
    {
     "name": "stderr",
     "text": "INFO: `Trainer.fit` stopped: `max_epochs=10` reached.\nINFO: Using default `ModelCheckpoint`. Consider installing `litmodels` package to enable `LitModelCheckpoint` for automatic upload to the Lightning model registry.\nINFO: GPU available: True (cuda), used: True\nINFO: TPU available: False, using: 0 TPU cores\nINFO: HPU available: False, using: 0 HPUs\nINFO: LOCAL_RANK: 0 - CUDA_VISIBLE_DEVICES: [0]\n",
     "output_type": "stream"
    },
    {
     "name": "stdout",
     "text": "Mean absolute error of model: 3.1569\n",
     "output_type": "stream"
    }
   ],
   "execution_count": 46
  },
  {
   "cell_type": "code",
   "source": [
    "!pip install cpflows"
   ],
   "metadata": {
    "trusted": true,
    "execution": {
     "iopub.status.busy": "2025-05-06T05:29:16.071731Z",
     "iopub.execute_input": "2025-05-06T05:29:16.072430Z",
     "iopub.status.idle": "2025-05-06T05:29:23.332839Z",
     "shell.execute_reply.started": "2025-05-06T05:29:16.072408Z",
     "shell.execute_reply": "2025-05-06T05:29:23.331832Z"
    }
   },
   "outputs": [
    {
     "name": "stdout",
     "text": "Collecting cpflows\n  Downloading cpflows-0.1.2.tar.gz (42 kB)\n\u001B[2K     \u001B[90m━━━━━━━━━━━━━━━━━━━━━━━━━━━━━━━━━━━━━━━━\u001B[0m \u001B[32m42.9/42.9 kB\u001B[0m \u001B[31m2.7 MB/s\u001B[0m eta \u001B[36m0:00:00\u001B[0m\n\u001B[?25h  Preparing metadata (setup.py) ... \u001B[?25l\u001B[?25hdone\nCollecting backports.functools-lru-cache>=1.6.1 (from cpflows)\n  Downloading backports.functools_lru_cache-2.0.0-py2.py3-none-any.whl.metadata (3.5 kB)\nRequirement already satisfied: cycler>=0.10.0 in /usr/local/lib/python3.11/dist-packages (from cpflows) (0.12.1)\nRequirement already satisfied: future>=0.17.1 in /usr/local/lib/python3.11/dist-packages (from cpflows) (1.0.0)\nRequirement already satisfied: kiwisolver>=1.1.0 in /usr/local/lib/python3.11/dist-packages (from cpflows) (1.4.8)\nRequirement already satisfied: matplotlib>=3.0 in /usr/local/lib/python3.11/dist-packages (from cpflows) (3.7.5)\nRequirement already satisfied: numpy>=1.16 in /usr/local/lib/python3.11/dist-packages (from cpflows) (1.26.4)\nRequirement already satisfied: pandas>=1.0 in /usr/local/lib/python3.11/dist-packages (from cpflows) (2.2.3)\nRequirement already satisfied: pyparsing>=2.4.7 in /usr/local/lib/python3.11/dist-packages (from cpflows) (3.2.1)\nRequirement already satisfied: python-dateutil>=2.8.1 in /usr/local/lib/python3.11/dist-packages (from cpflows) (2.9.0.post0)\nRequirement already satisfied: pytz>=2020.1 in /usr/local/lib/python3.11/dist-packages (from cpflows) (2025.2)\nRequirement already satisfied: scikit-learn in /usr/local/lib/python3.11/dist-packages (from cpflows) (1.2.2)\nRequirement already satisfied: scipy in /usr/local/lib/python3.11/dist-packages (from cpflows) (1.15.2)\nRequirement already satisfied: seaborn>=0.9.1 in /usr/local/lib/python3.11/dist-packages (from cpflows) (0.12.2)\nRequirement already satisfied: six>=1.15.0 in /usr/local/lib/python3.11/dist-packages (from cpflows) (1.17.0)\nCollecting subprocess32>=3.5.3 (from cpflows)\n  Downloading subprocess32-3.5.4.tar.gz (97 kB)\n\u001B[2K     \u001B[90m━━━━━━━━━━━━━━━━━━━━━━━━━━━━━━━━━━━━━━━━\u001B[0m \u001B[32m97.4/97.4 kB\u001B[0m \u001B[31m6.1 MB/s\u001B[0m eta \u001B[36m0:00:00\u001B[0m\n\u001B[?25h  Preparing metadata (setup.py) ... \u001B[?25l\u001B[?25hdone\nRequirement already satisfied: torch>=1.9 in /usr/local/lib/python3.11/dist-packages (from cpflows) (2.5.1+cu124)\nRequirement already satisfied: torchvision in /usr/local/lib/python3.11/dist-packages (from cpflows) (0.20.1+cu124)\nRequirement already satisfied: tqdm>=4.23 in /usr/local/lib/python3.11/dist-packages (from cpflows) (4.67.1)\nRequirement already satisfied: h5py in /usr/local/lib/python3.11/dist-packages (from cpflows) (3.12.1)\nRequirement already satisfied: contourpy>=1.0.1 in /usr/local/lib/python3.11/dist-packages (from matplotlib>=3.0->cpflows) (1.3.1)\nRequirement already satisfied: fonttools>=4.22.0 in /usr/local/lib/python3.11/dist-packages (from matplotlib>=3.0->cpflows) (4.56.0)\nRequirement already satisfied: packaging>=20.0 in /usr/local/lib/python3.11/dist-packages (from matplotlib>=3.0->cpflows) (24.2)\nRequirement already satisfied: pillow>=6.2.0 in /usr/local/lib/python3.11/dist-packages (from matplotlib>=3.0->cpflows) (11.1.0)\nRequirement already satisfied: mkl_fft in /usr/local/lib/python3.11/dist-packages (from numpy>=1.16->cpflows) (1.3.8)\nRequirement already satisfied: mkl_random in /usr/local/lib/python3.11/dist-packages (from numpy>=1.16->cpflows) (1.2.4)\nRequirement already satisfied: mkl_umath in /usr/local/lib/python3.11/dist-packages (from numpy>=1.16->cpflows) (0.1.1)\nRequirement already satisfied: mkl in /usr/local/lib/python3.11/dist-packages (from numpy>=1.16->cpflows) (2025.1.0)\nRequirement already satisfied: tbb4py in /usr/local/lib/python3.11/dist-packages (from numpy>=1.16->cpflows) (2022.1.0)\nRequirement already satisfied: mkl-service in /usr/local/lib/python3.11/dist-packages (from numpy>=1.16->cpflows) (2.4.1)\nRequirement already satisfied: tzdata>=2022.7 in /usr/local/lib/python3.11/dist-packages (from pandas>=1.0->cpflows) (2025.2)\nRequirement already satisfied: filelock in /usr/local/lib/python3.11/dist-packages (from torch>=1.9->cpflows) (3.18.0)\nRequirement already satisfied: typing-extensions>=4.8.0 in /usr/local/lib/python3.11/dist-packages (from torch>=1.9->cpflows) (4.13.1)\nRequirement already satisfied: networkx in /usr/local/lib/python3.11/dist-packages (from torch>=1.9->cpflows) (3.4.2)\nRequirement already satisfied: jinja2 in /usr/local/lib/python3.11/dist-packages (from torch>=1.9->cpflows) (3.1.6)\nRequirement already satisfied: fsspec in /usr/local/lib/python3.11/dist-packages (from torch>=1.9->cpflows) (2025.3.2)\nRequirement already satisfied: nvidia-cuda-nvrtc-cu12==12.4.127 in /usr/local/lib/python3.11/dist-packages (from torch>=1.9->cpflows) (12.4.127)\nRequirement already satisfied: nvidia-cuda-runtime-cu12==12.4.127 in /usr/local/lib/python3.11/dist-packages (from torch>=1.9->cpflows) (12.4.127)\nRequirement already satisfied: nvidia-cuda-cupti-cu12==12.4.127 in /usr/local/lib/python3.11/dist-packages (from torch>=1.9->cpflows) (12.4.127)\nRequirement already satisfied: nvidia-cudnn-cu12==9.1.0.70 in /usr/local/lib/python3.11/dist-packages (from torch>=1.9->cpflows) (9.1.0.70)\nRequirement already satisfied: nvidia-cublas-cu12==12.4.5.8 in /usr/local/lib/python3.11/dist-packages (from torch>=1.9->cpflows) (12.4.5.8)\nRequirement already satisfied: nvidia-cufft-cu12==11.2.1.3 in /usr/local/lib/python3.11/dist-packages (from torch>=1.9->cpflows) (11.2.1.3)\nRequirement already satisfied: nvidia-curand-cu12==10.3.5.147 in /usr/local/lib/python3.11/dist-packages (from torch>=1.9->cpflows) (10.3.5.147)\nRequirement already satisfied: nvidia-cusolver-cu12==11.6.1.9 in /usr/local/lib/python3.11/dist-packages (from torch>=1.9->cpflows) (11.6.1.9)\nRequirement already satisfied: nvidia-cusparse-cu12==12.3.1.170 in /usr/local/lib/python3.11/dist-packages (from torch>=1.9->cpflows) (12.3.1.170)\nRequirement already satisfied: nvidia-nccl-cu12==2.21.5 in /usr/local/lib/python3.11/dist-packages (from torch>=1.9->cpflows) (2.21.5)\nRequirement already satisfied: nvidia-nvtx-cu12==12.4.127 in /usr/local/lib/python3.11/dist-packages (from torch>=1.9->cpflows) (12.4.127)\nRequirement already satisfied: nvidia-nvjitlink-cu12==12.4.127 in /usr/local/lib/python3.11/dist-packages (from torch>=1.9->cpflows) (12.4.127)\nRequirement already satisfied: triton==3.1.0 in /usr/local/lib/python3.11/dist-packages (from torch>=1.9->cpflows) (3.1.0)\nRequirement already satisfied: sympy==1.13.1 in /usr/local/lib/python3.11/dist-packages (from torch>=1.9->cpflows) (1.13.1)\nRequirement already satisfied: mpmath<1.4,>=1.1.0 in /usr/local/lib/python3.11/dist-packages (from sympy==1.13.1->torch>=1.9->cpflows) (1.3.0)\nRequirement already satisfied: joblib>=1.1.1 in /usr/local/lib/python3.11/dist-packages (from scikit-learn->cpflows) (1.4.2)\nRequirement already satisfied: threadpoolctl>=2.0.0 in /usr/local/lib/python3.11/dist-packages (from scikit-learn->cpflows) (3.6.0)\nRequirement already satisfied: MarkupSafe>=2.0 in /usr/local/lib/python3.11/dist-packages (from jinja2->torch>=1.9->cpflows) (3.0.2)\nRequirement already satisfied: intel-openmp<2026,>=2024 in /usr/local/lib/python3.11/dist-packages (from mkl->numpy>=1.16->cpflows) (2024.2.0)\nRequirement already satisfied: tbb==2022.* in /usr/local/lib/python3.11/dist-packages (from mkl->numpy>=1.16->cpflows) (2022.1.0)\nRequirement already satisfied: tcmlib==1.* in /usr/local/lib/python3.11/dist-packages (from tbb==2022.*->mkl->numpy>=1.16->cpflows) (1.2.0)\nRequirement already satisfied: intel-cmplr-lib-rt in /usr/local/lib/python3.11/dist-packages (from mkl_umath->numpy>=1.16->cpflows) (2024.2.0)\nRequirement already satisfied: intel-cmplr-lib-ur==2024.2.0 in /usr/local/lib/python3.11/dist-packages (from intel-openmp<2026,>=2024->mkl->numpy>=1.16->cpflows) (2024.2.0)\nDownloading backports.functools_lru_cache-2.0.0-py2.py3-none-any.whl (6.7 kB)\nBuilding wheels for collected packages: cpflows, subprocess32\n  Building wheel for cpflows (setup.py) ... \u001B[?25l\u001B[?25hdone\n  Created wheel for cpflows: filename=cpflows-0.1.2-py3-none-any.whl size=54295 sha256=b10cd662e761a9011a62e084c8e8c52e2b649128c2fed3a33e0618a19fa9bae8\n  Stored in directory: /root/.cache/pip/wheels/49/00/ad/0b1b6c1e1ea1b85f7aa4eaefb0cf3890c2fd2b5c5465f10757\n  Building wheel for subprocess32 (setup.py) ... \u001B[?25l\u001B[?25hdone\n  Created wheel for subprocess32: filename=subprocess32-3.5.4-py3-none-any.whl size=6489 sha256=87f9196a56900623989a644771bf529e2dbf9aeaf4ac1c1dc13547f1f834a9cb\n  Stored in directory: /root/.cache/pip/wheels/38/b6/54/4477e68f0e313dd4c43b79e6ed43bdcf12abe7626d6d81b369\nSuccessfully built cpflows subprocess32\nInstalling collected packages: subprocess32, backports.functools-lru-cache, cpflows\nSuccessfully installed backports.functools-lru-cache-2.0.0 cpflows-0.1.2 subprocess32-3.5.4\n",
     "output_type": "stream"
    }
   ],
   "execution_count": 45
  }
 ]
}
